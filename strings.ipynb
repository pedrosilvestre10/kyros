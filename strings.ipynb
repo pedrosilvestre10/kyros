{
 "cells": [
  {
   "cell_type": "markdown",
   "metadata": {},
   "source": [
    "# 1"
   ]
  },
  {
   "cell_type": "code",
   "execution_count": null,
   "metadata": {},
   "outputs": [],
   "source": [
    "print('Compara duas strings')\n",
    "string1 = input('String 1: ')\n",
    "string2 = input('String 2: ')\n",
    "\n",
    "print('Tamanho de \"%s\": %d caracteres' % (string1, len(string1)))\n",
    "print('Tamanho de \"%s\": %d caracteres' % (string2, len(string2)))\n",
    "\n",
    "if (len(string1) != len(string2)):\n",
    "    print('As duas strings sao de tamanhos diferentes')\n",
    "    print('As duas strings possuem conteudo diferente')\n",
    "else:\n",
    "    print('As duas strings tem tamanho igual')\n",
    "    if (string1 == string2):\n",
    "        print('As duas strings possuem o mesmo conteudo')\n",
    "    else:\n",
    "        print('As duas strings possuem conteudo diferente')"
   ]
  },
  {
   "cell_type": "markdown",
   "metadata": {},
   "source": [
    "# 2"
   ]
  },
  {
   "cell_type": "code",
   "execution_count": 4,
   "metadata": {},
   "outputs": [
    {
     "name": "stdout",
     "output_type": "stream",
     "text": [
      "Informe seu nome: pedro\n",
      "ORDEP\n"
     ]
    }
   ],
   "source": [
    "nome = input('Informe seu nome: ')\n",
    "print(nome.upper()[::-1])"
   ]
  },
  {
   "cell_type": "markdown",
   "metadata": {},
   "source": [
    "# 3"
   ]
  },
  {
   "cell_type": "code",
   "execution_count": 5,
   "metadata": {},
   "outputs": [
    {
     "name": "stdout",
     "output_type": "stream",
     "text": [
      "Informe seu nome: pedro\n",
      "p\n",
      "e\n",
      "d\n",
      "r\n",
      "o\n"
     ]
    }
   ],
   "source": [
    "nome = input('Informe seu nome: ')\n",
    "for i in range(0, len(nome)):\n",
    "    print(nome[i])"
   ]
  },
  {
   "cell_type": "markdown",
   "metadata": {},
   "source": [
    "# 4"
   ]
  },
  {
   "cell_type": "code",
   "execution_count": 6,
   "metadata": {},
   "outputs": [
    {
     "name": "stdout",
     "output_type": "stream",
     "text": [
      "Informe seu nome: pedro\n",
      "p\n",
      "e\n",
      "e\n",
      "d\n",
      "d\n",
      "d\n",
      "r\n",
      "r\n",
      "r\n",
      "r\n",
      "o\n",
      "o\n",
      "o\n",
      "o\n",
      "o\n"
     ]
    }
   ],
   "source": [
    "nome = input('Informe seu nome: ')\n",
    "for i in range(0, len(nome)):\n",
    "    for j in range(0, i + 1):\n",
    "        print(nome[i])\n",
    "    print"
   ]
  },
  {
   "cell_type": "markdown",
   "metadata": {},
   "source": [
    "# 5"
   ]
  },
  {
   "cell_type": "code",
   "execution_count": 3,
   "metadata": {},
   "outputs": [
    {
     "name": "stdout",
     "output_type": "stream",
     "text": [
      "Informe seu nome: pedro\n",
      "p\n",
      "e\n",
      "d\n",
      "r\n",
      "o\n",
      "p\n",
      "e\n",
      "d\n",
      "r\n",
      "p\n",
      "e\n",
      "d\n",
      "p\n",
      "e\n",
      "p\n"
     ]
    }
   ],
   "source": [
    "nome = input('Informe seu nome: ')\n",
    "for i in range(len(nome) - 1, -1, -1):\n",
    "    for j in range(0, i + 1):\n",
    "        print(nome[j])\n",
    "    print"
   ]
  },
  {
   "cell_type": "markdown",
   "metadata": {},
   "source": [
    "# 6"
   ]
  },
  {
   "cell_type": "code",
   "execution_count": 7,
   "metadata": {},
   "outputs": [
    {
     "name": "stdout",
     "output_type": "stream",
     "text": [
      "Informe uma data no formato dd/mm/yyyy: 01/01/2000\n",
      "1 de Janeiro de 2000\n"
     ]
    }
   ],
   "source": [
    "import re\n",
    "\n",
    "\n",
    "def validaData(dia, mes, ano):\n",
    "    # Valida o dia\n",
    "    if (dia < 0) or (dia > 31):\n",
    "        return False\n",
    "\n",
    "    # Valida mes com 30 dias\n",
    "    meses30 = (4, 6, 9, 11)\n",
    "    if (mes in meses30):\n",
    "        if (dia > 30):\n",
    "            return False\n",
    "\n",
    "    # Valida fevereiro e anos bissextos\n",
    "    if (mes == 2):\n",
    "        if (dia > 28):\n",
    "            if (ano % 4 != 0):\n",
    "                return False\n",
    "            elif (ano % 100 == 0) and (ano % 1000 != 0):\n",
    "                return False\n",
    "\n",
    "    return True\n",
    "\n",
    "\n",
    "def dataPorExtenso(data):\n",
    "    # Valida o formato da data por expressao regular\n",
    "    reg = re.compile('^[0-9]{2}\\/[0-9]{2}\\/[0-9]{4}$')\n",
    "    if (not (reg.match(data))):\n",
    "        print('Data invalida')\n",
    "        return None\n",
    "\n",
    "    dia = int(data[:2])\n",
    "    mes = int(data[3:5])\n",
    "    ano = int(data[6:])\n",
    "\n",
    "    if (not validaData(dia, mes, ano)):\n",
    "        return None\n",
    "\n",
    "    mesExtenso = ('Janeiro', 'Fevereiro', 'Marco', 'Abril', 'Maio', 'Junho',\n",
    "                  'Julho', 'Agosto', 'Setembro', 'Outubro', 'Novembro',\n",
    "                  'Dezembro')\n",
    "\n",
    "    return '%d de %s de %d' % (dia, mesExtenso[mes - 1], ano)\n",
    "\n",
    "# Fluxo Principal\n",
    "\n",
    "data = input('Informe uma data no formato dd/mm/yyyy: ')\n",
    "print(dataPorExtenso(data))"
   ]
  },
  {
   "cell_type": "markdown",
   "metadata": {},
   "source": [
    "# 7"
   ]
  },
  {
   "cell_type": "code",
   "execution_count": 8,
   "metadata": {},
   "outputs": [
    {
     "name": "stdout",
     "output_type": "stream",
     "text": [
      "Informe uma string: dfdf\n",
      "0 espacos e 0 vogais\n"
     ]
    }
   ],
   "source": [
    "string = input('Informe uma string: ')\n",
    "\n",
    "espacos = 0\n",
    "vogais = 0\n",
    "for i in string:\n",
    "    if ('AEIOU'.find(i.upper()) >= 0):\n",
    "        vogais += 1\n",
    "    elif (i == ' '):\n",
    "        espacos += 1\n",
    "\n",
    "print('%d espacos e %d vogais' % (espacos, vogais))"
   ]
  },
  {
   "cell_type": "markdown",
   "metadata": {},
   "source": [
    "# 8"
   ]
  },
  {
   "cell_type": "code",
   "execution_count": null,
   "metadata": {},
   "outputs": [],
   "source": [
    "string = input('Informe uma string: ').upper()\n",
    "contrario = string[::-1]\n",
    "\n",
    "if (string.replace(' ', '') == contrario.replace(' ', '')):\n",
    "    print('A string eh um palindromo')\n",
    "else:\n",
    "    print('A string NAO eh um palindromo')"
   ]
  },
  {
   "cell_type": "markdown",
   "metadata": {},
   "source": [
    "# 9"
   ]
  },
  {
   "cell_type": "code",
   "execution_count": 11,
   "metadata": {},
   "outputs": [
    {
     "name": "stdout",
     "output_type": "stream",
     "text": [
      "Informe o CPF: 1231231\n",
      "CPF INVALIDO\n"
     ]
    }
   ],
   "source": [
    "def validaCPF(cpf):\n",
    "\n",
    "    cpf = cpf.replace('.', '')\n",
    "    cpf = cpf.replace('-', '')\n",
    "    if (len(cpf) != 11):\n",
    "        return False\n",
    "\n",
    "    # Realiza a multiplicacao dos 9 primeiros numeros\n",
    "    fator = 10\n",
    "    soma = 0\n",
    "    for i in range(0, 9):\n",
    "        soma += (int(cpf[i]) * fator)\n",
    "        fator -= 1\n",
    "\n",
    "    # Divide o somatorio por 11 e pega o resto\n",
    "    resto = soma % 11\n",
    "\n",
    "    # Se o resto eh menor que 2, entao o primeiro digito verificador eh 0,\n",
    "    #  senao diminui o resto do valor 11\n",
    "    if (resto < 2):\n",
    "        digito1 = 0\n",
    "    else:\n",
    "        digito1 = 11 - resto\n",
    "\n",
    "    # Agora verifica o segundo digito com os 10 primeiros numeros\n",
    "    fator = 11\n",
    "    soma = 0\n",
    "    for i in range(0, 10):\n",
    "        soma += (int(cpf[i]) * fator)\n",
    "        fator -= 1\n",
    "\n",
    "    # Divide o somatorio por 11 e pega o resto\n",
    "    resto = soma % 11\n",
    "\n",
    "    # Se o resto eh menor que 2, entao o segundo digito verificador eh 0,\n",
    "    #  senao diminui o resto do valor 11\n",
    "    if (resto < 2):\n",
    "        digito2 = 0\n",
    "    else:\n",
    "        digito2 = 11 - resto\n",
    "\n",
    "    if (int(cpf[9]) == digito1) and (int(cpf[10]) == digito2):\n",
    "        return True\n",
    "\n",
    "    return False\n",
    "\n",
    "###\n",
    "# FLUXO PRINCIPAL\n",
    "\n",
    "cpf = input('Informe o CPF: ')\n",
    "if (validaCPF(cpf)):\n",
    "    print('CPF valido')\n",
    "else:\n",
    "    print('CPF INVALIDO')"
   ]
  },
  {
   "cell_type": "markdown",
   "metadata": {},
   "source": [
    "# 10"
   ]
  },
  {
   "cell_type": "code",
   "execution_count": 13,
   "metadata": {},
   "outputs": [
    {
     "name": "stdout",
     "output_type": "stream",
     "text": [
      "Informe um numero: 20\n"
     ]
    },
    {
     "ename": "TypeError",
     "evalue": "list indices must be integers or slices, not float",
     "output_type": "error",
     "traceback": [
      "\u001b[1;31m---------------------------------------------------------------------------\u001b[0m",
      "\u001b[1;31mTypeError\u001b[0m                                 Traceback (most recent call last)",
      "\u001b[1;32m<ipython-input-13-85855525529b>\u001b[0m in \u001b[0;36m<module>\u001b[1;34m\u001b[0m\n\u001b[0;32m     14\u001b[0m \u001b[1;33m\u001b[0m\u001b[0m\n\u001b[0;32m     15\u001b[0m     \u001b[1;32mif\u001b[0m \u001b[1;33m(\u001b[0m\u001b[0mnumero\u001b[0m \u001b[1;33m>=\u001b[0m \u001b[1;36m20\u001b[0m\u001b[1;33m)\u001b[0m\u001b[1;33m:\u001b[0m\u001b[1;33m\u001b[0m\u001b[1;33m\u001b[0m\u001b[0m\n\u001b[1;32m---> 16\u001b[1;33m         \u001b[0mprint\u001b[0m\u001b[1;33m(\u001b[0m\u001b[1;34m'%s'\u001b[0m \u001b[1;33m%\u001b[0m \u001b[0mdezenas\u001b[0m\u001b[1;33m[\u001b[0m\u001b[0mdezena\u001b[0m\u001b[1;33m]\u001b[0m\u001b[1;33m)\u001b[0m\u001b[1;33m\u001b[0m\u001b[1;33m\u001b[0m\u001b[0m\n\u001b[0m\u001b[0;32m     17\u001b[0m         \u001b[1;32mif\u001b[0m \u001b[1;33m(\u001b[0m\u001b[0munidade\u001b[0m \u001b[1;33m!=\u001b[0m \u001b[1;36m0\u001b[0m\u001b[1;33m)\u001b[0m\u001b[1;33m:\u001b[0m\u001b[1;33m\u001b[0m\u001b[1;33m\u001b[0m\u001b[0m\n\u001b[0;32m     18\u001b[0m             \u001b[0mprint\u001b[0m\u001b[1;33m(\u001b[0m\u001b[1;34m'e %s'\u001b[0m \u001b[1;33m%\u001b[0m \u001b[0munidades\u001b[0m\u001b[1;33m[\u001b[0m\u001b[0munidade\u001b[0m\u001b[1;33m]\u001b[0m\u001b[1;33m)\u001b[0m\u001b[1;33m\u001b[0m\u001b[1;33m\u001b[0m\u001b[0m\n",
      "\u001b[1;31mTypeError\u001b[0m: list indices must be integers or slices, not float"
     ]
    }
   ],
   "source": [
    "dezenas = ['', '', 'vinte', 'trinta', 'quarenta', #corrigir\n",
    "           'cinquenta', 'sessenta', 'setenta', 'oitenta', 'noventa']\n",
    "primeira_dezena = ['dez', 'onze', 'doze', 'treze', 'catorze',\n",
    "                   'quinze', 'dezesseis', 'dezessete', 'dezoito', 'dezenove']\n",
    "unidades = ['zero', 'um', 'dois', 'tres', 'quatro',\n",
    "            'cinco', 'seis', 'sete', 'oito', 'nove']\n",
    "\n",
    "numero = int(input('Informe um numero: '))\n",
    "if (numero < 0) or (numero > 99):\n",
    "    print('O numero informado deve estar entre 0 e 99')\n",
    "else:\n",
    "    dezena = numero / 10\n",
    "    unidade = numero % 10\n",
    "\n",
    "    if (numero >= 20):\n",
    "        print('%s' % dezenas[dezena])\n",
    "        if (unidade != 0):\n",
    "            print('e %s' % unidades[unidade])\n",
    "        print\n",
    "    elif (numero >= 10):\n",
    "        print('%s' % primeira_dezena[unidade])\n",
    "    else:\n",
    "        print('%s' % unidades[unidade])"
   ]
  },
  {
   "cell_type": "markdown",
   "metadata": {},
   "source": [
    "# 11"
   ]
  },
  {
   "cell_type": "code",
   "execution_count": null,
   "metadata": {},
   "outputs": [],
   "source": [
    "import random\n",
    "\n",
    "# Abre o arquivo para leitura\n",
    "arquivoEntrada = open('palavras.txt', 'r')\n",
    "\n",
    "# Coloca todas as linhas em memoria\n",
    "palavras = arquivoEntrada.readlines()\n",
    "\n",
    "# Fecha o arquivo\n",
    "arquivoEntrada.close()\n",
    "\n",
    "palavraEscolhida = palavras[\n",
    "    random.randint(0, len(palavras) - 1)].upper().strip()\n",
    "tamanhoPalavra = len(palavraEscolhida)\n",
    "palavraAdivinhada = ['_'] * tamanhoPalavra\n",
    "\n",
    "numTentativas = 0\n",
    "numErros = 0\n",
    "\n",
    "while (''.join(palavraAdivinhada) != palavraEscolhida) and (numErros < 6):\n",
    "\n",
    "    letra = input('Digite uma letra: ').upper()\n",
    "    numTentativas += 1\n",
    "    acertou = False\n",
    "\n",
    "    print('A palavra eh: ')\n",
    "    for i in range(0, tamanhoPalavra):\n",
    "        if (palavraEscolhida[i] == letra):\n",
    "            palavraAdivinhada[i] = letra\n",
    "            acertou = True\n",
    "        print('%s' % palavraAdivinhada[i],)\n",
    "\n",
    "    print\n",
    "    if (not acertou):\n",
    "        numErros += 1\n",
    "        print('Voce errou pela %da. vez.' % numErros)\n",
    "\n",
    "if (numErros < 6):\n",
    "    print('Voce acertou!')\n",
    "else:\n",
    "    print('Voce perdeu!')\n",
    "    print('A palavra era %s' % palavraEscolhida)"
   ]
  },
  {
   "cell_type": "markdown",
   "metadata": {},
   "source": [
    "# 12"
   ]
  },
  {
   "cell_type": "code",
   "execution_count": null,
   "metadata": {},
   "outputs": [],
   "source": [
    "leet = {\n",
    "    'A': '4',\n",
    "    'B': '8',\n",
    "    'C': '<',\n",
    "    'D': '[)',\n",
    "    'E': '&',\n",
    "    'F': 'ph',\n",
    "    'G': '6',\n",
    "    'H': '#',\n",
    "    'I': '1',\n",
    "    'J': 'j',\n",
    "    'K': '|<',\n",
    "    'L': '|_',\n",
    "    'M': '|\\/|',\n",
    "    'N': '/\\/',\n",
    "    'O': '0',\n",
    "    'P': '|*',\n",
    "    'Q': '9',\n",
    "    'R': 'l2',\n",
    "    'S': '5',\n",
    "    'T': '7',\n",
    "    'U': 'v',\n",
    "    'V': 'V',\n",
    "    'W': 'vv',\n",
    "    'X': '><',\n",
    "    'Y': '`/',\n",
    "    'Z': '2'\n",
    "}\n",
    "\n",
    "texto = input('Informe um texto: ')\n",
    "print('Texto em Leet Spek:')\n",
    "\n",
    "for i in texto.upper():\n",
    "    if i.isalpha():\n",
    "        print leet[i],\n",
    "    else:\n",
    "        print(' ')"
   ]
  }
 ],
 "metadata": {
  "kernelspec": {
   "display_name": "Python 3",
   "language": "python",
   "name": "python3"
  },
  "language_info": {
   "codemirror_mode": {
    "name": "ipython",
    "version": 3
   },
   "file_extension": ".py",
   "mimetype": "text/x-python",
   "name": "python",
   "nbconvert_exporter": "python",
   "pygments_lexer": "ipython3",
   "version": "3.7.4"
  }
 },
 "nbformat": 4,
 "nbformat_minor": 2
}
