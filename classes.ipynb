{
 "cells": [
  {
   "cell_type": "markdown",
   "metadata": {},
   "source": [
    "# 1"
   ]
  },
  {
   "cell_type": "code",
   "execution_count": null,
   "metadata": {},
   "outputs": [],
   "source": [
    "class Bola:\n",
    "\n",
    "    'Classe para definir uma bola'\n",
    "\n",
    "    def trocaCor(self, cor):\n",
    "        self.cor = cor\n",
    "\n",
    "    def mostraCor(self):\n",
    "        print self.cor\n",
    "\n",
    "# Teste da Classe\n",
    "bola = Bola()\n",
    "bola.trocaCor(\"Azul\")\n",
    "bola.mostraCor()"
   ]
  },
  {
   "cell_type": "markdown",
   "metadata": {},
   "source": [
    "# 2"
   ]
  },
  {
   "cell_type": "code",
   "execution_count": null,
   "metadata": {},
   "outputs": [],
   "source": [
    "class Quadrado:\n",
    "\n",
    "    'Define um quadrado'\n",
    "\n",
    "    def __init__(self, lado):\n",
    "        self.setLado(lado)\n",
    "\n",
    "    def setLado(self, lado):\n",
    "        self.lado = lado\n",
    "\n",
    "    def getLado(self):\n",
    "        return self.lado\n",
    "\n",
    "    def calculaArea(self):\n",
    "        return self.lado * self.lado\n",
    "\n",
    "# Teste do quadrado\n",
    "quadrado = Quadrado(4)\n",
    "print quadrado.calculaArea()\n",
    "\n",
    "quadrado.setLado(2)\n",
    "print quadrado.calculaArea()"
   ]
  },
  {
   "cell_type": "markdown",
   "metadata": {},
   "source": [
    "# 3"
   ]
  },
  {
   "cell_type": "code",
   "execution_count": null,
   "metadata": {},
   "outputs": [],
   "source": [
    "class Retangulo:\n",
    "\n",
    "    def __init__(self, base, altura):\n",
    "        self.setBase(base)\n",
    "        self.setAltura(altura)\n",
    "\n",
    "    def setBase(self, base):\n",
    "        self.base = base\n",
    "\n",
    "    def getBase(self):\n",
    "        return self.base\n",
    "\n",
    "    def setAltura(self, altura):\n",
    "        self.altura = altura\n",
    "\n",
    "    def getAltura(self):\n",
    "        return self.altura\n",
    "\n",
    "    def calculaArea(self):\n",
    "        return self.base * self.altura\n",
    "\n",
    "    def calculaPerimetro(self):\n",
    "        return 2 * self.base + 2 * self.altura\n",
    "\n",
    "# TESTE DA CLASSE\n",
    "base = int(input('Informe o valor da base: '))\n",
    "altura = int(input('Informe o valor da altura: '))\n",
    "retangulo = Retangulo(base, altura)\n",
    "print('A area do retangulo eh: %d' % retangulo.calculaArea())\n",
    "print('O perimetro do retangulo eh: %d' % retangulo.calculaPerimetro())"
   ]
  },
  {
   "cell_type": "markdown",
   "metadata": {},
   "source": [
    "# 4"
   ]
  },
  {
   "cell_type": "code",
   "execution_count": 6,
   "metadata": {},
   "outputs": [
    {
     "name": "stdout",
     "output_type": "stream",
     "text": [
      "{'nome': 'Alberto', 'idade': 20, 'peso': 87.0, 'altura': 190}\n",
      "{'nome': 'Alberto', 'idade': 20, 'peso': 88.0, 'altura': 190}\n",
      "{'nome': 'Alberto', 'idade': 20, 'peso': 86.0, 'altura': 190}\n",
      "{'nome': 'Alberto', 'idade': 20, 'peso': 86.0, 'altura': 193}\n",
      "{'nome': 'Alberto', 'idade': 27, 'peso': 86.0, 'altura': 195.5}\n"
     ]
    }
   ],
   "source": [
    "class Pessoa:\n",
    "\n",
    "    def __init__(self, nome, idade, peso, altura):\n",
    "        self.nome = nome\n",
    "        self.idade = idade\n",
    "        self.peso = peso\n",
    "        self.altura = altura\n",
    "\n",
    "    def engordar(self, peso):\n",
    "        self.peso += peso\n",
    "\n",
    "    def emagrecer(self, peso):\n",
    "        if (peso > self.peso):\n",
    "            self.peso = 0\n",
    "        else:\n",
    "            self.peso -= peso\n",
    "\n",
    "    def crescer(self, altura):\n",
    "        self.altura += altura\n",
    "\n",
    "    def envelhecer(self, anos):\n",
    "        anosAntes = self.idade\n",
    "        self.idade += anos\n",
    "        if (anosAntes < 25):\n",
    "            if (self.idade < 25):\n",
    "                self.crescer(anos * 0.5)\n",
    "            else:\n",
    "                self.crescer((25 - anosAntes) * 0.5)\n",
    "\n",
    "\n",
    "# TESTE DA CLASSE\n",
    "alberto = Pessoa('Alberto', 20, 87.0, 190)\n",
    "print(vars(alberto))\n",
    "alberto.engordar(1)\n",
    "print(vars(alberto))\n",
    "alberto.emagrecer(2)\n",
    "print(vars(alberto))\n",
    "alberto.crescer(3)\n",
    "print(vars(alberto))\n",
    "alberto.envelhecer(7)\n",
    "print(vars(alberto))"
   ]
  },
  {
   "cell_type": "markdown",
   "metadata": {},
   "source": [
    "# 5"
   ]
  },
  {
   "cell_type": "code",
   "execution_count": 7,
   "metadata": {},
   "outputs": [
    {
     "name": "stdout",
     "output_type": "stream",
     "text": [
      "100.0\n",
      "-100.0\n"
     ]
    }
   ],
   "source": [
    "class ContaCorrente:\n",
    "\n",
    "    def __init__(self, numero, nomeCorrentista, saldo=0.0):\n",
    "        self.numero = numero\n",
    "        self.alterarNome(nomeCorrentista)\n",
    "        self.saldo = saldo\n",
    "\n",
    "    def alterarNome(self, nomeCorrentista):\n",
    "        self.nomeCorrentista = nomeCorrentista\n",
    "\n",
    "    def deposito(self, valor):\n",
    "        self.saldo += valor\n",
    "\n",
    "    def saque(self, valor):\n",
    "        self.saldo -= valor\n",
    "\n",
    "# TESTE DA CLASSE\n",
    "\n",
    "conta = ContaCorrente(100, 'Tales')\n",
    "conta.deposito(100)\n",
    "print(conta.saldo)\n",
    "conta.saque(200)\n",
    "print(conta.saldo)"
   ]
  },
  {
   "cell_type": "markdown",
   "metadata": {},
   "source": [
    "# 6"
   ]
  },
  {
   "cell_type": "code",
   "execution_count": null,
   "metadata": {},
   "outputs": [],
   "source": [
    "class TV:\n",
    "\n",
    "    def __init__(self):\n",
    "        self.volume = 0\n",
    "        self.setCanal(0)\n",
    "\n",
    "    def setCanal(self, canal):\n",
    "        if (canal >= 0) and (canal <= 100):\n",
    "            self.canal = canal\n",
    "\n",
    "    def aumentaVolume(self):\n",
    "        if (self.volume < 100):\n",
    "            self.volume += 1\n",
    "\n",
    "    def diminuiVolume(self):\n",
    "        if (self.volume > 0):\n",
    "            self.volume -= 1\n",
    "\n",
    "# TESTE DA CLASSE\n",
    "tv = TV()\n",
    "tv.setCanal(10)\n",
    "tv.aumentaVolume()\n",
    "tv.aumentaVolume()\n",
    "tv.aumentaVolume()\n",
    "tv.aumentaVolume()\n",
    "tv.diminuiVolume()\n",
    "print(\"Canal: %d - Volume: %d\" % (tv.canal, tv.volume))"
   ]
  },
  {
   "cell_type": "markdown",
   "metadata": {},
   "source": [
    "# 7"
   ]
  },
  {
   "cell_type": "code",
   "execution_count": null,
   "metadata": {},
   "outputs": [],
   "source": [
    "class Tamagushi:\n",
    "\n",
    "    def __init__(self, nome, fome, saude, idade):\n",
    "        self.setNome(nome)\n",
    "        self.setFome(fome)\n",
    "        self.setSaude(saude)\n",
    "        self.setIdade(idade)\n",
    "\n",
    "    def setNome(self, nome):\n",
    "        self.nome = nome\n",
    "\n",
    "    def getNome(self):\n",
    "        return self.nome\n",
    "\n",
    "    def setFome(self, fome):\n",
    "        self.fome = fome\n",
    "\n",
    "    def getFome(self):\n",
    "        return self.fome\n",
    "\n",
    "    def setSaude(self, saude):\n",
    "        self.saude = saude\n",
    "\n",
    "    def getSaude(self):\n",
    "        return self.saude\n",
    "\n",
    "    def setIdade(self, idade):\n",
    "        self.idade = idade\n",
    "\n",
    "    def getIdade(self):\n",
    "        return self.idade\n",
    "\n",
    "    def getHumor(self):\n",
    "        return self.getFome() * self.getSaude()\n",
    "\n",
    "# TESTE DA CLASSE\n",
    "bicho = Tamagushi('Tamagoshi', 10, 10, 10)\n",
    "print('Humor: %d' % bicho.getHumor())"
   ]
  },
  {
   "cell_type": "markdown",
   "metadata": {},
   "source": [
    "# 8"
   ]
  },
  {
   "cell_type": "code",
   "execution_count": 9,
   "metadata": {},
   "outputs": [
    {
     "name": "stdout",
     "output_type": "stream",
     "text": [
      "Bucho: ['Maca']\n",
      "Bucho: ['Maca', 'Banana']\n",
      "Bucho: ['Maca', 'Banana', 'Abacaxi']\n",
      "Bucho: ['Banana', 'Abacaxi']\n",
      "Bucho: ['Maca', 'Banaca', <__main__.Macaco object at 0x000002B550E05088>]\n"
     ]
    }
   ],
   "source": [
    "class Macaco:\n",
    "\n",
    "    def __init__(self, nome):\n",
    "        self.nome = nome\n",
    "        self.bucho = []\n",
    "\n",
    "    def comer(self, comida):\n",
    "        self.bucho.append(comida)\n",
    "\n",
    "    def verBucho(self):\n",
    "        print('Bucho:', self.bucho)\n",
    "\n",
    "    def digerir(self):\n",
    "        if (len(self.bucho) > 0):\n",
    "            self.bucho.pop(0)\n",
    "\n",
    "# Teste\n",
    "macaco1 = Macaco('Simao')\n",
    "macaco2 = Macaco('Prego')\n",
    "\n",
    "macaco1.comer('Maca')\n",
    "macaco1.verBucho()\n",
    "macaco1.comer('Banana')\n",
    "macaco1.verBucho()\n",
    "macaco1.comer('Abacaxi')\n",
    "macaco1.verBucho()\n",
    "macaco1.digerir()\n",
    "macaco1.verBucho()\n",
    "macaco2.comer('Maca')\n",
    "macaco2.comer('Banaca')\n",
    "macaco2.comer(macaco1)\n",
    "macaco2.verBucho()"
   ]
  },
  {
   "cell_type": "markdown",
   "metadata": {},
   "source": [
    "# 9"
   ]
  },
  {
   "cell_type": "code",
   "execution_count": 8,
   "metadata": {},
   "outputs": [
    {
     "name": "stdout",
     "output_type": "stream",
     "text": [
      "9900\n",
      "9866.996699669968\n"
     ]
    }
   ],
   "source": [
    "class BombaCombustivel():\n",
    "\n",
    "    def __init__(self, tipoCombustivel, valorLitro, quantidadeCombustivel):\n",
    "        self.setTipoCombustivel(tipoCombustivel)\n",
    "        self.setValorLitro(valorLitro)\n",
    "        self.setQuantidadeCombustivel(quantidadeCombustivel)\n",
    "\n",
    "    def setTipoCombustivel(self, tipoCombustivel):\n",
    "        self.tipoCombustivel = tipoCombustivel\n",
    "\n",
    "    def setValorLitro(self, valorLitro):\n",
    "        self.valorLitro = float(valorLitro)\n",
    "\n",
    "    def setQuantidadeCombustivel(self, quantidadeCombustivel):\n",
    "        self.quantidadeCombustivel = quantidadeCombustivel\n",
    "\n",
    "    def abastecerPorValor(self, valor):\n",
    "        totalLitros = valor / self.valorLitro\n",
    "        if (totalLitros <= self.quantidadeCombustivel):\n",
    "            self.setQuantidadeCombustivel(\n",
    "                self.quantidadeCombustivel - totalLitros)\n",
    "\n",
    "    def abastecerPorLitro(self, totalLitros):\n",
    "        if (totalLitros <= self.quantidadeCombustivel):\n",
    "            self.setQuantidadeCombustivel(\n",
    "                self.quantidadeCombustivel - totalLitros)\n",
    "\n",
    "# Teste da classe\n",
    "bomba1 = BombaCombustivel('Gasolina Aditivada', 3.03, 10000)\n",
    "bomba1.abastecerPorLitro(100)\n",
    "print(bomba1.quantidadeCombustivel)\n",
    "bomba1.abastecerPorValor(100)\n",
    "print(bomba1.quantidadeCombustivel)"
   ]
  },
  {
   "cell_type": "markdown",
   "metadata": {},
   "source": [
    "# 10"
   ]
  },
  {
   "cell_type": "code",
   "execution_count": null,
   "metadata": {},
   "outputs": [],
   "source": [
    "class Carro:\n",
    "\n",
    "    def __init__(self, quilometrosLitro):\n",
    "        self.quilometrosLitro = quilometrosLitro\n",
    "        self.qtdeCombustivel = 0\n",
    "\n",
    "    def adicionarGasolina(self, quantidade):\n",
    "        self.qtdeCombustivel += float(quantidade)\n",
    "\n",
    "    def andar(self, distancia):\n",
    "        gasto = distancia / self.quilometrosLitro\n",
    "        self.qtdeCombustivel -= gasto\n",
    "\n",
    "    def obterGasolina(self):\n",
    "        print self.qtdeCombustivel\n",
    "\n",
    "# TESTE DA CLASSE\n",
    "meuFusca = Carro(15)\n",
    "# 15 quilometros por litro de combustivel.\n",
    "meuFusca.adicionarGasolina(20)\n",
    "# abastece com 20 litros de combustivel.\n",
    "meuFusca.andar(100)\n",
    "# anda 100 quilometros.\n",
    "meuFusca.obterGasolina() "
   ]
  },
  {
   "cell_type": "markdown",
   "metadata": {},
   "source": [
    "# 11"
   ]
  },
  {
   "cell_type": "code",
   "execution_count": null,
   "metadata": {},
   "outputs": [],
   "source": [
    "class ContaInvestimento:\n",
    "\n",
    "    def __init__(self, numero, nomeCorrentista, taxaJuros, saldo=0.0):\n",
    "        self.numero = numero\n",
    "        self.alterarNome(nomeCorrentista)\n",
    "        self.taxaJuros = taxaJuros\n",
    "        self.saldo = saldo\n",
    "\n",
    "    def alterarNome(self, nomeCorrentista):\n",
    "        self.nomeCorrentista = nomeCorrentista\n",
    "\n",
    "    def deposito(self, valor):\n",
    "        self.saldo += valor\n",
    "\n",
    "    def saque(self, valor):\n",
    "        self.saldo -= valor\n",
    "\n",
    "    def adicionaJuros(self):\n",
    "        self.saldo += (self.saldo * (self.taxaJuros / 100.0))\n",
    "\n",
    "# TESTE DA CLASSE\n",
    "\n",
    "conta = ContaInvestimento(100, 'Tales', 10)\n",
    "conta.deposito(1000)\n",
    "print(conta.saldo)\n",
    "conta.adicionaJuros()\n",
    "print(conta.saldo)\n",
    "conta.adicionaJuros()\n",
    "print(conta.saldo)\n",
    "conta.adicionaJuros()\n",
    "print(conta.saldo)\n",
    "conta.adicionaJuros()\n",
    "print(conta.saldo)\n",
    "conta.adicionaJuros()\n",
    "print(conta.saldo)"
   ]
  },
  {
   "cell_type": "markdown",
   "metadata": {},
   "source": [
    "# 12"
   ]
  },
  {
   "cell_type": "code",
   "execution_count": null,
   "metadata": {},
   "outputs": [],
   "source": [
    "class Funcionario:\n",
    "\n",
    "    def __init__(self, nome, salario):\n",
    "        self.nome = nome\n",
    "        self.salario = float(salario)\n",
    "\n",
    "    def getNome(self):\n",
    "        return self.nome\n",
    "\n",
    "    def getSalario(self):\n",
    "        return self.salario\n",
    "\n",
    "# TESTE DA CLASSE\n",
    "func1 = Funcionario('Joao', 1000)\n",
    "print('Nome: %s' % func1.getNome())\n",
    "print('Salario: %.2f' % func1.getSalario())"
   ]
  },
  {
   "cell_type": "markdown",
   "metadata": {},
   "source": [
    "# 13"
   ]
  },
  {
   "cell_type": "code",
   "execution_count": null,
   "metadata": {},
   "outputs": [],
   "source": [
    "class Funcionario:\n",
    "\n",
    "    def __init__(self, nome, salario):\n",
    "        self.nome = nome\n",
    "        self.salario = float(salario)\n",
    "\n",
    "    def getNome(self):\n",
    "        return self.nome\n",
    "\n",
    "    def getSalario(self):\n",
    "        return self.salario\n",
    "\n",
    "    def aumentarSalario(self, percentualDeAumento):\n",
    "        self.salario += self.salario * (percentualDeAumento / 100.0)\n",
    "\n",
    "# TESTE DA CLASSE\n",
    "harry = Funcionario(\"Harry\", 25000)\n",
    "harry.aumentarSalario(10)\n",
    "print('Nome: %s' % harry.getNome())\n",
    "print('Salario: %.2f' % harry.getSalario())"
   ]
  },
  {
   "cell_type": "markdown",
   "metadata": {},
   "source": [
    "# 14"
   ]
  },
  {
   "cell_type": "code",
   "execution_count": null,
   "metadata": {},
   "outputs": [],
   "source": [
    "class Tamagushi:\n",
    "\n",
    "    def __init__(self, nome, fome, saude, idade):\n",
    "        self.setNome(nome)\n",
    "        self.setFome(fome)\n",
    "        self.setSaude(saude)\n",
    "        self.setIdade(idade)\n",
    "\n",
    "    def setNome(self, nome):\n",
    "        self.nome = nome\n",
    "\n",
    "    def getNome(self):\n",
    "        return self.nome\n",
    "\n",
    "    def setFome(self, fome):\n",
    "        self.fome = fome\n",
    "\n",
    "    def getFome(self):\n",
    "        return self.fome\n",
    "\n",
    "    def setSaude(self, saude):\n",
    "        self.saude = saude\n",
    "\n",
    "    def getSaude(self):\n",
    "        return self.saude\n",
    "\n",
    "    def setIdade(self, idade):\n",
    "        self.idade = idade\n",
    "\n",
    "    def getIdade(self):\n",
    "        return self.idade\n",
    "\n",
    "    def alimenta(self, quantidade):\n",
    "        if (quantidade >= 0) and (quantidade <= 100):\n",
    "            self.fome -= self.fome * (quantidade / 100.0)\n",
    "\n",
    "    def brincar(self, quantidade):\n",
    "        if (quantidade >= 0) and (quantidade <= 100):\n",
    "            self.saude += self.saude * (quantidade / 100.0)\n",
    "\n",
    "    def getHumor(self):\n",
    "        return self.getFome() * self.getSaude()\n",
    "\n",
    "# TESTE DA CLASSE\n",
    "bicho = Tamagushi('Tamagoshi', 10, 10, 10)\n",
    "print('Humor: %d' % bicho.getHumor())\n",
    "bicho.alimenta(30)\n",
    "print('Humor: %d' % bicho.getHumor())\n",
    "bicho.brincar(20)\n",
    "print('Humor: %d' % bicho.getHumor())"
   ]
  },
  {
   "cell_type": "markdown",
   "metadata": {},
   "source": [
    "# 15"
   ]
  },
  {
   "cell_type": "code",
   "execution_count": 10,
   "metadata": {},
   "outputs": [
    {
     "name": "stdout",
     "output_type": "stream",
     "text": [
      "Humor: 100\n",
      "Humor: 70\n",
      "Humor: 84\n",
      "Nome: Tamagoshi\n",
      "Idade: 10\n",
      "Fome: 7.0\n",
      "Saude: 12.0\n",
      "Humor: 84.0\n"
     ]
    }
   ],
   "source": [
    "class Tamagushi:\n",
    "\n",
    "    def __init__(self, nome, fome, saude, idade):\n",
    "        self.setNome(nome)\n",
    "        self.setFome(fome)\n",
    "        self.setSaude(saude)\n",
    "        self.setIdade(idade)\n",
    "\n",
    "    def setNome(self, nome):\n",
    "        self.nome = nome\n",
    "\n",
    "    def getNome(self):\n",
    "        return self.nome\n",
    "\n",
    "    def setFome(self, fome):\n",
    "        self.fome = fome\n",
    "\n",
    "    def getFome(self):\n",
    "        return self.fome\n",
    "\n",
    "    def setSaude(self, saude):\n",
    "        self.saude = saude\n",
    "\n",
    "    def getSaude(self):\n",
    "        return self.saude\n",
    "\n",
    "    def setIdade(self, idade):\n",
    "        self.idade = idade\n",
    "\n",
    "    def getIdade(self):\n",
    "        return self.idade\n",
    "\n",
    "    def alimenta(self, quantidade):\n",
    "        if (quantidade >= 0) and (quantidade <= 100):\n",
    "            self.fome -= self.fome * (quantidade / 100.0)\n",
    "\n",
    "    def brincar(self, quantidade):\n",
    "        if (quantidade >= 0) and (quantidade <= 100):\n",
    "            self.saude += self.saude * (quantidade / 100.0)\n",
    "\n",
    "    def getHumor(self):\n",
    "        return self.getFome() * self.getSaude()\n",
    "\n",
    "    def str(self):\n",
    "        print('Nome:', self.getNome())\n",
    "        print('Idade:', self.getIdade())\n",
    "        print('Fome:', self.getFome())\n",
    "        print('Saude:', self.getSaude())\n",
    "        print('Humor:', self.getHumor())\n",
    "\n",
    "\n",
    "# TESTE DA CLASSE\n",
    "bicho = Tamagushi('Tamagoshi', 10, 10, 10)\n",
    "print('Humor: %d' % bicho.getHumor())\n",
    "bicho.alimenta(30)\n",
    "print('Humor: %d' % bicho.getHumor())\n",
    "bicho.brincar(20)\n",
    "print('Humor: %d' % bicho.getHumor())\n",
    "bicho.str()"
   ]
  }
 ],
 "metadata": {
  "kernelspec": {
   "display_name": "Python 3",
   "language": "python",
   "name": "python3"
  },
  "language_info": {
   "codemirror_mode": {
    "name": "ipython",
    "version": 3
   },
   "file_extension": ".py",
   "mimetype": "text/x-python",
   "name": "python",
   "nbconvert_exporter": "python",
   "pygments_lexer": "ipython3",
   "version": "3.7.4"
  }
 },
 "nbformat": 4,
 "nbformat_minor": 2
}
