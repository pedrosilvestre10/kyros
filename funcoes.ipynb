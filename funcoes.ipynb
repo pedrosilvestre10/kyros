{
 "cells": [
  {
   "cell_type": "markdown",
   "metadata": {},
   "source": [
    "# 1"
   ]
  },
  {
   "cell_type": "code",
   "execution_count": 3,
   "metadata": {},
   "outputs": [
    {
     "name": "stdout",
     "output_type": "stream",
     "text": [
      "Informe um numero: 4\n",
      "1\n",
      "2\n",
      "2\n",
      "3\n",
      "3\n",
      "3\n",
      "4\n",
      "4\n",
      "4\n",
      "4\n"
     ]
    }
   ],
   "source": [
    "def imprime(n):\n",
    "    for i in range(1, n + 1):\n",
    "        for j in range(1, i + 1):\n",
    "            print (i)\n",
    "        print\n",
    "\n",
    "numero = int(input('Informe um numero: '))\n",
    "imprime(numero)"
   ]
  },
  {
   "cell_type": "markdown",
   "metadata": {},
   "source": [
    "# 2"
   ]
  },
  {
   "cell_type": "code",
   "execution_count": null,
   "metadata": {},
   "outputs": [],
   "source": [
    "def imprime(n):\n",
    "    for i in range(1, n + 1):\n",
    "        for j in range(1, i + 1):\n",
    "            print(j)\n",
    "        print\n",
    "\n",
    "numero = int(input('Informe um numero: '))\n",
    "imprime(numero)"
   ]
  },
  {
   "cell_type": "markdown",
   "metadata": {},
   "source": [
    "# 3"
   ]
  },
  {
   "cell_type": "code",
   "execution_count": null,
   "metadata": {},
   "outputs": [],
   "source": [
    "def soma(valor1, valor2, valor3):\n",
    "    return valor1 + valor2 + valor3\n",
    "\n",
    "valor1 = int(input('Informe o primeiro valor: '))\n",
    "valor2 = int(input('Informe o segundo valor: '))\n",
    "valor3 = int(input('Informe o terceiro valor: '))\n",
    "\n",
    "print('A soma dos valores e %d' % soma(valor1, valor2, valor3))"
   ]
  },
  {
   "cell_type": "markdown",
   "metadata": {},
   "source": [
    "# 4"
   ]
  },
  {
   "cell_type": "code",
   "execution_count": null,
   "metadata": {},
   "outputs": [],
   "source": [
    "def verificaPositivo(valor):\n",
    "    if (valor > 0):\n",
    "        return 'P'\n",
    "    else:\n",
    "        return 'N'\n",
    "\n",
    "numero = int(input('Informe um numero: '))\n",
    "print('Resultado: %s' % verificaPositivo(numero))"
   ]
  },
  {
   "cell_type": "markdown",
   "metadata": {},
   "source": [
    "# 5"
   ]
  },
  {
   "cell_type": "code",
   "execution_count": null,
   "metadata": {},
   "outputs": [],
   "source": [
    "def somaImposto(taxaImposto, custo):\n",
    "    custo = custo + (custo * taxaImposto / 100.0)\n",
    "    return custo\n",
    "\n",
    "taxa = float(input('Informe o valor da taxa de imposto: '))\n",
    "custo = float(input('Informe o custo do produto: '))\n",
    "\n",
    "custo = somaImposto(taxa, custo)\n",
    "\n",
    "print('O preco com impostos eh: %.2f' % custo)"
   ]
  },
  {
   "cell_type": "markdown",
   "metadata": {},
   "source": [
    "# 6"
   ]
  },
  {
   "cell_type": "code",
   "execution_count": 5,
   "metadata": {},
   "outputs": [
    {
     "name": "stdout",
     "output_type": "stream",
     "text": [
      "Informe o valor da hora: 2\n",
      "Informe o valor dos minutos: 3\n",
      "02:03 AM\n",
      "Deseja continuar (S/N): n\n"
     ]
    }
   ],
   "source": [
    "def converteHora(hora24, minuto24):\n",
    "    if (hora24 > 23) or (hora24 < 0) or (minuto24 < 0) or (minuto24 > 59):\n",
    "        return None\n",
    "\n",
    "    if (hora24 < 12):\n",
    "        if (hora24 == 0):\n",
    "            hora24 = 12\n",
    "        return '%02d:%02d AM' % (hora24, minuto24)\n",
    "\n",
    "    if (hora24 > 12):\n",
    "        hora24 -= 12\n",
    "    return '%02d:%02d PM' % (hora24, minuto24)\n",
    "\n",
    "# Entrada de dados\n",
    "continuar = 'S'\n",
    "while (continuar == 'S'):\n",
    "    hora = int(input('Informe o valor da hora: '))\n",
    "    minuto = int(input('Informe o valor dos minutos: '))\n",
    "\n",
    "    print(converteHora(hora, minuto))\n",
    "\n",
    "    continuar = input('Deseja continuar (S/N): ').upper()"
   ]
  },
  {
   "cell_type": "markdown",
   "metadata": {},
   "source": [
    "# 7"
   ]
  },
  {
   "cell_type": "code",
   "execution_count": null,
   "metadata": {},
   "outputs": [],
   "source": [
    "def valorPagamento(valor, diasAtraso):\n",
    "\n",
    "    if (valor < 0):\n",
    "        return None\n",
    "    if (diasAtraso > 0):\n",
    "        multa = valor * 0.03\n",
    "        adicionalAtraso = valor * (diasAtraso * 0.01)\n",
    "        return valor + multa + adicionalAtraso\n",
    "    else:\n",
    "        return valor\n",
    "\n",
    "valor = 1\n",
    "while (valor != 0):\n",
    "    valor = float(input('Informe o valor da prestacao: '))\n",
    "    if (valor != 0):\n",
    "        diasAtraso = int(input('Informe a quantidade de dias de atraso: '))\n",
    "        print(\"Valor a ser pago: %.2f\" % valorPagamento(valor, diasAtraso))"
   ]
  },
  {
   "cell_type": "markdown",
   "metadata": {},
   "source": [
    "# 8"
   ]
  },
  {
   "cell_type": "code",
   "execution_count": null,
   "metadata": {},
   "outputs": [],
   "source": [
    "def quantidadeDigitos(digito):\n",
    "    if (digito == 0):\n",
    "        return 0\n",
    "    return 1 + quantidadeDigitos(digito / 10)\n",
    "\n",
    "digito = int(input('Informe um numero inteiro: '))\n",
    "print('O numero %d possui %d digitos.' % (digito, quantidadeDigitos(digito)))"
   ]
  },
  {
   "cell_type": "markdown",
   "metadata": {},
   "source": [
    "# 9"
   ]
  },
  {
   "cell_type": "code",
   "execution_count": null,
   "metadata": {},
   "outputs": [],
   "source": [
    "def retornaInvertido(valor):\n",
    "    return valor[::-1]\n",
    "\n",
    "numero = input('Informe um numero: ')\n",
    "print(retornaInvertido(numero))"
   ]
  },
  {
   "cell_type": "markdown",
   "metadata": {},
   "source": [
    "# 10"
   ]
  },
  {
   "cell_type": "code",
   "execution_count": null,
   "metadata": {},
   "outputs": [],
   "source": [
    "import random\n",
    "\n",
    "\n",
    "def JogaDadosCraps():\n",
    "    jogada = random.randint(2, 12)\n",
    "    return jogada\n",
    "\n",
    "# Fluxo Principal\n",
    "\n",
    "quantidadeJogadas = 1\n",
    "acabou = False\n",
    "ponto = 0\n",
    "\n",
    "while (not acabou):\n",
    "    jogada = JogaDadosCraps()\n",
    "    print('Jogada %d: %d' % (quantidadeJogadas, jogada))\n",
    "\n",
    "    if (quantidadeJogadas == 1):\n",
    "        if (jogada == 2) or (jogada == 3) or (jogada == 12):\n",
    "            print('Craps! Voce Perdeu!')\n",
    "            acabou = True\n",
    "        elif (jogada == 7) or (jogada == 11):\n",
    "            print('Voce Ganhou!')\n",
    "            acabou = True\n",
    "        else:\n",
    "            ponto = jogada\n",
    "            print('Seu ponto eh %d' % ponto)\n",
    "    else:\n",
    "        if (jogada == 7):\n",
    "            print('Voce Perdeu!')\n",
    "            acabou = True\n",
    "        elif (jogada == ponto):\n",
    "            print('Voce Ganhou!')\n",
    "            acabou = True\n",
    "    quantidadeJogadas += 1"
   ]
  },
  {
   "cell_type": "markdown",
   "metadata": {},
   "source": [
    "# 11"
   ]
  },
  {
   "cell_type": "code",
   "execution_count": null,
   "metadata": {},
   "outputs": [],
   "source": [
    "import re\n",
    "\n",
    "\n",
    "def validaData(dia, mes, ano):\n",
    "    # Valida o dia\n",
    "    if (dia < 0) or (dia > 31):\n",
    "        return False\n",
    "\n",
    "    # Valida mes com 30 dias\n",
    "    meses30 = (4, 6, 9, 11)\n",
    "    if (mes in meses30):\n",
    "        if (dia > 30):\n",
    "            return False\n",
    "\n",
    "    # Valida fevereiro e anos bissextos\n",
    "    if (mes == 2):\n",
    "        if (dia > 28):\n",
    "            if (ano % 4 != 0):\n",
    "                return False\n",
    "            elif (ano % 100 == 0) and (ano % 1000 != 0):\n",
    "                return False\n",
    "\n",
    "    return True\n",
    "\n",
    "\n",
    "def dataPorExtenso(data):\n",
    "    # Valida o formato da data por expressao regular\n",
    "    reg = re.compile('^[0-9]{2}\\/[0-9]{2}\\/[0-9]{4}$')\n",
    "    if (not (reg.match(data))):\n",
    "        print('Data invalida')\n",
    "        return None\n",
    "\n",
    "    dia = int(data[:2])\n",
    "    mes = int(data[3:5])\n",
    "    ano = int(data[6:])\n",
    "\n",
    "    if (not validaData(dia, mes, ano)):\n",
    "        return None\n",
    "\n",
    "    mesExtenso = ('Janeiro', 'Fevereiro', 'Marco', 'Abril', 'Maio', 'Junho',\n",
    "                  'Julho', 'Agosto', 'Setembro', 'Outubro', 'Novembro',\n",
    "                  'Dezembro')\n",
    "\n",
    "    return '%d de %s de %d' % (dia, mesExtenso[mes - 1], ano)\n",
    "\n",
    "# Fluxo Principal\n",
    "\n",
    "data = input('Informe uma data no formato dd/mm/yyyy: ')\n",
    "print(dataPorExtenso(data))"
   ]
  },
  {
   "cell_type": "markdown",
   "metadata": {},
   "source": [
    "# 12"
   ]
  },
  {
   "cell_type": "code",
   "execution_count": null,
   "metadata": {},
   "outputs": [],
   "source": [
    "import random\n",
    "\n",
    "\n",
    "def embaralhaPalavra(palavra):\n",
    "    tamanho = len(palavra)\n",
    "    arrayPos = range(0, tamanho)\n",
    "\n",
    "    for i in range(0, tamanho):\n",
    "        pos1 = random.randint(0, tamanho - 1)\n",
    "        pos2 = random.randint(0, tamanho - 1)\n",
    "\n",
    "        aux = arrayPos[pos1]\n",
    "        arrayPos[pos1] = arrayPos[pos2]\n",
    "        arrayPos[pos2] = aux\n",
    "\n",
    "    retorno = ''\n",
    "    for i in arrayPos:\n",
    "        retorno += palavra[i]\n",
    "\n",
    "    return retorno.upper()\n",
    "\n",
    "# Fluxo Principal\n",
    "palavra = input('Informe uma palavra: ')\n",
    "print(embaralhaPalavra(palavra))"
   ]
  },
  {
   "cell_type": "markdown",
   "metadata": {},
   "source": [
    "# 13"
   ]
  },
  {
   "cell_type": "code",
   "execution_count": 9,
   "metadata": {},
   "outputs": [
    {
     "name": "stdout",
     "output_type": "stream",
     "text": [
      "Informe a quantidade de linhas da moldura: 2\n",
      "Informe a quantidade de colunas da moldura: 2\n",
      "+\n",
      "+\n",
      "+\n",
      "+\n"
     ]
    }
   ],
   "source": [
    "def desenhaMoldura(linhas=1, colunas=1):#corrigir\n",
    "    if (linhas < 1):\n",
    "        linhas = 1\n",
    "    elif (linhas > 20):\n",
    "        linhas = 20\n",
    "\n",
    "    if (colunas < 1):\n",
    "        colunas = 1\n",
    "    elif (colunas > 20):\n",
    "        colunas = 20\n",
    "\n",
    "    for i in range(0, linhas):\n",
    "        if (i == 0) or (i == (linhas - 1)):\n",
    "            print('+',)\n",
    "            for j in range(1, colunas - 1):\n",
    "                print('-',)\n",
    "            if (colunas > 1):\n",
    "                print('+')\n",
    "            else:\n",
    "                print\n",
    "        else:\n",
    "            print('|',)\n",
    "            for j in range(1, colunas - 1):\n",
    "                print(' ',)\n",
    "            if (colunas > 1):\n",
    "                print('|')\n",
    "            else:\n",
    "                print\n",
    "\n",
    "# FLUXO PRINCIPAL\n",
    "linhas = int(input('Informe a quantidade de linhas da moldura: '))\n",
    "colunas = int(input('Informe a quantidade de colunas da moldura: '))\n",
    "desenhaMoldura(linhas, colunas)"
   ]
  },
  {
   "cell_type": "markdown",
   "metadata": {},
   "source": [
    "# 14"
   ]
  },
  {
   "cell_type": "code",
   "execution_count": 8,
   "metadata": {},
   "outputs": [
    {
     "name": "stdout",
     "output_type": "stream",
     "text": [
      "2 2\n",
      "1 0\n",
      "0 1\n",
      "1 1\n",
      "0 2\n",
      "2 0\n",
      "0 0\n",
      "2 1\n",
      "8\t\n",
      "1\t\n",
      "6\t\n",
      "3\t\n",
      "5\t\n",
      "7\t\n",
      "4\t\n",
      "9\t\n",
      "2\t\n"
     ]
    }
   ],
   "source": [
    "def geraQuadradoMagico():#corrigir\n",
    "    size = 3\n",
    "    max = size * size\n",
    "    quadrado = [0] * 3\n",
    "    for i in range(0, 3):\n",
    "        quadrado[i] = [0] * 3\n",
    "    x = 0\n",
    "    y = 1\n",
    "    quadrado[x][y] = 1\n",
    "\n",
    "    for z in range(2, max + 1):\n",
    "        old_x = x\n",
    "        old_y = y\n",
    "        x -= 1\n",
    "        y += 1\n",
    "\n",
    "        if (x < 0):\n",
    "            x = size - 1\n",
    "        if (y >= size):\n",
    "            y = 0\n",
    "\n",
    "        print('%d %d' % (x, y))\n",
    "        if (quadrado[x][y] == 0):\n",
    "            quadrado[x][y] = z\n",
    "        else:\n",
    "            x = old_x + 1\n",
    "            y = old_y\n",
    "            if (x > size):\n",
    "                x = 0\n",
    "            quadrado[x][y] = z\n",
    "    return quadrado\n",
    "\n",
    "\n",
    "def imprimeQuadrado(quadrado):\n",
    "    for i in quadrado:\n",
    "        for j in i:\n",
    "            print('%d\\t' % (j),)\n",
    "        print\n",
    "\n",
    "# Funcao principal\n",
    "quadrado = geraQuadradoMagico()\n",
    "imprimeQuadrado(quadrado)"
   ]
  }
 ],
 "metadata": {
  "kernelspec": {
   "display_name": "Python 3",
   "language": "python",
   "name": "python3"
  },
  "language_info": {
   "codemirror_mode": {
    "name": "ipython",
    "version": 3
   },
   "file_extension": ".py",
   "mimetype": "text/x-python",
   "name": "python",
   "nbconvert_exporter": "python",
   "pygments_lexer": "ipython3",
   "version": "3.7.4"
  }
 },
 "nbformat": 4,
 "nbformat_minor": 2
}
