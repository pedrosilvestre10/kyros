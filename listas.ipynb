{
 "cells": [
  {
   "cell_type": "markdown",
   "metadata": {},
   "source": [
    "# 1"
   ]
  },
  {
   "cell_type": "code",
   "execution_count": 1,
   "metadata": {},
   "outputs": [
    {
     "name": "stdout",
     "output_type": "stream",
     "text": [
      "1\n",
      "4\n",
      "9\n",
      "22\n",
      "18\n"
     ]
    }
   ],
   "source": [
    "lista = [1, 4, 9, 22, 18]\n",
    " \n",
    "i = 0\n",
    "while i < len(lista):\n",
    "    print(lista[i])\n",
    "    i = i + 1"
   ]
  },
  {
   "cell_type": "markdown",
   "metadata": {},
   "source": [
    "# 2"
   ]
  },
  {
   "cell_type": "code",
   "execution_count": null,
   "metadata": {},
   "outputs": [],
   "source": [
    "numbers = []\n",
    "for i in range(0, 10):\n",
    "    numbers.append(int(input('Informe um numero: ')))\n",
    "\n",
    "numbers.reverse()\n",
    "print numbers"
   ]
  },
  {
   "cell_type": "markdown",
   "metadata": {},
   "source": [
    "# 3"
   ]
  },
  {
   "cell_type": "code",
   "execution_count": null,
   "metadata": {},
   "outputs": [],
   "source": [
    "notas = []\n",
    "for i in range(0, 4):\n",
    "    notas.append(float(input('Informe uma nota: ')))\n",
    "\n",
    "soma = 0.0\n",
    "print('\\nNotas Digitadas:')\n",
    "for i in range(0, 4):\n",
    "    print('Nota %d: %.2f' % (i, notas[i]))\n",
    "    soma += notas[i]\n",
    "\n",
    "print('Media das notas: %.2f' % (soma / 4.0))"
   ]
  },
  {
   "cell_type": "markdown",
   "metadata": {},
   "source": [
    "# 4"
   ]
  },
  {
   "cell_type": "code",
   "execution_count": null,
   "metadata": {},
   "outputs": [],
   "source": [
    "letras = []\n",
    "vogais = ['A', 'E', 'I', 'O', 'U']\n",
    "\n",
    "for i in range(0, 10):\n",
    "    letras.append(input('Informe um caracter: ').upper())\n",
    "\n",
    "totConsoantes = 0\n",
    "consoantes = []\n",
    "for i in range(0, 10):\n",
    "    if letras[i] not in vogais:\n",
    "        consoantes.append(letras[i])\n",
    "        totConsoantes += 1\n",
    "\n",
    "print('Voce digitou %d consoantes' % totConsoantes)\n",
    "print(consoantes)"
   ]
  },
  {
   "cell_type": "markdown",
   "metadata": {},
   "source": [
    "# 5"
   ]
  },
  {
   "cell_type": "code",
   "execution_count": null,
   "metadata": {},
   "outputs": [],
   "source": [
    "numeros = []\n",
    "pares = []\n",
    "impares = []\n",
    "\n",
    "for i in range(0, 20):\n",
    "    numero = int(input('Informe um numero: '))\n",
    "    numeros.append(numero)\n",
    "    if (numero % 2 == 0):\n",
    "        pares.append(numero)\n",
    "    else:\n",
    "        impares.append(numero)\n",
    "\n",
    "print(numeros)\n",
    "print(pares)\n",
    "print(impares)"
   ]
  },
  {
   "cell_type": "markdown",
   "metadata": {},
   "source": [
    "# 6"
   ]
  },
  {
   "cell_type": "code",
   "execution_count": null,
   "metadata": {},
   "outputs": [],
   "source": [
    "notas = []\n",
    "for i in range(0, 10):\n",
    "    notasAluno = []\n",
    "    for j in range(0, 4):\n",
    "        notasAluno.append(\n",
    "            float(input('Informe a nota do aluno %.d: ' % (i + 1))))\n",
    "    notas.append(notasAluno)\n",
    "\n",
    "alunosMedia = 0\n",
    "for notasAluno in notas:\n",
    "    somaNotas = 0\n",
    "    for nota in notasAluno:\n",
    "        somaNotas += nota\n",
    "    if ((somaNotas / 4.0) >= 7.0):\n",
    "        alunosMedia += 1\n",
    "\n",
    "print('%d alunos ficaram acima da media' % alunosMedia)"
   ]
  },
  {
   "cell_type": "markdown",
   "metadata": {},
   "source": [
    "# 7"
   ]
  },
  {
   "cell_type": "code",
   "execution_count": null,
   "metadata": {},
   "outputs": [],
   "source": [
    "numeros = []\n",
    "for i in range(0, 4):\n",
    "    numeros.append(int(input('Informe um numero inteiro: ')))\n",
    "\n",
    "soma = 0\n",
    "multiplicacao = 1\n",
    "for i in numeros:\n",
    "    soma += i\n",
    "    multiplicacao *= i\n",
    "\n",
    "print(numeros)\n",
    "print('Soma dos numeros: %d' % soma)\n",
    "print('Multiplicacao dos numeros: %d' % multiplicacao)"
   ]
  },
  {
   "cell_type": "markdown",
   "metadata": {},
   "source": [
    "# 8"
   ]
  },
  {
   "cell_type": "code",
   "execution_count": null,
   "metadata": {},
   "outputs": [],
   "source": [
    "pessoas = []\n",
    "for i in range(0, 5):\n",
    "    pessoa = []\n",
    "    pessoa.append(input('Informe a idade da pessoa: '))\n",
    "    pessoa.append(input('Informe a altura da pessoa: '))\n",
    "    pessoas.append(pessoa)\n",
    "\n",
    "pessoas.reverse()\n",
    "for pessoa in pessoas:\n",
    "    print('Idade: %s - Altura: %s' % (pessoa[0], pessoa[1]))"
   ]
  },
  {
   "cell_type": "markdown",
   "metadata": {},
   "source": [
    "# 9"
   ]
  },
  {
   "cell_type": "code",
   "execution_count": null,
   "metadata": {},
   "outputs": [],
   "source": [
    "a = []\n",
    "for i in range(0, 10):\n",
    "    a.append(int(input('Informe um numero: ')))\n",
    "\n",
    "somaQuadrados = 0\n",
    "for numero in a:\n",
    "    somaQuadrados += (numero * numero)\n",
    "\n",
    "print('A soma dos quadrados dos numeros lidos eh %d' % somaQuadrados)"
   ]
  },
  {
   "cell_type": "markdown",
   "metadata": {},
   "source": [
    "# 10"
   ]
  },
  {
   "cell_type": "code",
   "execution_count": null,
   "metadata": {},
   "outputs": [],
   "source": [
    "vet1 = []\n",
    "vet2 = []\n",
    "vet3 = []\n",
    "\n",
    "print('Informe os valores do primeiro vetor')\n",
    "for i in range(0, 10):\n",
    "    vet1.append(int(input('Informe um numero: ')))\n",
    "\n",
    "print('Informe os valores do segundo vetor')\n",
    "for i in range(0, 10):\n",
    "    vet2.append(int(input('Informe um numero: ')))\n",
    "\n",
    "for i in range(0, 10):\n",
    "    vet3.append(vet1[i])\n",
    "    vet3.append(vet2[i])\n",
    "\n",
    "print vet3"
   ]
  },
  {
   "cell_type": "markdown",
   "metadata": {},
   "source": [
    "# 11"
   ]
  },
  {
   "cell_type": "code",
   "execution_count": null,
   "metadata": {},
   "outputs": [],
   "source": [
    "vet1 = []\n",
    "vet2 = []\n",
    "vet3 = []\n",
    "vet4 = []\n",
    "\n",
    "print('Informe os valores do primeiro vetor')\n",
    "for i in range(0, 10):\n",
    "    vet1.append(int(input('Informe um numero: ')))\n",
    "\n",
    "print('Informe os valores do segundo vetor')\n",
    "for i in range(0, 10):\n",
    "    vet2.append(int(input('Informe um numero: ')))\n",
    "\n",
    "print('Informe os valores do terceiro vetor')\n",
    "for i in range(0, 10):\n",
    "    vet3.append(int(input('Informe um numero: ')))\n",
    "\n",
    "for i in range(0, 10):\n",
    "    vet4.append(vet1[i])\n",
    "    vet4.append(vet2[i])\n",
    "    vet4.append(vet3[i])\n",
    "\n",
    "\n",
    "print vet4"
   ]
  },
  {
   "cell_type": "markdown",
   "metadata": {},
   "source": [
    "# 12"
   ]
  },
  {
   "cell_type": "code",
   "execution_count": 1,
   "metadata": {},
   "outputs": [
    {
     "name": "stdout",
     "output_type": "stream",
     "text": [
      "Informe a idade do aluno: 10\n",
      "Informe a altura do aluno: 120\n",
      "Informe a idade do aluno: 20\n",
      "Informe a altura do aluno: 100\n",
      "Informe a idade do aluno: 30\n",
      "Informe a altura do aluno: 2\n",
      "Informe a idade do aluno: 2\n",
      "Informe a altura do aluno: 2\n",
      "Informe a idade do aluno: 2\n",
      "Informe a altura do aluno: 2\n",
      "Existem 1 alunos com mais de 13 anos acima da media de altura\n"
     ]
    }
   ],
   "source": [
    "alunos = []\n",
    "totAlunos = 5\n",
    "\n",
    "for i in range(0, totAlunos):\n",
    "    aluno = []\n",
    "    aluno.append(int(input('Informe a idade do aluno: ')))\n",
    "    aluno.append(float(input('Informe a altura do aluno: ')))\n",
    "    alunos.append(aluno)\n",
    "\n",
    "somaAltura = 0.0\n",
    "for aluno in alunos:\n",
    "    somaAltura += aluno[1]\n",
    "\n",
    "mediaAltura = somaAltura / float(totAlunos)\n",
    "\n",
    "totAlunosAltos = 0\n",
    "for aluno in alunos:\n",
    "    if (aluno[0] >= 13) and (aluno[1] >= mediaAltura):\n",
    "        totAlunosAltos += 1\n",
    "\n",
    "print('Existem %d alunos com mais de 13 anos acima da media de altura' % totAlunosAltos)"
   ]
  },
  {
   "cell_type": "markdown",
   "metadata": {},
   "source": [
    "# 13"
   ]
  },
  {
   "cell_type": "code",
   "execution_count": 3,
   "metadata": {},
   "outputs": [
    {
     "name": "stdout",
     "output_type": "stream",
     "text": [
      "Informe a temperatura media do mes de Janeiro: 2\n",
      "Informe a temperatura media do mes de Fevereiro: 2\n",
      "Informe a temperatura media do mes de Marco: 2\n",
      "Informe a temperatura media do mes de Abril: 2\n",
      "Informe a temperatura media do mes de Maio: 2\n",
      "Informe a temperatura media do mes de Junho: 2\n",
      "Informe a temperatura media do mes de Julho: 2\n",
      "Informe a temperatura media do mes de Agosto: 2\n",
      "Informe a temperatura media do mes de Setembro: 2\n",
      "Informe a temperatura media do mes de Outubro: 2\n",
      "Informe a temperatura media do mes de Novembro: 2\n",
      "Informe a temperatura media do mes de Dezembro: 2\n",
      "Temperaturas acima da media anual: 2.00\n",
      "Janeiro - 2.00\n",
      "Fevereiro - 2.00\n",
      "Marco - 2.00\n",
      "Abril - 2.00\n",
      "Maio - 2.00\n",
      "Junho - 2.00\n",
      "Julho - 2.00\n",
      "Agosto - 2.00\n",
      "Setembro - 2.00\n",
      "Outubro - 2.00\n",
      "Novembro - 2.00\n",
      "Dezembro - 2.00\n"
     ]
    }
   ],
   "source": [
    "meses = ('Janeiro', 'Fevereiro', 'Marco', 'Abril', 'Maio', 'Junho',\n",
    "         'Julho', 'Agosto', 'Setembro', 'Outubro', 'Novembro', 'Dezembro')\n",
    "temperaturas = {}\n",
    "\n",
    "for mes in meses:\n",
    "    temperaturas[mes] = float(\n",
    "        input('Informe a temperatura media do mes de %s: ' % mes))\n",
    "\n",
    "somaTemperaturas = 0.0\n",
    "for temperatura in temperaturas.values():\n",
    "    somaTemperaturas += temperatura\n",
    "\n",
    "mediaTemperaturaAnual = somaTemperaturas / 12.0\n",
    "\n",
    "print('Temperaturas acima da media anual: %.2f' % mediaTemperaturaAnual)\n",
    "for mes in meses:\n",
    "    if (temperaturas[mes] >= mediaTemperaturaAnual):\n",
    "        print('%s - %.2f' % (mes, temperaturas[mes]))"
   ]
  },
  {
   "cell_type": "markdown",
   "metadata": {},
   "source": [
    "# 14"
   ]
  },
  {
   "cell_type": "code",
   "execution_count": null,
   "metadata": {},
   "outputs": [],
   "source": [
    "print('Programa Detetive')\n",
    "print('Responda as perguntas abaixo com S (sim) ou N (nao)')\n",
    "\n",
    "perguntas = ('Voce telefonou para a vitima? ',\n",
    "             'Voce esteve no local do crime? ',\n",
    "             'Voce mora perto da vitima? ',\n",
    "             'Voce devia para a vitima? ',\n",
    "             'Voce trabalhou para a vitima? ')\n",
    "\n",
    "respostas = []\n",
    "\n",
    "for pergunta in perguntas:\n",
    "    respostas.append(input(pergunta).upper())\n",
    "\n",
    "classificacao = 0\n",
    "for resposta in respostas:\n",
    "    if (resposta == 'S'):\n",
    "        classificacao += 1\n",
    "\n",
    "if (classificacao < 2):\n",
    "    print('Inocente')\n",
    "elif (classificacao == 2):\n",
    "    print('Suspeito')\n",
    "elif (classificacao <= 4):\n",
    "    print('Cumplice')\n",
    "else:\n",
    "    print('Assassino')"
   ]
  },
  {
   "cell_type": "markdown",
   "metadata": {},
   "source": [
    "# 15"
   ]
  },
  {
   "cell_type": "code",
   "execution_count": null,
   "metadata": {},
   "outputs": [],
   "source": [
    "salarioBase = 200\n",
    "vendedores = [0, 0, 0, 0, 0, 0, 0, 0, 0]\n",
    "\n",
    "for i in range(0, 10):\n",
    "    valorVendas = float(input('Informe o valor das vendas do vendedor: '))\n",
    "    salario = valorVendas * 0.09 + salarioBase\n",
    "    indice = int(salario / 100) - 1\n",
    "    if (indice > 9):\n",
    "        indice = 9\n",
    "    elif (indice < 1):\n",
    "        indice = 1\n",
    "    print indice\n",
    "    vendedores[indice - 1] += 1\n",
    "\n",
    "for i in range(0, 9):\n",
    "    print('%d - %d : %d' % (i * 100 + 200, (i + 1) * 100 + 199, vendedores[i]))"
   ]
  },
  {
   "cell_type": "markdown",
   "metadata": {},
   "source": [
    "# 16"
   ]
  },
  {
   "cell_type": "code",
   "execution_count": null,
   "metadata": {},
   "outputs": [],
   "source": [
    "textoSaltos = ('Primeiro', 'Segundo', 'Terceiro', 'Quarto', 'Quinto')\n",
    "nomeAtleta = ' '\n",
    "atletas = {}\n",
    "\n",
    "while (nomeAtleta != ''):\n",
    "    nomeAtleta = input('Atleta: ')\n",
    "    if (nomeAtleta != ''):\n",
    "        saltos = []\n",
    "        for i in textoSaltos:\n",
    "            saltos.append(float(input('%s Salto: ' % i)))\n",
    "        atletas[nomeAtleta] = saltos\n",
    "\n",
    "print('\\nResultado Final:')\n",
    "for (nomeAtleta, saltos) in atletas.items():\n",
    "    print('Atleta: %s' % nomeAtleta)\n",
    "    print('Saltos: ', saltos)\n",
    "    somaSaltos = 0.0\n",
    "    for salto in saltos:\n",
    "        somaSaltos += salto\n",
    "    print('Media dos Saltos %.2f m' % (somaSaltos / float(len(textoSaltos))))"
   ]
  },
  {
   "cell_type": "markdown",
   "metadata": {},
   "source": [
    "# 17"
   ]
  },
  {
   "cell_type": "code",
   "execution_count": 5,
   "metadata": {},
   "outputs": [
    {
     "name": "stdout",
     "output_type": "stream",
     "text": [
      "Enquete: Quem foi o melhor jogador?\n",
      "Numero do jogador (0=fim): 2\n",
      "Numero do jogador (0=fim): 3\n",
      "Numero do jogador (0=fim): 0\n",
      "Resultado da votacao:\n",
      "Foram computados 2 votos\n",
      "Jogador\tVotos\t%%\n",
      "2\t1\t50.00%\n",
      "3\t1\t50.00%\n",
      "O melhor jogador foi o numero 2, com 1 votos, correspondendo a 50.00 do total de votos\n"
     ]
    }
   ],
   "source": [
    "# Declara um vetor com 23 posicoes inicializando ele com o valor zero\n",
    "votosAtletas = [0] * 23\n",
    "numeroAtleta = -1\n",
    "totalVotos = 0\n",
    "print('Enquete: Quem foi o melhor jogador?')\n",
    "\n",
    "while (numeroAtleta != 0):\n",
    "    numeroAtleta = int(input('Numero do jogador (0=fim): '))\n",
    "    if (numeroAtleta < 0) or (numeroAtleta > 23):\n",
    "        print('Informe um valor entre 1 e 23 ou 0 para sair!')\n",
    "        continue\n",
    "    if (numeroAtleta != 0):\n",
    "        votosAtletas[numeroAtleta - 1] += 1\n",
    "        totalVotos += 1\n",
    "\n",
    "print('Resultado da votacao:')\n",
    "\n",
    "print('Foram computados %d votos' % totalVotos)\n",
    "print('Jogador\\tVotos\\t%%')\n",
    "contador = 1\n",
    "melhorJogador = 0\n",
    "for votosAtleta in votosAtletas:\n",
    "    if (votosAtleta > 0):\n",
    "        print('%d\\t%d\\t%.2f%%' %\\\n",
    "              (contador, votosAtleta, votosAtleta / float(totalVotos) * 100))\n",
    "        if (votosAtleta > votosAtletas[melhorJogador]):\n",
    "            melhorJogador = contador - 1\n",
    "    contador += 1\n",
    "\n",
    "print('O melhor jogador foi o numero %d, com %d votos, correspondendo a '\\\n",
    "    '%.2f do total de votos' %\\\n",
    "    (melhorJogador + 1, votosAtletas[melhorJogador],\n",
    "        votosAtletas[melhorJogador] / float(totalVotos) * 100))"
   ]
  },
  {
   "cell_type": "markdown",
   "metadata": {},
   "source": [
    "# 18"
   ]
  },
  {
   "cell_type": "code",
   "execution_count": 6,
   "metadata": {},
   "outputs": [
    {
     "name": "stdout",
     "output_type": "stream",
     "text": [
      "Qual o melhor Sistema Operacional para uso em servidores?\n",
      "\n",
      "As possiveis respostas sao:\n",
      "\n",
      "1- Windows Server\n",
      "2- Unix\n",
      "3- Linux\n",
      "4- Netware\n",
      "5- Mac OS\n",
      "6- Outro\n",
      "Sistema escolhido (0=fim): 3\n",
      "Sistema escolhido (0=fim): 2\n",
      "Sistema escolhido (0=fim): 5\n",
      "Sistema escolhido (0=fim): 0\n",
      "Sistema Operacional   Votos   %\n",
      "-------------------   -----   ------\n",
      "Windows Server            0   0.00\n",
      "Unix                      1   33.33\n",
      "Linux                     1   33.33\n",
      "Netware                   0   0.00\n",
      "Mac OS                    1   33.33\n",
      "Outro                     0   0.00\n",
      "-------------------   -----\n",
      "Total                     3\n",
      "O sistema operacional mais votado foi o Unix, com 1, correspondendo a 33.33% dos votos.\n"
     ]
    }
   ],
   "source": [
    "sistemasOperacionais = (\n",
    "    'Windows Server', 'Unix', 'Linux', 'Netware', 'Mac OS', 'Outro')\n",
    "votosSistemas = [0] * 6\n",
    "opcao = -1\n",
    "totalVotos = 0\n",
    "print('Qual o melhor Sistema Operacional para uso em servidores?')\n",
    "print('\\nAs possiveis respostas sao:\\n')\n",
    "\n",
    "i = 0\n",
    "for sistema in sistemasOperacionais:\n",
    "    print('%d- %s' % (i + 1, sistemasOperacionais[i]))\n",
    "    i += 1\n",
    "\n",
    "while (opcao != 0):\n",
    "    opcao = int(input('Sistema escolhido (0=fim): '))\n",
    "    if (opcao < 0) or (opcao > 23):\n",
    "        print('Informe um valor entre 1 e 6 ou 0 para sair!')\n",
    "        continue\n",
    "    if (opcao != 0):\n",
    "        votosSistemas[opcao - 1] += 1\n",
    "        totalVotos += 1\n",
    "\n",
    "print('Sistema Operacional   Votos   %')\n",
    "print('-------------------   -----   ------')\n",
    "i = 0\n",
    "maiorVoto = 0\n",
    "for sistema in sistemasOperacionais:\n",
    "    print('%-21s %5d   %2.2f' %\\\n",
    "        (sistemasOperacionais[i], votosSistemas[i],\n",
    "         votosSistemas[i] / float(totalVotos) * 100))\n",
    "    if (votosSistemas[i] > votosSistemas[maiorVoto]):\n",
    "        maiorVoto = i\n",
    "    i += 1\n",
    "print('-------------------   -----')\n",
    "print('Total                   %3d' % totalVotos)\n",
    "\n",
    "print('O sistema operacional mais votado foi o %s, com %d, correspondendo a '\\\n",
    "    '%.2f%% dos votos.' %\\\n",
    "    (sistemasOperacionais[maiorVoto], votosSistemas[maiorVoto],\n",
    "        votosSistemas[maiorVoto] / float(totalVotos) * 100))"
   ]
  },
  {
   "cell_type": "markdown",
   "metadata": {},
   "source": [
    "# 19"
   ]
  },
  {
   "cell_type": "code",
   "execution_count": null,
   "metadata": {},
   "outputs": [],
   "source": [
    "salarios = []\n",
    "salarioFuncionario = -1\n",
    "print('Projecao de Gastos com Abono')\n",
    "print('============================\\n')\n",
    "\n",
    "while (salarioFuncionario != 0):\n",
    "    salarioFuncionario = float(input('Salario: '))\n",
    "    if (salarioFuncionario < 0):\n",
    "        print('Informe um valor maior que 0 ou 0 para sair!')\n",
    "        continue\n",
    "    if (salarioFuncionario != 0):\n",
    "        salarios.append(salarioFuncionario)\n",
    "\n",
    "print('Salario\\tAbono')\n",
    "\n",
    "totalAbono = 0.0\n",
    "totalPiso = 0\n",
    "\n",
    "for salario in salarios:\n",
    "    abono = salario * 0.2\n",
    "    if (abono < 100):\n",
    "        abono = 100.0\n",
    "        totalPiso += 1\n",
    "    totalAbono += abono\n",
    "    if ('maiorAbono' not in vars()) or (abono > maiorAbono):\n",
    "        maiorAbono = abono\n",
    "    print('R$ %.2f\\tR$%.2f' % (salario, abono))\n",
    "\n",
    "print('Foram processados %d votos' % len(salarios))\n",
    "print('Total gasto com abonos: %.2f' % totalAbono)\n",
    "print('Valor minimo pago a %d colaboradores' % totalPiso)\n",
    "print('Maior valor de abono pago: %.2f' % maiorAbono)"
   ]
  },
  {
   "cell_type": "markdown",
   "metadata": {},
   "source": [
    "# 20"
   ]
  },
  {
   "cell_type": "code",
   "execution_count": null,
   "metadata": {},
   "outputs": [],
   "source": [
    "print('Comparativo de Consumo de Combustivel')\n",
    "\n",
    "veiculos = []\n",
    "consumo = []\n",
    "preco = 2.25\n",
    "\n",
    "for i in range(1, 6):\n",
    "    veiculos.append(input('Veiculo %d: ' % i))\n",
    "    consumo.append(float(input('Km por litro: ')))\n",
    "\n",
    "print('Relatorio Final')\n",
    "\n",
    "for i in range(0, 5):\n",
    "    custo = 1000 / consumo[i]\n",
    "    gasto = custo * preco\n",
    "    print('%d - %s - %.2f - %.1f litros - R$ %.2f' %\\)\n",
    "        (i + 1, veiculos[i], consumo[i], custo, gasto)\n",
    "    if ('menorConsumo' not in vars()) or (consumo[i] > consumo[menorConsumo]):\n",
    "        menorConsumo = i\n",
    "\n",
    "print('O menor consumo eh do %s' % veiculos[menorConsumo])"
   ]
  },
  {
   "cell_type": "markdown",
   "metadata": {},
   "source": [
    "# 21"
   ]
  },
  {
   "cell_type": "code",
   "execution_count": null,
   "metadata": {},
   "outputs": [],
   "source": [
    "idMouse = -1\n",
    "defeitos = ('1 - Necessita de Esfera',\n",
    "            '2 - Necessita de limpeza',\n",
    "            '3 - Necessita troca de cabo ou conector',\n",
    "            '4 - Quebrado ou inutilizado')\n",
    "totalDefeitos = [0] * 4\n",
    "totalMouses = 0\n",
    "\n",
    "for i in defeitos:\n",
    "    print('%s' % i)\n",
    "\n",
    "while (idMouse != 0):\n",
    "    idMouse = int(input('Identificador do Mouse: '))\n",
    "    if (idMouse != 0):\n",
    "        defeito = int(input('Codigo do defeito: '))\n",
    "        totalDefeitos[defeito - 1] += 1\n",
    "        totalMouses += 1\n",
    "\n",
    "print('Quantidade de mouses: %d ' % totalMouses)\n",
    "\n",
    "print('Situacao\\tQuantidade\\tPercentual')\n",
    "for i in range(0, len(defeitos)):\n",
    "    print('%s\\t%d\\t%.2f' %\\\n",
    "        (defeitos[i], totalDefeitos[i], totalDefeitos[i] /\n",
    "            float(totalMouses) * 100))"
   ]
  },
  {
   "cell_type": "markdown",
   "metadata": {},
   "source": [
    "# 22"
   ]
  },
  {
   "cell_type": "code",
   "execution_count": null,
   "metadata": {},
   "outputs": [],
   "source": [
    "arquivoEntrada = open('entrada.txt', 'r')\n",
    "\n",
    "# Coloca todas as linhas em memoria\n",
    "linhas = arquivoEntrada.readlines()\n",
    "\n",
    "# Fecha o arquivo\n",
    "arquivoEntrada.close()\n",
    "\n",
    "usuarios = []\n",
    "espacosUtilizados = []\n",
    "espacoTotal = 0.0\n",
    "for linha in linhas:\n",
    "    campos = linha.split()\n",
    "    usuario = campos[0]\n",
    "    espacoUtilizado = int(campos[1])\n",
    "    usuarios.append(usuario)\n",
    "    espacosUtilizados.append(espacoUtilizado)\n",
    "    espacoTotal += espacoUtilizado\n",
    "\n",
    "# Abre o arquivo para escrita\n",
    "arquivoSaida = open('23_saida.txt', 'w')\n",
    "\n",
    "arquivoSaida.write(\n",
    "    'ACME Inc.               Uso do espaco em disco pelos usuarios\\n')\n",
    "arquivoSaida.write(\n",
    "    '------------------------------------------------------------------------')\n",
    "arquivoSaida.write('\\nNr.  Usuario        Espaco utilizado     %% do uso')\n",
    "\n",
    "for i in range(0, len(usuarios)):\n",
    "    espacoMB = espacosUtilizados[i] / (1024.0 * 1024.0)\n",
    "    percentualUso = espacosUtilizados[i] / espacoTotal\n",
    "    arquivoSaida.write('\\n%d - %s - %.2f MB - %.2f%%' %\n",
    "                       (i + 1, usuarios[i], espacoMB, percentualUso * 100.0))\n",
    "\n",
    "arquivoSaida.write('\\nEspaco total ocupado: %.2f MB' %\n",
    "                   (espacoTotal / (1024.0 * 1024.0)))\n",
    "arquivoSaida.write('\\nEspaco medio ocupado: %.2f MB' %\n",
    "                   (espacoTotal / len(usuarios) / (1024.0 * 1024.0)))\n",
    "\n",
    "# Fecha o arquivo\n",
    "arquivoSaida.close()"
   ]
  }
 ],
 "metadata": {
  "kernelspec": {
   "display_name": "Python 3",
   "language": "python",
   "name": "python3"
  },
  "language_info": {
   "codemirror_mode": {
    "name": "ipython",
    "version": 3
   },
   "file_extension": ".py",
   "mimetype": "text/x-python",
   "name": "python",
   "nbconvert_exporter": "python",
   "pygments_lexer": "ipython3",
   "version": "3.7.4"
  }
 },
 "nbformat": 4,
 "nbformat_minor": 2
}
