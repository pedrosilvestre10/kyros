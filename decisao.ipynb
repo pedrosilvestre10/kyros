{
 "cells": [
  {
   "cell_type": "markdown",
   "metadata": {},
   "source": [
    "16.\tFaça um programa que calcule as raízes de uma equação do segundo grau, na forma ax2 + bx + c. O programa deverá pedir os valores de a, b e c e fazer as consistências, informando ao usuário nas seguintes situações:\n",
    "a.\tSe o usuário informar o valor de A igual a zero, a equação não é do segundo grau e o programa não deve fazer pedir os demais valores, sendo encerrado;\n",
    "b.\tSe o delta calculado for negativo, a equação não possui raizes reais. Informe ao usuário e encerre o programa;\n",
    "c.\tSe o delta calculado for igual a zero a equação possui apenas uma raiz real; informe-a ao usuário;\n",
    "d.\tSe o delta for positivo, a equação possui duas raiz reais; informe-as ao usuário;\n"
   ]
  },
  {
   "cell_type": "code",
   "execution_count": 1,
   "metadata": {},
   "outputs": [
    {
     "name": "stdout",
     "output_type": "stream",
     "text": [
      "Calculando as raízes de uma equação de 2º grau\n",
      "\n",
      "Entre com o valor de a: 1\n",
      "Entre com o valor de b: 4\n",
      "Entre com o valor de c: 4\n",
      "A equação possui apenas uma raiz real -2.0\n"
     ]
    }
   ],
   "source": [
    "print('Calculando as raízes de uma equação de 2º grau\\n')\n",
    "a = float(input('Entre com o valor de a: '))\n",
    "b = float(input('Entre com o valor de b: '))\n",
    "c = float(input('Entre com o valor de c: '))\n",
    "\n",
    "D = (b**2 - 4*a*c)\n",
    "if D < 0:\n",
    "    print(\"A equação não possui raizes reais\")\n",
    "    exit()\n",
    "elif D == 0:\n",
    "    print(\"A equação possui apenas uma raiz real\", -b/(2*a))\n",
    "    exit()\n",
    "else:\n",
    "    print(\"A equação possui duas raizes reais\")\n",
    "    x1 = (-b + D**(1/2)) / (2*a)\n",
    "    x2 = (-b - D**(1/2)) / (2*a)\n",
    "\n",
    "    print('\\nValor de x1: ',x1)\n",
    "    print('Valor de x2: ',x2)\n"
   ]
  },
  {
   "cell_type": "markdown",
   "metadata": {},
   "source": [
    "20.\tFaça um Programa para leitura de três notas parciais de um aluno. O programa deve calcular a média alcançada por aluno e presentar:\n",
    " .\tA mensagem \"Aprovado\", se a média for maior ou igual a 7, com a respectiva média alcançada;\n",
    "a.\tA mensagem \"Reprovado\", se a média for menor do que 7, com a respectiva média alcançada;\n",
    "b.\tA mensagem \"Aprovado com Distinção\", se a média for igual a 10.\n"
   ]
  },
  {
   "cell_type": "code",
   "execution_count": 4,
   "metadata": {},
   "outputs": [
    {
     "name": "stdout",
     "output_type": "stream",
     "text": [
      "Entre com a nota 1: 10\n",
      "Entre com a nota 2: 10\n",
      "Entre com a nota 3: 10\n",
      "Aprovado com Distincao\n"
     ]
    }
   ],
   "source": [
    "a = float(input('Entre com a nota 1: '))\n",
    "b = float(input('Entre com a nota 2: '))\n",
    "c = float(input('Entre com a nota 3: '))\n",
    "\n",
    "media = (a+b+c)/3\n",
    "\n",
    "if media>=7 and media != 10:\n",
    "    print('Aprovado')\n",
    "elif media == 10:\n",
    "    print('Aprovado com Distincao')\n",
    "else:\n",
    "    print('Reprovado')"
   ]
  },
  {
   "cell_type": "markdown",
   "metadata": {},
   "source": [
    "21.\tFaça um Programa para um caixa eletrônico. O programa deverá perguntar ao usuário a valor do saque e depois informar quantas notas de cada valor serão fornecidas. As notas disponíveis serão as de 1, 5, 10, 50 e 100 reais. O valor mínimo é de 10 reais e o máximo de 600 reais. O programa não deve se preocupar com a quantidade de notas existentes na máquina.\n",
    " .\tExemplo 1: Para sacar a quantia de 256 reais, o programa fornece duas notas de 100, uma nota de 50, uma nota de 5 e uma nota de 1;\n",
    "a.\tExemplo 2: Para sacar a quantia de 399 reais, o programa fornece três notas de 100, uma nota de 50, quatro notas de 10, uma nota de 5 e quatro notas de 1."
   ]
  },
  {
   "cell_type": "code",
   "execution_count": 7,
   "metadata": {},
   "outputs": [
    {
     "name": "stdout",
     "output_type": "stream",
     "text": [
      "Caixa eletronico\n",
      "\n",
      "Entre com o valor a sacar: 601\n"
     ]
    }
   ],
   "source": [
    "print('Caixa eletronico\\n')\n",
    "a = float(input('Entre com o valor a sacar: '))\n",
    "if a < 10 or a > 600:\n",
    "    exit()\n",
    "else:\n",
    "    cem = int(a / 100)\n",
    "    a = a - (cem*100)\n",
    "    \n",
    "    cinquenta = int(a/50)\n",
    "    a = a - (cinquenta*50)\n",
    "\n",
    "    dez = int(a/10)\n",
    "    a = a - (dez*10)\n",
    "\n",
    "    cinco = int(a/5)\n",
    "    a = a - (cinco*5)\n",
    "\n",
    "    um = int(a)\n",
    "    \n",
    "    print('Notas R$100,00 = ',cem)\n",
    "    print('Notas R$ 50,00 = ',cinquenta)\n",
    "    print('Notas R$ 10,00 = ',dez)\n",
    "    print('Notas R$  5,00 = ',cinco)\n",
    "    print('Notas R$  1,00 = ',um)"
   ]
  },
  {
   "cell_type": "markdown",
   "metadata": {},
   "source": [
    "22.\tFaça um Programa que peça um número inteiro e determine se ele é par ou impar. Dica: utilize o operador módulo (resto da divisão)."
   ]
  },
  {
   "cell_type": "code",
   "execution_count": 2,
   "metadata": {},
   "outputs": [
    {
     "name": "stdout",
     "output_type": "stream",
     "text": [
      "Entre com um valor inteiro: 3\n",
      "Seu numero eh impar\n"
     ]
    }
   ],
   "source": [
    "a = int(input('Entre com um valor inteiro: '))\n",
    "\n",
    "if a%2 == 0:\n",
    "    print('Seu numero eh par')\n",
    "else:\n",
    "    print('Seu numero eh impar')"
   ]
  },
  {
   "cell_type": "markdown",
   "metadata": {},
   "source": [
    "25.\tFaça um programa que faça 5 perguntas para uma pessoa sobre um crime. As perguntas são:\n",
    " .\t\"Telefonou para a vítima?\"\n",
    "a.\t\"Esteve no local do crime?\"\n",
    "b.\t\"Mora perto da vítima?\"\n",
    "c.\t\"Devia para a vítima?\"\n",
    "d.\t\"Já trabalhou com a vítima?\" O programa deve no final emitir uma classificação sobre a participação da pessoa no crime. Se a pessoa responder positivamente a 2 questões ela deve ser classificada como \"Suspeita\", entre 3 e 4 como \"Cúmplice\" e 5 como \"Assassino\". Caso contrário, ele será classificado como \"Inocente\".\n"
   ]
  },
  {
   "cell_type": "code",
   "execution_count": 7,
   "metadata": {},
   "outputs": [
    {
     "name": "stdout",
     "output_type": "stream",
     "text": [
      "Teste de criminalidade [Responda s para sim e n para nao]\n",
      "\n",
      "Telefonou para a vítima?n\n",
      "Telefonou para a vítima?n\n",
      "Telefonou para a vítima?nn\n",
      "Telefonou para a vítima?n\n",
      "Telefonou para a vítima?n\n",
      "Inocente\n"
     ]
    }
   ],
   "source": [
    "print('Teste de criminalidade [Responda s para sim e n para nao]\\n')\n",
    "a = input('Telefonou para a vítima?')\n",
    "i = 0\n",
    "if (a == 's'):\n",
    "    i = i + 1\n",
    "b = input('Esteve no local do crime?')\n",
    "if (b == 's'):\n",
    "    i = i + 1\n",
    "c = input('Mora perto da vítima?')\n",
    "if (c == 's'):\n",
    "    i = i + 1\n",
    "d = input('Devia para a vítima?')\n",
    "if (d == 's'):\n",
    "    i = i + 1\n",
    "e = input('Já trabalhou com a vítima?')\n",
    "if (e == 's'):\n",
    "    i = i + 1\n",
    "    \n",
    "if i < 2:\n",
    "    print('Inocente')\n",
    "elif i == 2:\n",
    "    print('Suspeito')\n",
    "elif i == 3 or i == 4:\n",
    "    print('Cumplice')\n",
    "else:\n",
    "    print('Culpado')\n"
   ]
  },
  {
   "cell_type": "markdown",
   "metadata": {},
   "source": [
    "28.\tO Hipermercado Tabajara está com uma promoção de carnes que é imperdível. Confira:\n",
    "o\t                      Até 5 Kg           Acima de 5 Kg\n",
    "o\tFile Duplo      R$ 4,90 por Kg          R$ 5,80 por Kg\n",
    "o\tAlcatra         R$ 5,90 por Kg          R$ 6,80 por Kg\n",
    "o\tPicanha         R$ 6,90 por Kg          R$ 7,80 por Kg\n",
    "Para atender a todos os clientes, cada cliente poderá levar apenas um dos tipos de carne da promoção, porém não há limites para a quantidade de carne por cliente. Se compra for feita no cartão Tabajara o cliente receberá ainda um desconto de 5% sobre o total da compra. Escreva um programa que peça o tipo e a quantidade de carne comprada pelo usuário e gere um cupom fiscal, contendo as informações da compra: tipo e quantidade de carne, preço total, tipo de pagamento, valor do desconto e valor a pagar.\n"
   ]
  },
  {
   "cell_type": "code",
   "execution_count": 24,
   "metadata": {},
   "outputs": [
    {
     "name": "stdout",
     "output_type": "stream",
     "text": [
      "                        Até 5 Kg                Acima de 5 Kg\n",
      "(Tipo 1)File Duplo      R$ 4,90 por Kg          R$ 5,80 por Kg\n",
      "(Tipo 2)Alcatra         R$ 5,90 por Kg          R$ 6,80 por Kg\n",
      "(Tipo 3)Picanha         R$ 6,90 por Kg          R$ 7,80 por Kg\n",
      "\n",
      "Qual o tipo da carne?3\n",
      "Qual a quantidade de carne?3\n",
      "A compra sera feita com o cartao tabajara?(s ou n)s\n",
      "-----------------------Cupom Fiscal--------------------------\n",
      "\"\n",
      "Picanha Valor: R$ 20.70\n",
      "\n",
      "Desconto: R$ 1.04 \n",
      "\n",
      "Tipo do pagamento Cartao Tabajara\n",
      "Valor a pagar19.67\n"
     ]
    }
   ],
   "source": [
    "print(\n",
    "\"                        Até 5 Kg                Acima de 5 Kg\\n\"\n",
    "\"(Tipo 1)File Duplo      R$ 4,90 por Kg          R$ 5,80 por Kg\\n\"\n",
    "\"(Tipo 2)Alcatra         R$ 5,90 por Kg          R$ 6,80 por Kg\\n\"\n",
    "\"(Tipo 3)Picanha         R$ 6,90 por Kg          R$ 7,80 por Kg\\n\"\n",
    ")\n",
    "\n",
    "a = int(input('Qual o tipo da carne?'))\n",
    "b = int(input('Qual a quantidade de carne?'))\n",
    "\n",
    "if a == 1 and b <= 5:\n",
    "    val = 4.9*b\n",
    "    carne = 'File Duplo'\n",
    "elif a == 1 and b > 5:\n",
    "    val = 5.8*b\n",
    "    carne = 'File Duplo'\n",
    "elif a == 2 and b <= 5:\n",
    "    val = 5.9*b\n",
    "    carne = 'Alcatra'\n",
    "elif a == 2 and b > 5:\n",
    "    val = 6.8*b\n",
    "    carne = 'Alcatra'\n",
    "elif a == 3 and b <= 5:\n",
    "    val = 6.9*b\n",
    "    carne = 'Picanha'\n",
    "else:\n",
    "    val = 7.8*b\n",
    "    carne = 'Picanha'\n",
    "\n",
    "c = input('A compra sera feita com o cartao tabajara?(s ou n)')\n",
    "if (c == 's'):\n",
    "    desc = (val*0.05)\n",
    "    val_final = val - desc\n",
    "    pagm = 'Cartao Tabajara'\n",
    "else:\n",
    "    val_final = val\n",
    "    desc = 0\n",
    "    pagm = 'Outros Metodos'\n",
    "    \n",
    "print(\"\"\"-----------------------Cupom Fiscal--------------------------\\n\n",
    "{} Valor: R${:.2f}\\n\n",
    "Desconto: R${:.2f} \\n\n",
    "Tipo do pagamento: {}\n",
    "Valor a pagar: R${:.2f}\"\"\".format(carne, val, desc, pagm, val_final)\n",
    ")"
   ]
  },
  {
   "cell_type": "code",
   "execution_count": null,
   "metadata": {},
   "outputs": [],
   "source": []
  }
 ],
 "metadata": {
  "kernelspec": {
   "display_name": "Python 3",
   "language": "python",
   "name": "python3"
  },
  "language_info": {
   "codemirror_mode": {
    "name": "ipython",
    "version": 3
   },
   "file_extension": ".py",
   "mimetype": "text/x-python",
   "name": "python",
   "nbconvert_exporter": "python",
   "pygments_lexer": "ipython3",
   "version": "3.7.4"
  }
 },
 "nbformat": 4,
 "nbformat_minor": 2
}
