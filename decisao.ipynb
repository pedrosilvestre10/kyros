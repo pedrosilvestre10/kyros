{
 "cells": [
  {
   "cell_type": "markdown",
   "metadata": {},
   "source": [
    "# 1"
   ]
  },
  {
   "cell_type": "code",
   "execution_count": null,
   "metadata": {},
   "outputs": [],
   "source": [
    "num1 = int(input('Informe um numero: '))\n",
    "num2 = int(input('Informe outro numero: '))\n",
    "\n",
    "if (num1 > num2):\n",
    "    print(num1, 'eh maior que', num2)\n",
    "elif (num1 < num2):\n",
    "    print(num2, 'eh maior que', num1)\n",
    "else:\n",
    "    print('Os numeros sao iguais')"
   ]
  },
  {
   "cell_type": "markdown",
   "metadata": {},
   "source": [
    "# 2"
   ]
  },
  {
   "cell_type": "code",
   "execution_count": null,
   "metadata": {},
   "outputs": [],
   "source": [
    "num = int(input('Informe um numero: '))\n",
    "\n",
    "if (num > 0):\n",
    "    print(num, 'eh positivo')\n",
    "elif (num < 0):\n",
    "    print(num, 'eh negativo')\n",
    "else:\n",
    "    print('O numero eh igual a 0')"
   ]
  },
  {
   "cell_type": "markdown",
   "metadata": {},
   "source": [
    "# 3"
   ]
  },
  {
   "cell_type": "code",
   "execution_count": null,
   "metadata": {},
   "outputs": [],
   "source": [
    "sexo = input('Informe F para FEMININO ou M para MASCULINO: ')\n",
    "\n",
    "if (sexo.upper() == 'M'):\n",
    "    print('MASCULINO')\n",
    "elif (sexo.upper() == 'F'):\n",
    "    print('FEMININO')\n",
    "else:\n",
    "    print('Sexo Invalido')"
   ]
  },
  {
   "cell_type": "markdown",
   "metadata": {},
   "source": [
    "# 4"
   ]
  },
  {
   "cell_type": "code",
   "execution_count": 2,
   "metadata": {},
   "outputs": [
    {
     "name": "stdout",
     "output_type": "stream",
     "text": [
      "Informe uma letra: a\n",
      "VOGAL\n"
     ]
    }
   ],
   "source": [
    "letra = input('Informe uma letra: ')\n",
    "\n",
    "if ('AEIOU'.find(letra.upper()) >= 0):\n",
    "    print('VOGAL')\n",
    "else:\n",
    "    print('CONSOANTE')"
   ]
  },
  {
   "cell_type": "markdown",
   "metadata": {},
   "source": [
    "# 5"
   ]
  },
  {
   "cell_type": "code",
   "execution_count": null,
   "metadata": {},
   "outputs": [],
   "source": [
    "nota1 = float(input('Informe a primeira nota: '))\n",
    "nota2 = float(input('Informe a segunda nota: '))\n",
    "\n",
    "media = (nota1 + nota2) / 2.0\n",
    "\n",
    "print('A media do aluno eh:', media)\n",
    "if (media == 10):\n",
    "    print('Aprovado com Distincao')\n",
    "elif (media >= 7):\n",
    "    print('Aprovado')\n",
    "else:\n",
    "    print('Reprovado')"
   ]
  },
  {
   "cell_type": "markdown",
   "metadata": {},
   "source": [
    "# 6"
   ]
  },
  {
   "cell_type": "code",
   "execution_count": null,
   "metadata": {},
   "outputs": [],
   "source": [
    "num1 = int(input('Informe um numero: '))\n",
    "num2 = int(input('Informe outro numero: '))\n",
    "num3 = int(input('Informe mais um numero: '))\n",
    "\n",
    "if (num1 == num2) and (num1 == num3):\n",
    "    print('Os numeros sao iguais')\n",
    "elif (num1 > num2) and (num1 > num3):\n",
    "    print('O maior numero eh:', num1)\n",
    "elif (num2 > num3):\n",
    "    print('O maior numero eh:', num2)\n",
    "else:\n",
    "    print('O maior numero eh:', num3)"
   ]
  },
  {
   "cell_type": "markdown",
   "metadata": {},
   "source": [
    "# 7"
   ]
  },
  {
   "cell_type": "code",
   "execution_count": null,
   "metadata": {},
   "outputs": [],
   "source": [
    "num1 = int(input('Informe um numero: '))\n",
    "num2 = int(input('Informe outro numero: '))\n",
    "num3 = int(input('Informe mais um numero: '))\n",
    "\n",
    "if (num1 == num2) and (num1 == num3):\n",
    "    print('Os numeros sao iguais')\n",
    "else:\n",
    "    if (num1 > num2) and (num1 > num3):\n",
    "        print('O maior numero eh:', num1)\n",
    "    elif (num2 > num3):\n",
    "        print('O maior numero eh:', num2)\n",
    "    else:\n",
    "        print('O maior numero eh:', num3)\n",
    "\n",
    "    if (num1 < num2) and (num1 < num3):\n",
    "        print('O menor numero eh:', num1)\n",
    "    elif (num2 < num3):\n",
    "        print('O menor numero eh:', num2)\n",
    "    else:\n",
    "        print('O menor numero eh:', num3)"
   ]
  },
  {
   "cell_type": "markdown",
   "metadata": {},
   "source": [
    "# 8"
   ]
  },
  {
   "cell_type": "code",
   "execution_count": null,
   "metadata": {},
   "outputs": [],
   "source": [
    "preco1 = int(input('Informe o primeiro preco: '))\n",
    "preco2 = int(input('Informe o segundo preco: '))\n",
    "preco3 = int(input('Informe o terceiro preco: '))\n",
    "\n",
    "if (preco1 == preco2) and (preco1 == preco3):\n",
    "    print('Pode comprar qualquer um, ja que os precos sao iguais.')\n",
    "elif (num1 < num2) and (num1 < num3):\n",
    "    print('Compre pelo primeiro preco')\n",
    "elif (num2 < num3):\n",
    "    print('Compre pelo segundo preco')\n",
    "else:\n",
    "    print('Compre pelo terceiro preco')"
   ]
  },
  {
   "cell_type": "markdown",
   "metadata": {},
   "source": [
    "# 9"
   ]
  },
  {
   "cell_type": "code",
   "execution_count": 3,
   "metadata": {},
   "outputs": [
    {
     "name": "stdout",
     "output_type": "stream",
     "text": [
      "Informe um numero: 4\n",
      "Informe outro numero: 3\n",
      "Informe mais um numero: 6\n",
      "6\n",
      "4\n",
      "3\n"
     ]
    }
   ],
   "source": [
    "num1 = int(input('Informe um numero: '))\n",
    "num2 = int(input('Informe outro numero: '))\n",
    "num3 = int(input('Informe mais um numero: '))\n",
    "\n",
    "if (num1 >= num2) and (num1 >= num3):\n",
    "    print(num1)\n",
    "    if (num2 >= num3):\n",
    "        print(num2)\n",
    "        print(num3)\n",
    "    else:\n",
    "        print(num3)\n",
    "        print(num2)\n",
    "elif (num2 >= num3):\n",
    "    print(num2)\n",
    "    if (num1 >= num3):\n",
    "        print(num1)\n",
    "        print(num3)\n",
    "    else:\n",
    "        print(num3)\n",
    "        print(num1)\n",
    "else:\n",
    "    print(num3)\n",
    "    if (num1 >= num2):\n",
    "        print(num1)\n",
    "        print(num2)\n",
    "    else:\n",
    "        print(num2)\n",
    "        print(num1)"
   ]
  },
  {
   "cell_type": "markdown",
   "metadata": {},
   "source": [
    "# 10"
   ]
  },
  {
   "cell_type": "code",
   "execution_count": 6,
   "metadata": {},
   "outputs": [
    {
     "name": "stdout",
     "output_type": "stream",
     "text": [
      "Informe o turno em que voce estuda \n",
      "[M]atutino \n",
      "[V]espertino \n",
      "[N]oturno\n",
      "Opcao escolhida: b\n",
      "Valor invalido\n"
     ]
    }
   ],
   "source": [
    "print('Informe o turno em que voce estuda \\n[M]atutino \\n[V]espertino \\n[N]oturno')\n",
    "turno = input('Opcao escolhida: ').upper()\n",
    "\n",
    "if (turno == 'M'):\n",
    "    print('Bom dia!')\n",
    "elif (turno == 'V'):\n",
    "    print('Boa tarde!')\n",
    "elif (turno == 'N'):\n",
    "    print('Boa noite!')\n",
    "else:\n",
    "    print('Valor invalido')"
   ]
  },
  {
   "cell_type": "markdown",
   "metadata": {},
   "source": [
    "# 11"
   ]
  },
  {
   "cell_type": "code",
   "execution_count": null,
   "metadata": {},
   "outputs": [],
   "source": [
    "salario = float(input('Informe o valor do salario do colaborador: '))\n",
    "\n",
    "if (salario <= 280):\n",
    "    percentual = 20\n",
    "elif (salario <= 700):\n",
    "    percentual = 15\n",
    "elif (salario <= 1500):\n",
    "    percentual = 10\n",
    "else:\n",
    "    percentual = 5\n",
    "\n",
    "aumento = salario * (percentual / 100.0)\n",
    "novoSalario = salario + aumento\n",
    "\n",
    "print('Salario antes do reajuste:', salario)\n",
    "print('Percentual de aumento:', percentual, '%')\n",
    "print('Valor do aumento:', aumento)\n",
    "print('Novo Salario:', novoSalario)"
   ]
  },
  {
   "cell_type": "markdown",
   "metadata": {},
   "source": [
    "# 12"
   ]
  },
  {
   "cell_type": "code",
   "execution_count": 8,
   "metadata": {},
   "outputs": [
    {
     "name": "stdout",
     "output_type": "stream",
     "text": [
      "Informe o valor da hora trabalhada: 10\n",
      "Informe a quantidade de horas trabalhadas no mes:23\n",
      "Salario Bruto:  10.0 * 23.0 ): R$ 230.0\n",
      "(-) IR ( 0 %): R$ 0.0\n",
      "(-) Sindicato ( 3 %): R$ 6.8999999999999995\n",
      "FGTS ( 11 %): R$ 25.3\n",
      "Total de Descontos: R$ 6.8999999999999995\n",
      "Salario Liquido: R$ 223.1\n"
     ]
    }
   ],
   "source": [
    "# Solicita os dados\n",
    "valorPorHora = float(input('Informe o valor da hora trabalhada: '))\n",
    "quantidadeHoras =\\\n",
    "    float(input('Informe a quantidade de horas trabalhadas no mes:'))\n",
    "\n",
    "# Calcula o salario bruto\n",
    "salarioBruto = valorPorHora * quantidadeHoras\n",
    "\n",
    "# Calcula o imposto de renda\n",
    "if (salarioBruto > 2500):\n",
    "    aliquotaIR = 20\n",
    "elif (salarioBruto > 1500):\n",
    "    aliquotaIR = 10\n",
    "elif (salarioBruto > 900):\n",
    "    aliquotaIR = 5\n",
    "else:\n",
    "    aliquotaIR = 0\n",
    "\n",
    "valorIR = salarioBruto * (aliquotaIR / 100.0)\n",
    "\n",
    "# Calcula o valor para o sindicato\n",
    "valorSindicato = salarioBruto * (3 / 100.0)\n",
    "\n",
    "# Calcula o total de descontos\n",
    "totalDescontos = valorIR + valorSindicato\n",
    "\n",
    "# Calcula o valor do FGTS\n",
    "valorFGTS = salarioBruto * (11 / 100.0)\n",
    "\n",
    "# Calcula o salario liquido\n",
    "salarioLiquido = salarioBruto - totalDescontos\n",
    "\n",
    "# Imprime o resultado\n",
    "print('Salario Bruto: ', valorPorHora, '*', quantidadeHoras, ': R$',\\\n",
    "    salarioBruto)\n",
    "print('(-) IR (', aliquotaIR, '%): R$', valorIR)\n",
    "print('(-) Sindicato ( 3 %): R$', valorSindicato)\n",
    "print('FGTS ( 11 %): R$', valorFGTS)\n",
    "print('Total de Descontos: R$', totalDescontos)\n",
    "print('Salario Liquido: R$', salarioLiquido)"
   ]
  },
  {
   "cell_type": "markdown",
   "metadata": {},
   "source": [
    "# 13"
   ]
  },
  {
   "cell_type": "code",
   "execution_count": null,
   "metadata": {},
   "outputs": [],
   "source": [
    "numero_dia = int(input('Informe um numero para saber o dia da semana: '))\n",
    "\n",
    "if (numero_dia == 1):\n",
    "    print('Domingo')\n",
    "elif (numero_dia == 2):\n",
    "    print('Segunda')\n",
    "elif (numero_dia == 3):\n",
    "    print('Terca')\n",
    "elif (numero_dia == 4):\n",
    "    print('Quarta')\n",
    "elif (numero_dia == 5):\n",
    "    print('Quinta')\n",
    "elif (numero_dia == 6):\n",
    "    print('Sexta')\n",
    "elif (numero_dia == 7):\n",
    "    print('Sabado')\n",
    "else:\n",
    "    print('Valor invalido')"
   ]
  },
  {
   "cell_type": "markdown",
   "metadata": {},
   "source": [
    "# 14"
   ]
  },
  {
   "cell_type": "code",
   "execution_count": null,
   "metadata": {},
   "outputs": [],
   "source": [
    "nota1 = float(input('Informe o valor da primeira nota: '))\n",
    "nota2 = float(input('Informe o valor da segunda nota: '))\n",
    "\n",
    "media = (nota1 + nota2) / 2\n",
    "\n",
    "if (media < 4):\n",
    "    print'Conceito: E')\n",
    "    aprovado = False\n",
    "elif (media < 6):\n",
    "    print('Conceito: D')\n",
    "    aprovado = False\n",
    "elif (media < 7.5):\n",
    "    print('Conceito: C')\n",
    "    aprovado = True\n",
    "elif (media < 9):\n",
    "    print('Conceito: B')\n",
    "    aprovado = True\n",
    "else:\n",
    "    print('Conceito: A')\n",
    "    aprovado = True\n",
    "\n",
    "if (aprovado):\n",
    "    print('APROVADO')\n",
    "else:\n",
    "    print('REPROVADO')"
   ]
  },
  {
   "cell_type": "markdown",
   "metadata": {},
   "source": [
    "# 15"
   ]
  },
  {
   "cell_type": "code",
   "execution_count": 10,
   "metadata": {},
   "outputs": [
    {
     "name": "stdout",
     "output_type": "stream",
     "text": [
      "Informe os valores dos lados do triangulo\n",
      "Lado 1: 1\n",
      "Lado 2: 53\n",
      "Lado 3: 120\n",
      "Os valores nao formam um Triangulo\n"
     ]
    }
   ],
   "source": [
    "print('Informe os valores dos lados do triangulo')\n",
    "lado1 = float(input('Lado 1: '))\n",
    "lado2 = float(input('Lado 2: '))\n",
    "lado3 = float(input('Lado 3: '))\n",
    "\n",
    "# Verifica se eh um triangulo\n",
    "if (lado1 > (lado2 + lado3)) or (lado2 > (lado1 + lado3)) or (lado3 > (lado1 + lado2)):\n",
    "    ehTriangulo = False\n",
    "else:\n",
    "    ehTriangulo = True\n",
    "\n",
    "if (ehTriangulo):\n",
    "    print('Os valores formam um Triangulo')\n",
    "    # Verifica o tipo de triangulo\n",
    "    if (lado1 == lado2) and (lado2 == lado3):\n",
    "        print('Triangulo Equilatero')\n",
    "    elif (lado1 == lado2) or (lado1 == lado2) or (lado2 == lado3):\n",
    "        print('Triangulo Isosceles')\n",
    "    else:\n",
    "        print('Triangulo Escaleno')\n",
    "else:\n",
    "    print('Os valores nao formam um Triangulo')"
   ]
  },
  {
   "cell_type": "markdown",
   "metadata": {},
   "source": [
    "# 16"
   ]
  },
  {
   "cell_type": "code",
   "execution_count": 1,
   "metadata": {},
   "outputs": [
    {
     "name": "stdout",
     "output_type": "stream",
     "text": [
      "Calculando as raízes de uma equação de 2º grau\n",
      "\n",
      "Entre com o valor de a: 1\n",
      "Entre com o valor de b: 4\n",
      "Entre com o valor de c: 4\n",
      "A equação possui apenas uma raiz real -2.0\n"
     ]
    }
   ],
   "source": [
    "print('Calculando as raízes de uma equação de 2º grau\\n')\n",
    "a = float(input('Entre com o valor de a: '))\n",
    "b = float(input('Entre com o valor de b: '))\n",
    "c = float(input('Entre com o valor de c: '))\n",
    "\n",
    "D = (b**2 - 4*a*c)\n",
    "if D < 0:\n",
    "    print(\"A equação não possui raizes reais\")\n",
    "    exit()\n",
    "elif D == 0:\n",
    "    print(\"A equação possui apenas uma raiz real\", -b/(2*a))\n",
    "    exit()\n",
    "else:\n",
    "    print(\"A equação possui duas raizes reais\")\n",
    "    x1 = (-b + D**(1/2)) / (2*a)\n",
    "    x2 = (-b - D**(1/2)) / (2*a)\n",
    "\n",
    "    print('\\nValor de x1: ',x1)\n",
    "    print('Valor de x2: ',x2)\n"
   ]
  },
  {
   "cell_type": "markdown",
   "metadata": {},
   "source": [
    "# 17"
   ]
  },
  {
   "cell_type": "code",
   "execution_count": null,
   "metadata": {},
   "outputs": [],
   "source": [
    "ano = int(input('Informe um ano: '))\n",
    "\n",
    "bissexto = False\n",
    "if (ano % 4 == 0):\n",
    "    bissexto = True\n",
    "    if (ano % 100 == 0) and (ano % 400 != 0):\n",
    "        bissexto = False\n",
    "\n",
    "if (bissexto):\n",
    "    print('O ano eh BISSEXTO')\n",
    "else:\n",
    "    print('O ano NAO EH BISSEXTO')"
   ]
  },
  {
   "cell_type": "markdown",
   "metadata": {},
   "source": [
    "# 18"
   ]
  },
  {
   "cell_type": "code",
   "execution_count": null,
   "metadata": {},
   "outputs": [],
   "source": [
    "data = raw_input('Informe uma data no formato dd/mm/yyyy: ')\n",
    "\n",
    "dia = int(data[0:2])\n",
    "mes = int(data[3:5])\n",
    "ano = int(data[6:])\n",
    "\n",
    "print dia, mes, ano\n",
    "\n",
    "bissexto = False\n",
    "if (ano % 4 == 0):\n",
    "    bissexto = True\n",
    "    if (ano % 100 == 0) and (ano % 400 != 0):\n",
    "        bissexto = False\n",
    "\n",
    "valida = True\n",
    "if (mes in (1, 3, 5, 7, 8, 10, 12)):\n",
    "    if (dia < 1) or (dia > 31):\n",
    "        valida = False\n",
    "elif (mes in (4, 6, 9, 11)):\n",
    "    if (dia < 1) or (dia > 30):\n",
    "        valida = False\n",
    "else:\n",
    "    if (bissexto):\n",
    "        if (dia < 1) or (dia > 29):\n",
    "            valida = False\n",
    "    else:\n",
    "        if (dia < 1) or (dia > 28):\n",
    "            valida = False\n",
    "\n",
    "if (valida):\n",
    "    print('Data VALIDA')\n",
    "else:\n",
    "    print('Data INVALIDA')"
   ]
  },
  {
   "cell_type": "markdown",
   "metadata": {},
   "source": [
    "# 19"
   ]
  },
  {
   "cell_type": "code",
   "execution_count": 12,
   "metadata": {},
   "outputs": [
    {
     "name": "stdout",
     "output_type": "stream",
     "text": [
      "Informe um numero inteiro: 239849\n",
      "2398.49 centenas e 2.9103830456733705e-12 dezena \n"
     ]
    }
   ],
   "source": [
    "num = int(input('Informe um numero inteiro: ')) #errado\n",
    "\n",
    "centenas = num / 100\n",
    "dezenas = (num - (centenas * 100)) / 10\n",
    "unidades = (num - (centenas * 100) - (dezenas * 10))\n",
    "\n",
    "saida = ''\n",
    "if (centenas > 0):\n",
    "    saida = saida + str(centenas)\n",
    "    if (centenas > 1):\n",
    "        saida = saida + ' centenas '\n",
    "    else:\n",
    "        saida = saida + ' centena '\n",
    "\n",
    "if (dezenas > 0):\n",
    "    if (unidades == 0) and (centenas != 0):\n",
    "        saida = saida + 'e '\n",
    "    saida = saida + str(dezenas)\n",
    "    if (dezenas > 1):\n",
    "        saida = saida + ' dezenas '\n",
    "    else:\n",
    "        saida = saida + ' dezena '\n",
    "\n",
    "if (unidades > 0):\n",
    "    if (centenas != 0) or (dezenas != 0):\n",
    "        saida = saida + 'e '\n",
    "    saida = saida + str(unidades)\n",
    "    if (unidades > 1):\n",
    "        saida = saida + ' unidades'\n",
    "    else:\n",
    "        saida = saida + ' unidade'\n",
    "\n",
    "print(saida)"
   ]
  },
  {
   "cell_type": "markdown",
   "metadata": {},
   "source": [
    "# 20"
   ]
  },
  {
   "cell_type": "code",
   "execution_count": 4,
   "metadata": {},
   "outputs": [
    {
     "name": "stdout",
     "output_type": "stream",
     "text": [
      "Entre com a nota 1: 10\n",
      "Entre com a nota 2: 10\n",
      "Entre com a nota 3: 10\n",
      "Aprovado com Distincao\n"
     ]
    }
   ],
   "source": [
    "a = float(input('Entre com a nota 1: '))\n",
    "b = float(input('Entre com a nota 2: '))\n",
    "c = float(input('Entre com a nota 3: '))\n",
    "\n",
    "media = (a+b+c)/3\n",
    "\n",
    "if media>=7 and media != 10:\n",
    "    print('Aprovado')\n",
    "elif media == 10:\n",
    "    print('Aprovado com Distincao')\n",
    "else:\n",
    "    print('Reprovado')\n",
    "    \n",
    "    \n",
    "    Lista Preenchida\n",
    "- Igor - OK\n",
    "- Kaio - OK\n",
    "- Douglas - OK\n",
    "- Rodrigo - OK\n",
    "- João M - Ok\n",
    "- Guzin - OK\n",
    "- Alemao - OK\n",
    "- 40 - OK"
   ]
  },
  {
   "cell_type": "markdown",
   "metadata": {},
   "source": [
    "# 21"
   ]
  },
  {
   "cell_type": "code",
   "execution_count": 7,
   "metadata": {},
   "outputs": [
    {
     "name": "stdout",
     "output_type": "stream",
     "text": [
      "Caixa eletronico\n",
      "\n",
      "Entre com o valor a sacar: 601\n"
     ]
    }
   ],
   "source": [
    "print('Caixa eletronico\\n')\n",
    "a = float(input('Entre com o valor a sacar: '))\n",
    "if a < 10 or a > 600:\n",
    "    exit()\n",
    "else:\n",
    "    cem = int(a / 100)\n",
    "    a = a - (cem*100)\n",
    "    \n",
    "    cinquenta = int(a/50)\n",
    "    a = a - (cinquenta*50)\n",
    "\n",
    "    dez = int(a/10)\n",
    "    a = a - (dez*10)\n",
    "\n",
    "    cinco = int(a/5)\n",
    "    a = a - (cinco*5)\n",
    "\n",
    "    um = int(a)\n",
    "    \n",
    "    print('Notas R$100,00 = ',cem)\n",
    "    print('Notas R$ 50,00 = ',cinquenta)\n",
    "    print('Notas R$ 10,00 = ',dez)\n",
    "    print('Notas R$  5,00 = ',cinco)\n",
    "    print('Notas R$  1,00 = ',um)"
   ]
  },
  {
   "cell_type": "markdown",
   "metadata": {},
   "source": [
    "# 22"
   ]
  },
  {
   "cell_type": "code",
   "execution_count": 2,
   "metadata": {},
   "outputs": [
    {
     "name": "stdout",
     "output_type": "stream",
     "text": [
      "Entre com um valor inteiro: 3\n",
      "Seu numero eh impar\n"
     ]
    }
   ],
   "source": [
    "a = int(input('Entre com um valor inteiro: '))\n",
    "\n",
    "if a%2 == 0:\n",
    "    print('Seu numero eh par')\n",
    "else:\n",
    "    print('Seu numero eh impar')"
   ]
  },
  {
   "cell_type": "markdown",
   "metadata": {},
   "source": [
    "# 23"
   ]
  },
  {
   "cell_type": "code",
   "execution_count": null,
   "metadata": {},
   "outputs": [],
   "source": [
    "valor = float(input('Informe um numero: '))\n",
    "\n",
    "if (valor == int(valor)):\n",
    "    print('Valor eh inteiro')\n",
    "else:\n",
    "    print('Valor eh decimal')"
   ]
  },
  {
   "cell_type": "markdown",
   "metadata": {},
   "source": [
    "# 24"
   ]
  },
  {
   "cell_type": "code",
   "execution_count": 13,
   "metadata": {},
   "outputs": [
    {
     "name": "stdout",
     "output_type": "stream",
     "text": [
      "Informe um numero: 10\n",
      "1 - Par ou Impar \n",
      "2 - Positivo ou Negativo \n",
      "3 - Inteiro ou Decimal\n",
      "Escolha uma opcao: 3\n",
      "Valor eh inteiro\n"
     ]
    }
   ],
   "source": [
    "valor = float(input('Informe um numero: '))\n",
    "\n",
    "print('1 - Par ou Impar \\n2 - Positivo ou Negativo \\n3 - Inteiro ou Decimal')\n",
    "opcao = input('Escolha uma opcao: ')\n",
    "\n",
    "if (opcao == '1'):\n",
    "    if (valor % 2 == 0):\n",
    "        print('Valor eh par')\n",
    "    else:\n",
    "        print('Valor eh impar')\n",
    "elif (opcao == '2'):\n",
    "    if (valor < 0):\n",
    "        print('Valor eh negativo')\n",
    "    elif (valor > 0):\n",
    "        print('Valor eh positivo')\n",
    "    else:\n",
    "        print('Valor eh igual a zero')\n",
    "elif (opcao == '3'):\n",
    "    if (valor == int(valor)):\n",
    "        print('Valor eh inteiro')\n",
    "    else:\n",
    "        print('Valor eh decimal')\n",
    "else:\n",
    "    print('Opcao Invalida')"
   ]
  },
  {
   "cell_type": "markdown",
   "metadata": {},
   "source": [
    "# 25"
   ]
  },
  {
   "cell_type": "code",
   "execution_count": 7,
   "metadata": {},
   "outputs": [
    {
     "name": "stdout",
     "output_type": "stream",
     "text": [
      "Teste de criminalidade [Responda s para sim e n para nao]\n",
      "\n",
      "Telefonou para a vítima?n\n",
      "Telefonou para a vítima?n\n",
      "Telefonou para a vítima?nn\n",
      "Telefonou para a vítima?n\n",
      "Telefonou para a vítima?n\n",
      "Inocente\n"
     ]
    }
   ],
   "source": [
    "print('Teste de criminalidade [Responda s para sim e n para nao]\\n')\n",
    "a = input('Telefonou para a vítima?')\n",
    "i = 0\n",
    "if (a == 's'):\n",
    "    i = i + 1\n",
    "b = input('Esteve no local do crime?')\n",
    "if (b == 's'):\n",
    "    i = i + 1\n",
    "c = input('Mora perto da vítima?')\n",
    "if (c == 's'):\n",
    "    i = i + 1\n",
    "d = input('Devia para a vítima?')\n",
    "if (d == 's'):\n",
    "    i = i + 1\n",
    "e = input('Já trabalhou com a vítima?')\n",
    "if (e == 's'):\n",
    "    i = i + 1\n",
    "    \n",
    "if i < 2:\n",
    "    print('Inocente')\n",
    "elif i == 2:\n",
    "    print('Suspeito')\n",
    "elif i == 3 or i == 4:\n",
    "    print('Cumplice')\n",
    "else:\n",
    "    print('Culpado')\n"
   ]
  },
  {
   "cell_type": "markdown",
   "metadata": {},
   "source": [
    "# 26"
   ]
  },
  {
   "cell_type": "code",
   "execution_count": 15,
   "metadata": {},
   "outputs": [
    {
     "name": "stdout",
     "output_type": "stream",
     "text": [
      "Informe (A) para Alcool ou (G) para Gasolina: a\n",
      "Informe a quantidade de litros: 230\n",
      "Total a pagar:  415.15\n"
     ]
    }
   ],
   "source": [
    "# Solicita informacoes\n",
    "tipoCombustivel =\\\n",
    "    input('Informe (A) para Alcool ou (G) para Gasolina: ').upper()\n",
    "quantidadeLitros = float(input('Informe a quantidade de litros: '))\n",
    "\n",
    "# Define o valor e os descontos\n",
    "if (tipoCombustivel == 'A'):\n",
    "    valor = 1.9\n",
    "    if (quantidadeLitros <= 20):\n",
    "        desconto = 3\n",
    "    else:\n",
    "        desconto = 5\n",
    "else:\n",
    "    valor = 2.5\n",
    "    if (quantidadeLitros <= 20):\n",
    "        desconto = 4\n",
    "    else:\n",
    "        desconto = 6\n",
    "\n",
    "# Calcula o total\n",
    "totalPagar = (valor * quantidadeLitros) * ((100 - desconto) / 100.0)\n",
    "\n",
    "print('Total a pagar: ', totalPagar)"
   ]
  },
  {
   "cell_type": "code",
   "execution_count": null,
   "metadata": {},
   "outputs": [],
   "source": [
    "# Entrada de dados\n",
    "totalMorangos =\\\n",
    "    float(input('Informe a quantidade (em Kg) de morangos comprados: '))\n",
    "totalMacas =\\\n",
    "    float(input('Informe a quantidade (em Kg) de macas comprados: '))\n",
    "\n",
    "# Calcula o valor bruto\n",
    "if (totalMorangos <= 5):\n",
    "    valorMorangos = totalMorangos * 2.5\n",
    "else:\n",
    "    valorMorangos = totalMorangos * 2.2\n",
    "\n",
    "if (totalMacas <= 5):\n",
    "    valorMacas = totalMacas * 1.8\n",
    "else:\n",
    "    valorMacas = totalMacas * 1.5\n",
    "\n",
    "valorBruto = valorMorangos + valorMacas\n",
    "\n",
    "# Verifica os descontos\n",
    "if ((totalMorangos + totalMacas) >= 8) or (valorBruto >= 25):\n",
    "    valorBruto = valorBruto * 0.9\n",
    "\n",
    "# Imprime o resultado\n",
    "print('Valor a pagar: ', valorBruto)"
   ]
  },
  {
   "cell_type": "markdown",
   "metadata": {},
   "source": [
    "# 28"
   ]
  },
  {
   "cell_type": "code",
   "execution_count": 24,
   "metadata": {},
   "outputs": [
    {
     "name": "stdout",
     "output_type": "stream",
     "text": [
      "                        Até 5 Kg                Acima de 5 Kg\n",
      "(Tipo 1)File Duplo      R$ 4,90 por Kg          R$ 5,80 por Kg\n",
      "(Tipo 2)Alcatra         R$ 5,90 por Kg          R$ 6,80 por Kg\n",
      "(Tipo 3)Picanha         R$ 6,90 por Kg          R$ 7,80 por Kg\n",
      "\n",
      "Qual o tipo da carne?3\n",
      "Qual a quantidade de carne?3\n",
      "A compra sera feita com o cartao tabajara?(s ou n)s\n",
      "-----------------------Cupom Fiscal--------------------------\n",
      "\"\n",
      "Picanha Valor: R$ 20.70\n",
      "\n",
      "Desconto: R$ 1.04 \n",
      "\n",
      "Tipo do pagamento Cartao Tabajara\n",
      "Valor a pagar19.67\n"
     ]
    }
   ],
   "source": [
    "print(\n",
    "\"                        Até 5 Kg                Acima de 5 Kg\\n\"\n",
    "\"(Tipo 1)File Duplo      R$ 4,90 por Kg          R$ 5,80 por Kg\\n\"\n",
    "\"(Tipo 2)Alcatra         R$ 5,90 por Kg          R$ 6,80 por Kg\\n\"\n",
    "\"(Tipo 3)Picanha         R$ 6,90 por Kg          R$ 7,80 por Kg\\n\"\n",
    ")\n",
    "\n",
    "a = int(input('Qual o tipo da carne?'))\n",
    "b = int(input('Qual a quantidade de carne?'))\n",
    "\n",
    "if a == 1 and b <= 5:\n",
    "    val = 4.9*b\n",
    "    carne = 'File Duplo'\n",
    "elif a == 1 and b > 5:\n",
    "    val = 5.8*b\n",
    "    carne = 'File Duplo'\n",
    "elif a == 2 and b <= 5:\n",
    "    val = 5.9*b\n",
    "    carne = 'Alcatra'\n",
    "elif a == 2 and b > 5:\n",
    "    val = 6.8*b\n",
    "    carne = 'Alcatra'\n",
    "elif a == 3 and b <= 5:\n",
    "    val = 6.9*b\n",
    "    carne = 'Picanha'\n",
    "else:\n",
    "    val = 7.8*b\n",
    "    carne = 'Picanha'\n",
    "\n",
    "c = input('A compra sera feita com o cartao tabajara?(s ou n)')\n",
    "if (c == 's'):\n",
    "    desc = (val*0.05)\n",
    "    val_final = val - desc\n",
    "    pagm = 'Cartao Tabajara'\n",
    "else:\n",
    "    val_final = val\n",
    "    desc = 0\n",
    "    pagm = 'Outros Metodos'\n",
    "    \n",
    "print(\"\"\"-----------------------Cupom Fiscal--------------------------\\n\n",
    "{} Valor: R${:.2f}\\n\n",
    "Desconto: R${:.2f} \\n\n",
    "Tipo do pagamento: {}\n",
    "Valor a pagar: R${:.2f}\"\"\".format(carne, val, desc, pagm, val_final)\n",
    ")"
   ]
  }
 ],
 "metadata": {
  "kernelspec": {
   "display_name": "Python 3",
   "language": "python",
   "name": "python3"
  },
  "language_info": {
   "codemirror_mode": {
    "name": "ipython",
    "version": 3
   },
   "file_extension": ".py",
   "mimetype": "text/x-python",
   "name": "python",
   "nbconvert_exporter": "python",
   "pygments_lexer": "ipython3",
   "version": "3.7.4"
  }
 },
 "nbformat": 4,
 "nbformat_minor": 2
}
