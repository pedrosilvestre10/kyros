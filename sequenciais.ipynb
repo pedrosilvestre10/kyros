{
 "cells": [
  {
   "cell_type": "markdown",
   "metadata": {},
   "source": [
    "14.\tJoão Papo-de-Pescador, homem de bem, comprou um microcomputador para controlar o rendimento diário de seu trabalho. Toda vez que ele traz um peso de peixes maior que o estabelecido pelo regulamento de pesca do estado de São Paulo (50 quilos) deve pagar uma multa de R$ 4,00 por quilo excedente. João precisa que você faça um programa que leia a variável peso (peso de peixes) e calcule o excesso. Gravar na variável excesso quantidade de quilos além do limite e na variável multa valor da multa que João deverá pagar. Imprima os dados do programa com as mensagens adequadas."
   ]
  },
  {
   "cell_type": "code",
   "execution_count": 5,
   "metadata": {},
   "outputs": [
    {
     "name": "stdout",
     "output_type": "stream",
     "text": [
      "40\n",
      "Nao houve excesso de peso\n"
     ]
    }
   ],
   "source": [
    "peso = int(input())\n",
    "if(peso > 50):\n",
    "    a = peso - 50\n",
    "    a = a*4\n",
    "    print(\"A multa eh\",a)\n",
    "else:\n",
    "    print(\"Nao houve excesso de peso\")"
   ]
  },
  {
   "cell_type": "markdown",
   "metadata": {},
   "source": [
    "15.\tFaça um Programa que pergunte quanto você ganha por hora e o número de horas trabalhadas no mês. Calcule e mostre o total do seu salário no referido mês, sabendo-se que são descontados 11% para o Imposto de Renda, 8% para o INSS e 5% para o sindicato, faça um programa que nos dê:\n",
    "\n",
    " .\tsalário bruto.\n",
    "a.\tquanto pagou ao INSS.\n",
    "b.\tquanto pagou ao sindicato.\n",
    "c.\to salário líquido.\n",
    "d.\tcalcule os descontos e o salário líquido, conforme a tabela abaixo:\n",
    "e.\t+ Salário Bruto : R$\n",
    "f.\t- IR (11%) : R$\n",
    "g.\t- INSS (8%) : R$\n",
    "h.\t- Sindicato ( 5%) : R$\n",
    "= Salário Liquido : R$"
   ]
  },
  {
   "cell_type": "code",
   "execution_count": 7,
   "metadata": {},
   "outputs": [
    {
     "name": "stdout",
     "output_type": "stream",
     "text": [
      "Qual seu salario por hora?20\n",
      "Quantas horas voce trabalha por mes?36\n",
      "Salário Bruto : R$ 720\n",
      "IR (11%) : R$ 79.2\n",
      "INSS (8%) : R$ 57.6\n",
      "Sindicato ( 5%) : R$ 36.0\n",
      "Salário Liquido : R$ 547.1999999999999\n"
     ]
    }
   ],
   "source": [
    "sal_hora = int(input(\"Qual seu salario por hora?\"))\n",
    "horas_trab = int(input(\"Quantas horas voce trabalha por mes?\"))\n",
    "\n",
    "sal_bruto = sal_hora * horas_trab\n",
    "inss = sal_bruto * 0.08\n",
    "ir = sal_bruto * 0.11\n",
    "sin = sal_bruto * 0.05\n",
    "sal_liq = sal_bruto - inss - ir - sin\n",
    "\n",
    "print(\"Salário Bruto : R$\", sal_bruto)\n",
    "print(\"IR (11%) : R$\", ir)\n",
    "print(\"INSS (8%) : R$\", inss)\n",
    "print(\"Sindicato ( 5%) : R$\", sin)\n",
    "print(\"Salário Liquido : R$\", sal_liq)"
   ]
  },
  {
   "cell_type": "markdown",
   "metadata": {},
   "source": [
    "16.\tFaça um programa para uma loja de tintas. O programa deverá pedir o tamanho em metros quadrados da área a ser pintada. Considere que a cobertura da tinta é de 1 litro para cada 3 metros quadrados e que a tinta é vendida em latas de 18 litros, que custam R$ 80,00. Informe ao usuário a quantidades de latas de tinta a serem compradas e o preço total."
   ]
  },
  {
   "cell_type": "code",
   "execution_count": 14,
   "metadata": {},
   "outputs": [
    {
     "name": "stdout",
     "output_type": "stream",
     "text": [
      "Qual a area pintada?55\n",
      "Compre 2 lata de tinta: R$160\n"
     ]
    }
   ],
   "source": [
    "import math\n",
    "\n",
    "area = int(input(\"Qual a area pintada?\"))\n",
    "litros = (area/3)\n",
    "latas = math.ceil(litros/18)\n",
    "\n",
    "print(\"Compre {} lata(s) de tinta: R${}\".format(latas, latas*80))    "
   ]
  },
  {
   "cell_type": "markdown",
   "metadata": {},
   "source": [
    "17.\tFaça um Programa para uma loja de tintas. O programa deverá pedir o tamanho em metros quadrados da área a ser pintada. Considere que a cobertura da tinta é de 1 litro para cada 6 metros quadrados e que a tinta é vendida em latas de 18 litros, que custam R$ 80,00 ou em galões de 3,6 litros, que custam R$ 25,00.\n",
    "    Informe ao usuário as quantidades de tinta a serem compradas e os respectivos preços em 3 situações:\n",
    "    comprar apenas latas de 18 litros;\n",
    "    comprar apenas galões de 3,6 litros;\n",
    "    misturar latas e galões, de forma que o desperdício de tinta seja menor. Acrescente 10% de folga e sempre arredonde os valores para cima, isto é, considere latas cheias."
   ]
  },
  {
   "cell_type": "code",
   "execution_count": 15,
   "metadata": {},
   "outputs": [
    {
     "name": "stdout",
     "output_type": "stream",
     "text": [
      "Qual a area pintada?54\n",
      "Compre 1 lata(s) de tinta: R$80\n",
      "Compre 3 lata(s) de tinta: R$75\n"
     ]
    }
   ],
   "source": [
    "import math\n",
    "\n",
    "area = int(input(\"Qual a area pintada?\"))\n",
    "litros = (area/6)\n",
    "latas = math.ceil(litros/18)\n",
    "galoes = math.ceil(litros/3.6)\n",
    "\n",
    "print(\"Compre {} lata(s) de tinta: R${}\".format(latas, latas*80))\n",
    "print(\"Compre {} galao(oes) de tinta: R${}\".format(galoes, galoes*25))"
   ]
  },
  {
   "cell_type": "markdown",
   "metadata": {},
   "source": [
    "18.\tFaça um programa que peça o tamanho de um arquivo para download (em MB) e a velocidade de um link de Internet (em Mbps), calcule e informe o tempo aproximado de download do arquivo usando este link (em minutos)."
   ]
  },
  {
   "cell_type": "code",
   "execution_count": 20,
   "metadata": {},
   "outputs": [
    {
     "name": "stdout",
     "output_type": "stream",
     "text": [
      "Qual o tamanho do arquivo?60\n",
      "Qual a velocidade do link?1\n",
      "O tempo de download eh: 1.0 minutos\n"
     ]
    }
   ],
   "source": [
    "tam = int(input(\"Qual o tamanho do arquivo?\"))\n",
    "vel = int(input(\"Qual a velocidade do link?\"))\n",
    "tempo = tam/vel\n",
    "\n",
    "print(\"O tempo de download eh:\", (tempo/60), \"minuto(s)\")"
   ]
  }
 ],
 "metadata": {
  "kernelspec": {
   "display_name": "Python 3",
   "language": "python",
   "name": "python3"
  },
  "language_info": {
   "codemirror_mode": {
    "name": "ipython",
    "version": 3
   },
   "file_extension": ".py",
   "mimetype": "text/x-python",
   "name": "python",
   "nbconvert_exporter": "python",
   "pygments_lexer": "ipython3",
   "version": "3.7.4"
  }
 },
 "nbformat": 4,
 "nbformat_minor": 2
}
