{
 "cells": [
  {
   "cell_type": "markdown",
   "metadata": {},
   "source": [
    "# 1"
   ]
  },
  {
   "cell_type": "code",
   "execution_count": 2,
   "metadata": {},
   "outputs": [
    {
     "name": "stdout",
     "output_type": "stream",
     "text": [
      "Alo mundo\n"
     ]
    }
   ],
   "source": [
    "print('Alo mundo')"
   ]
  },
  {
   "cell_type": "markdown",
   "metadata": {},
   "source": [
    "# 2"
   ]
  },
  {
   "cell_type": "code",
   "execution_count": 3,
   "metadata": {},
   "outputs": [
    {
     "name": "stdout",
     "output_type": "stream",
     "text": [
      "Informe um numero: 10\n",
      "O numero informado foi: 10\n"
     ]
    }
   ],
   "source": [
    "x = int(input(\"Informe um numero: \"))\n",
    "print(\"O numero informado foi:\", x)"
   ]
  },
  {
   "cell_type": "markdown",
   "metadata": {},
   "source": [
    "# 3"
   ]
  },
  {
   "cell_type": "code",
   "execution_count": 4,
   "metadata": {},
   "outputs": [
    {
     "name": "stdout",
     "output_type": "stream",
     "text": [
      "Informe um numero: 10\n",
      "Informe outro numero: 20\n",
      "A soma de 10 e 20 = 30\n"
     ]
    }
   ],
   "source": [
    "num1 = int(input(\"Informe um numero: \"))\n",
    "num2 = int(input(\"Informe outro numero: \"))\n",
    "print (\"A soma de\", num1, \"e\", num2, \"=\", (num1 + num2))"
   ]
  },
  {
   "cell_type": "markdown",
   "metadata": {},
   "source": [
    "# 4"
   ]
  },
  {
   "cell_type": "code",
   "execution_count": 5,
   "metadata": {},
   "outputs": [
    {
     "name": "stdout",
     "output_type": "stream",
     "text": [
      "Informe a primeira nota: 1\n",
      "Informe a segunda nota: 1\n",
      "Informe a terceira nota: 1\n",
      "Informe a quarta nota: 1\n",
      "A media das notas eh 1.0\n"
     ]
    }
   ],
   "source": [
    "nota1 = int(input(\"Informe a primeira nota: \"))\n",
    "nota2 = int(input(\"Informe a segunda nota: \"))\n",
    "nota3 = int(input(\"Informe a terceira nota: \"))\n",
    "nota4 = int(input(\"Informe a quarta nota: \"))\n",
    "print(\"A media das notas eh\", ((nota1 + nota2 + nota3 + nota4)/4))"
   ]
  },
  {
   "cell_type": "markdown",
   "metadata": {},
   "source": [
    "# 5"
   ]
  },
  {
   "cell_type": "code",
   "execution_count": 6,
   "metadata": {},
   "outputs": [
    {
     "name": "stdout",
     "output_type": "stream",
     "text": [
      "Informe o valor em metros: 10\n",
      "O valor em centimetros eh 1000\n"
     ]
    }
   ],
   "source": [
    "metros = int(input('Informe o valor em metros: '))\n",
    "print('O valor em centimetros eh', metros * 100)"
   ]
  },
  {
   "cell_type": "markdown",
   "metadata": {},
   "source": [
    "# 6"
   ]
  },
  {
   "cell_type": "code",
   "execution_count": 7,
   "metadata": {},
   "outputs": [
    {
     "name": "stdout",
     "output_type": "stream",
     "text": [
      "Informe a medida do raio de um circulo: 3\n",
      "A area do circulo de raio 3 eh 18.84955592153876\n"
     ]
    }
   ],
   "source": [
    "import math\n",
    "\n",
    "raio = int(input(\"Informe a medida do raio de um circulo: \"))\n",
    "print(\"A area do circulo de raio\", raio, \"eh\", (2*math.pi*raio))"
   ]
  },
  {
   "cell_type": "markdown",
   "metadata": {},
   "source": [
    "# 7"
   ]
  },
  {
   "cell_type": "code",
   "execution_count": 1,
   "metadata": {},
   "outputs": [
    {
     "name": "stdout",
     "output_type": "stream",
     "text": [
      "Informe a medida do lado de um quadrado: 2\n",
      "A area do quadrado de lado 2 eh 4\n",
      "O dobro da area eh 8\n"
     ]
    }
   ],
   "source": [
    "lado = int(input(\"Informe a medida do lado de um quadrado: \"))\n",
    "print(\"A area do quadrado de lado\", lado, \"eh\", (lado * lado))\n",
    "print(\"O dobro da area eh\", 2*(lado * lado))"
   ]
  },
  {
   "cell_type": "markdown",
   "metadata": {},
   "source": [
    "# 8"
   ]
  },
  {
   "cell_type": "code",
   "execution_count": 2,
   "metadata": {},
   "outputs": [
    {
     "name": "stdout",
     "output_type": "stream",
     "text": [
      "Qual o valor da sua hora trabalhada: 2\n",
      "Informe a quantidade de horas trabalhadas: 3\n",
      "Seu salario neste mes sera 6\n"
     ]
    }
   ],
   "source": [
    "valorPorHora = int(input('Qual o valor da sua hora trabalhada: '))\n",
    "horas = int(input('Informe a quantidade de horas trabalhadas: '))\n",
    "print('Seu salario neste mes sera', valorPorHora * horas)"
   ]
  },
  {
   "cell_type": "markdown",
   "metadata": {},
   "source": [
    "# 9"
   ]
  },
  {
   "cell_type": "code",
   "execution_count": 3,
   "metadata": {},
   "outputs": [
    {
     "name": "stdout",
     "output_type": "stream",
     "text": [
      "Informe a temperatura em Farenheit: 45\n",
      "A temperatura em Celsius eh 7.222222222222222\n"
     ]
    }
   ],
   "source": [
    "farenheit = int(input('Informe a temperatura em Farenheit: '))\n",
    "celsius = 5 * (farenheit - 32) / 9.0\n",
    "print(\"A temperatura em Celsius eh\", celsius)"
   ]
  },
  {
   "cell_type": "markdown",
   "metadata": {},
   "source": [
    "# 10"
   ]
  },
  {
   "cell_type": "code",
   "execution_count": null,
   "metadata": {},
   "outputs": [],
   "source": [
    "celsius = int(input('Informe a temperatura em Celsius: '))\n",
    "farenheit = ((celsius / 5.0) * 9.0) + 32.0\n",
    "\n",
    "print(\"A temperatura em Farenheit eh\", farenheit)"
   ]
  },
  {
   "cell_type": "markdown",
   "metadata": {},
   "source": [
    "# 11"
   ]
  },
  {
   "cell_type": "code",
   "execution_count": 5,
   "metadata": {},
   "outputs": [
    {
     "name": "stdout",
     "output_type": "stream",
     "text": [
      "Informe um numero inteiro: 2\n",
      "Informe outro numero inteiro: 3\n",
      "Informe um numero real: 4\n",
      "O dobro do primeiro vezes a metade do segundo eh 6.0\n",
      "A soma do triplo do primeiro com o terceiro eh 10.0\n",
      "O terceiro elevado ao cubo eh 64.0\n"
     ]
    }
   ],
   "source": [
    "import math\n",
    "\n",
    "numInt1 = int(input('Informe um numero inteiro: '))\n",
    "numInt2 = int(input('Informe outro numero inteiro: '))\n",
    "numReal = float(input('Informe um numero real: '))\n",
    "\n",
    "print('O dobro do primeiro vezes a metade do segundo eh',(2 * numInt1) * (numInt2 / 2.0))\n",
    "print('A soma do triplo do primeiro com o terceiro eh', (3 * numInt1) + numReal)\n",
    "print('O terceiro elevado ao cubo eh', math.pow(numReal, 3))"
   ]
  },
  {
   "cell_type": "markdown",
   "metadata": {},
   "source": [
    "# 12"
   ]
  },
  {
   "cell_type": "code",
   "execution_count": 6,
   "metadata": {},
   "outputs": [
    {
     "name": "stdout",
     "output_type": "stream",
     "text": [
      "Informe a sua altura: 1.9\n",
      "Seu peso ideal eh 80.13\n"
     ]
    }
   ],
   "source": [
    "altura = float(input('Informe a sua altura: '))\n",
    "pesoIdeal = (72.7 * altura) - 58\n",
    "print('Seu peso ideal eh', pesoIdeal)"
   ]
  },
  {
   "cell_type": "markdown",
   "metadata": {},
   "source": [
    "# 13"
   ]
  },
  {
   "cell_type": "code",
   "execution_count": 7,
   "metadata": {},
   "outputs": [
    {
     "name": "stdout",
     "output_type": "stream",
     "text": [
      "Informe seu sexo (M/F): m\n",
      "Informe sua altura (em metros): 1.9\n",
      "Informe o seu peso (em kg): 100\n",
      "Voce esta acima do seu peso ideal: 73.28999999999999\n"
     ]
    }
   ],
   "source": [
    "sexo = input('Informe seu sexo (M/F): ')\n",
    "altura = float(input('Informe sua altura (em metros): '))\n",
    "peso = float(input('Informe o seu peso (em kg): '))\n",
    "\n",
    "if (sexo == 'M'):\n",
    "    pesoIdeal = (72.7 * altura) - 58\n",
    "else:\n",
    "    pesoIdeal = (62.1 * altura) - 44.7\n",
    "\n",
    "if (peso > pesoIdeal):\n",
    "    print('Voce esta acima do seu peso ideal:', pesoIdeal)\n",
    "elif (peso < pesoIdeal):\n",
    "    print('Voce esta abaixo do seu peso ideal:', pesoIdeal)\n",
    "else:\n",
    "    print('Voce esta no seu peso ideal:', pesoIdeal)"
   ]
  },
  {
   "cell_type": "markdown",
   "metadata": {},
   "source": [
    "# 14"
   ]
  },
  {
   "cell_type": "code",
   "execution_count": 1,
   "metadata": {},
   "outputs": [
    {
     "name": "stdout",
     "output_type": "stream",
     "text": [
      "10\n",
      "Nao houve excesso de peso\n"
     ]
    }
   ],
   "source": [
    "peso = int(input())\n",
    "if(peso > 50):\n",
    "    a = peso - 50\n",
    "    a = a*4\n",
    "    print(\"A multa eh\",a)\n",
    "else:\n",
    "    print(\"Nao houve excesso de peso\")"
   ]
  },
  {
   "cell_type": "markdown",
   "metadata": {},
   "source": [
    "# 15"
   ]
  },
  {
   "cell_type": "code",
   "execution_count": null,
   "metadata": {},
   "outputs": [],
   "source": [
    "sal_hora = int(input(\"Qual seu salario por hora?\"))\n",
    "horas_trab = int(input(\"Quantas horas voce trabalha por mes?\"))\n",
    "\n",
    "sal_bruto = sal_hora * horas_trab\n",
    "inss = sal_bruto * 0.08\n",
    "ir = sal_bruto * 0.11\n",
    "sin = sal_bruto * 0.05\n",
    "sal_liq = sal_bruto - inss - ir - sin\n",
    "\n",
    "print(\"Salário Bruto : R$\", sal_bruto)\n",
    "print(\"IR (11%) : R$\", ir)\n",
    "print(\"INSS (8%) : R$\", inss)\n",
    "print(\"Sindicato ( 5%) : R$\", sin)\n",
    "print(\"Salário Liquido : R$\", sal_liq)"
   ]
  },
  {
   "cell_type": "markdown",
   "metadata": {},
   "source": [
    "# 16"
   ]
  },
  {
   "cell_type": "code",
   "execution_count": null,
   "metadata": {},
   "outputs": [],
   "source": [
    "import math\n",
    "\n",
    "area = int(input(\"Qual a area pintada?\"))\n",
    "litros = (area/3)\n",
    "latas = math.ceil(litros/18)\n",
    "\n",
    "print(\"Compre {} lata(s) de tinta: R${}\".format(latas, latas*80))    "
   ]
  },
  {
   "cell_type": "markdown",
   "metadata": {},
   "source": [
    "# 17"
   ]
  },
  {
   "cell_type": "code",
   "execution_count": null,
   "metadata": {},
   "outputs": [],
   "source": [
    "import math\n",
    "\n",
    "area = int(input(\"Qual a area pintada?\"))\n",
    "litros = (area/6)\n",
    "latas = math.ceil(litros/18)\n",
    "galoes = math.ceil(litros/3.6)\n",
    "\n",
    "print(\"Compre {} lata(s) de tinta: R${}\".format(latas, latas*80))\n",
    "print(\"Compre {} galao(oes) de tinta: R${}\".format(galoes, galoes*25))"
   ]
  },
  {
   "cell_type": "markdown",
   "metadata": {},
   "source": [
    "# 18"
   ]
  },
  {
   "cell_type": "code",
   "execution_count": null,
   "metadata": {},
   "outputs": [],
   "source": [
    "tam = int(input(\"Qual o tamanho do arquivo?\"))\n",
    "vel = int(input(\"Qual a velocidade do link?\"))\n",
    "tempo = tam/vel\n",
    "\n",
    "print(\"O tempo de download eh:\", (tempo/60), \"minuto(s)\")"
   ]
  }
 ],
 "metadata": {
  "kernelspec": {
   "display_name": "Python 3",
   "language": "python",
   "name": "python3"
  },
  "language_info": {
   "codemirror_mode": {
    "name": "ipython",
    "version": 3
   },
   "file_extension": ".py",
   "mimetype": "text/x-python",
   "name": "python",
   "nbconvert_exporter": "python",
   "pygments_lexer": "ipython3",
   "version": "3.7.4"
  }
 },
 "nbformat": 4,
 "nbformat_minor": 2
}
