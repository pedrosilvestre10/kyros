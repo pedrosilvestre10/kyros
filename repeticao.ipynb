{
 "cells": [
  {
   "cell_type": "markdown",
   "metadata": {},
   "source": [
    "# 1"
   ]
  },
  {
   "cell_type": "code",
   "execution_count": null,
   "metadata": {},
   "outputs": [],
   "source": [
    "nota = -1\n",
    "while (nota < 0) or (nota > 10):\n",
    "    nota = int(input('Informe uma nota: '))\n",
    "    if (nota < 0) or (nota > 10):\n",
    "        print('Nota Invalida')"
   ]
  },
  {
   "cell_type": "markdown",
   "metadata": {},
   "source": [
    "# 2"
   ]
  },
  {
   "cell_type": "code",
   "execution_count": null,
   "metadata": {},
   "outputs": [],
   "source": [
    "usuario = senha = ''\n",
    "while (usuario == senha):\n",
    "    usuario = input('Informe um nome de usuario: ')\n",
    "    senha = input('Informe a senha: ')\n",
    "    if (usuario == senha):\n",
    "        print('A senha nao pode ser igual ao nome do usuario')"
   ]
  },
  {
   "cell_type": "markdown",
   "metadata": {},
   "source": [
    "# 3"
   ]
  },
  {
   "cell_type": "code",
   "execution_count": null,
   "metadata": {},
   "outputs": [],
   "source": [
    "# Validacao do nome\n",
    "nome = ''\n",
    "while (len(nome) <= 3):\n",
    "    nome = input('Informe um nome: ')\n",
    "    if (len(nome) <= 3):\n",
    "        print('O nome deve ter mais de tres letras!')\n",
    "\n",
    "# Validacao da idade\n",
    "idade = -1\n",
    "while (idade < 0) or (idade > 150):\n",
    "    idade = int(input('Informe a idade: '))\n",
    "    if (idade < 0) or (idade > 150):\n",
    "        print('Idade deve estar entre 0 e 150')\n",
    "\n",
    "# Validacao do salario\n",
    "salario = 0\n",
    "while (salario <= 0):\n",
    "    salario = int(input('Informe o salario: '))\n",
    "    if (salario <= 0):\n",
    "        print('O salario deve ser maior que zero')\n",
    "\n",
    "# Valida o sexo\n",
    "sexo = ''\n",
    "while (sexo != 'F') and (sexo != 'M'):\n",
    "    sexo = input('Informe o sexo: ').upper()\n",
    "    if (sexo != 'F') and (sexo != 'M'):\n",
    "        print('O sexo deve ser infomado como M (masculino) ou F (feminino)')\n",
    "\n",
    "# Valida o estado civil\n",
    "estado_civil = 'A'\n",
    "while ('SCVD'.find(estado_civil) < 0):\n",
    "    estado_civil = input('Informe o estado civil: ').upper()\n",
    "    if ('SCVD'.find(estado_civil) < 0):\n",
    "        print('Estado civil deve ser informado como S (solteiro), C (casado), V (viuvo) ou D (divorciado)')"
   ]
  },
  {
   "cell_type": "markdown",
   "metadata": {},
   "source": [
    "# 4"
   ]
  },
  {
   "cell_type": "code",
   "execution_count": null,
   "metadata": {},
   "outputs": [],
   "source": [
    "# Define os valores de populacao e crescimento\n",
    "populacaoA = 80000\n",
    "crescimentoA = 1.03\n",
    "populacaoB = 200000\n",
    "crescimentoB = 1.015\n",
    "\n",
    "# Realiza calculo de anos\n",
    "ano = 1\n",
    "while (populacaoA <= populacaoB):\n",
    "    populacaoA *= crescimentoA\n",
    "    populacaoB *= crescimentoB\n",
    "    ano += 1\n",
    "\n",
    "# Imprime o resultado\n",
    "print('Serao necessarios', ano, 'anos para que a populacao do pais A ultrapasse a populacao do pais B')"
   ]
  },
  {
   "cell_type": "markdown",
   "metadata": {},
   "source": [
    "# 5"
   ]
  },
  {
   "cell_type": "code",
   "execution_count": null,
   "metadata": {},
   "outputs": [],
   "source": [
    "populacaoA = 0\n",
    "crescimentoA = 0\n",
    "\n",
    "# Solicita ao usuario o valor das populacoes e taxas de crescimento\n",
    "while (populacaoA <= 0):\n",
    "    populacaoA = int(input('Informe a populacao do pais A: '))\n",
    "    if (populacaoA <= 0):\n",
    "        print('Populacao deve ser um valor positivo')\n",
    "while (crescimentoA <= 0):\n",
    "    crescimentoA = float(\n",
    "        input('Informe o percentual de crescimento do pais A: '))\n",
    "    if (crescimentoA <= 0):\n",
    "        print('Percentual de crescimento deve ser um valor positivo')\n",
    "populacaoB = populacaoA\n",
    "while (populacaoB <= populacaoA):\n",
    "    populacaoB = int(input('Informe a populacao do pais B: '))\n",
    "    if (populacaoB <= populacaoA):\n",
    "        print('Populacao do pais B deve ser maior que a populacao do pais A')\n",
    "crescimentoB = crescimentoA\n",
    "while (crescimentoB >= crescimentoA):\n",
    "    crescimentoB = float(\n",
    "        input('Informe o percentual de crescimento do pais B: '))\n",
    "    if (crescimentoB >= crescimentoA):\n",
    "        print('Percentual de crescimento do pais B deve ser menor que o do pais A')\n",
    "\n",
    "crescimentoA = 1 + (crescimentoA / 100.0)\n",
    "crescimentoB = 1 + (crescimentoB / 100.0)\n",
    "\n",
    "# Realiza calculo de anos\n",
    "ano = 1\n",
    "while (populacaoA <= populacaoB):\n",
    "    populacaoA *= crescimentoA\n",
    "    populacaoB *= crescimentoB\n",
    "    ano += 1\n",
    "\n",
    "# Imprime o resultado\n",
    "print('Serao necessarios', ano, 'anos para que a populacao do pais A ultrapasse a populacao do pais B')"
   ]
  },
  {
   "cell_type": "markdown",
   "metadata": {},
   "source": [
    "# 6"
   ]
  },
  {
   "cell_type": "code",
   "execution_count": null,
   "metadata": {},
   "outputs": [],
   "source": [
    "for i in range(1, 21):\n",
    "    print(i)"
   ]
  },
  {
   "cell_type": "markdown",
   "metadata": {},
   "source": [
    "# 7"
   ]
  },
  {
   "cell_type": "code",
   "execution_count": null,
   "metadata": {},
   "outputs": [],
   "source": [
    "maior = 0\n",
    "i = 1\n",
    "\n",
    "for i in range(5):\n",
    "    num = int(input('Digite um numero :'))\n",
    "    if num > maior:\n",
    "        maior = num\n",
    "    else:\n",
    "        continue\n",
    "        \n",
    "print(\"O maior numero eh\",maior)"
   ]
  },
  {
   "cell_type": "markdown",
   "metadata": {},
   "source": [
    "# 8"
   ]
  },
  {
   "cell_type": "code",
   "execution_count": null,
   "metadata": {},
   "outputs": [],
   "source": [
    "soma = 0\n",
    "for i in range(0, 5):\n",
    "    numero = int(input('Informe um numero: '))\n",
    "    soma += numero\n",
    "\n",
    "print('A soma dos numeros digitados eh', soma)\n",
    "print('A media dos numeros digitados eh', (soma / 5.0))"
   ]
  },
  {
   "cell_type": "markdown",
   "metadata": {},
   "source": [
    "# 9"
   ]
  },
  {
   "cell_type": "code",
   "execution_count": null,
   "metadata": {},
   "outputs": [],
   "source": [
    "for i in range(0, 150):\n",
    "    if (i % 2 != 0):\n",
    "        print(i)"
   ]
  },
  {
   "cell_type": "markdown",
   "metadata": {},
   "source": [
    "# 10"
   ]
  },
  {
   "cell_type": "code",
   "execution_count": null,
   "metadata": {},
   "outputs": [],
   "source": [
    "inicial = int(input('Informe o valor inicial: '))\n",
    "final = inicial\n",
    "while (final <= inicial):\n",
    "    final = int(input('Informe o valor final: '))\n",
    "    if (final <= inicial):\n",
    "        print('O valor final deve ser maior que o valor final!')\n",
    "\n",
    "for i in range(inicial, final + 1):\n",
    "    print(i)"
   ]
  },
  {
   "cell_type": "markdown",
   "metadata": {},
   "source": [
    "# 11"
   ]
  },
  {
   "cell_type": "code",
   "execution_count": null,
   "metadata": {},
   "outputs": [],
   "source": [
    "inicial = int(input('Informe o valor inicial: '))\n",
    "final = inicial\n",
    "while (final <= inicial):\n",
    "    final = int(input('Informe o valor final: '))\n",
    "    if (final <= inicial):\n",
    "        print('O valor final deve ser maior que o valor final!')\n",
    "\n",
    "soma = 0\n",
    "for i in range(inicial, final + 1):\n",
    "    soma += i\n",
    "    print(i)\n",
    "\n",
    "print('A soma dos numeros eh', soma)"
   ]
  },
  {
   "cell_type": "markdown",
   "metadata": {},
   "source": [
    "# 12"
   ]
  },
  {
   "cell_type": "code",
   "execution_count": null,
   "metadata": {},
   "outputs": [],
   "source": [
    "numero = int(input('Informe o numero que voce quer ver a tabuada: '))\n",
    "\n",
    "print('Tabuada de', numero, ':')\n",
    "for i in range(1, 11):\n",
    "    print(numero, 'X', i, '=', (numero * i))"
   ]
  },
  {
   "cell_type": "markdown",
   "metadata": {},
   "source": [
    "# 13"
   ]
  },
  {
   "cell_type": "code",
   "execution_count": null,
   "metadata": {},
   "outputs": [],
   "source": [
    "base = int(input('Informe o valor da base: '))\n",
    "expoente = 0\n",
    "while (expoente <= 0):\n",
    "    expoente = int(input('Informe o valor do expoente: '))\n",
    "    if (expoente <= 0):\n",
    "        print('O expoente deve ser positivo!')\n",
    "\n",
    "potencia = 1\n",
    "for i in range(1, expoente + 1):\n",
    "    potencia *= base\n",
    "\n",
    "print(base, 'elevada a', expoente, '=', potencia)"
   ]
  },
  {
   "cell_type": "markdown",
   "metadata": {},
   "source": [
    "# 14"
   ]
  },
  {
   "cell_type": "code",
   "execution_count": null,
   "metadata": {},
   "outputs": [],
   "source": [
    "print('Informe 10 numeros')\n",
    "pares = 0\n",
    "impares = 0\n",
    "for i in range(1, 11):\n",
    "    numero = int(input('Informe um numero: '))\n",
    "    if (numero % 2 == 0):\n",
    "        pares += 1\n",
    "    else:\n",
    "        impares += 1\n",
    "\n",
    "print('Numeros pares:', pares)\n",
    "print('Numeros impares:', impares)"
   ]
  },
  {
   "cell_type": "markdown",
   "metadata": {},
   "source": [
    "# 15"
   ]
  },
  {
   "cell_type": "code",
   "execution_count": null,
   "metadata": {},
   "outputs": [],
   "source": [
    "termo = 0\n",
    "while (termo <= 0):\n",
    "    termo = int(input('Voce quer a serie de Fibonacci ate qual termo: '))\n",
    "    if (termo <= 0):\n",
    "        print('O termo deve ser positivo!')\n",
    "\n",
    "primeiro = 0\n",
    "print(primeiro)\n",
    "segundo = 1\n",
    "for i in range(1, termo):\n",
    "    print(segundo)\n",
    "    terceiro = primeiro + segundo\n",
    "    primeiro = segundo\n",
    "    segundo = terceiro"
   ]
  },
  {
   "cell_type": "markdown",
   "metadata": {},
   "source": [
    "# 16"
   ]
  },
  {
   "cell_type": "code",
   "execution_count": null,
   "metadata": {},
   "outputs": [],
   "source": [
    "primeiro = 0\n",
    "print(primeiro)\n",
    "segundo = 1\n",
    "while (segundo < 500):\n",
    "    print(segundo)\n",
    "    terceiro = primeiro + segundo\n",
    "    primeiro = segundo\n",
    "    segundo = terceiro"
   ]
  },
  {
   "cell_type": "markdown",
   "metadata": {},
   "source": [
    "# 17"
   ]
  },
  {
   "cell_type": "code",
   "execution_count": null,
   "metadata": {},
   "outputs": [],
   "source": [
    "termo = 0\n",
    "while (termo <= 0):\n",
    "    termo = int(input('Voce quer o fatorial de qual termo: '))\n",
    "    if (termo <= 0):\n",
    "        print('O termo deve ser positivo!')\n",
    "\n",
    "fatorial = 1\n",
    "for i in range(1, termo + 1):\n",
    "    fatorial *= i\n",
    "\n",
    "print(fatorial)"
   ]
  },
  {
   "cell_type": "markdown",
   "metadata": {},
   "source": [
    "# 18"
   ]
  },
  {
   "cell_type": "code",
   "execution_count": null,
   "metadata": {},
   "outputs": [],
   "source": [
    "quantidade = 0\n",
    "while (quantidade <= 0):\n",
    "    quantidade = int(input('Voce quer informar quantos numeros: '))\n",
    "    if (quantidade <= 0):\n",
    "        print('Quantidade deve ser positiva!')\n",
    "\n",
    "soma = 0\n",
    "for i in range(0, quantidade):\n",
    "    numero = int(input('Informe um numero: '))\n",
    "    if ('maior' not in vars()) or (numero > maior):\n",
    "        maior = numero\n",
    "\n",
    "    if ('menor' not in vars()) or (numero < menor):\n",
    "        menor = numero\n",
    "\n",
    "    soma += numero\n",
    "\n",
    "print('Menor numero:', menor)\n",
    "print('Maior numero:', maior)\n",
    "print('Soma dos numeros:', soma)"
   ]
  },
  {
   "cell_type": "markdown",
   "metadata": {},
   "source": [
    "# 19"
   ]
  },
  {
   "cell_type": "code",
   "execution_count": null,
   "metadata": {},
   "outputs": [],
   "source": [
    "quantidade = 0 #corrigir\n",
    "while (quantidade <= 0):\n",
    "    quantidade = int(input('Voce quer informar quantos numeros: '))\n",
    "    if (quantidade <= 0):\n",
    "        print('Quantidade deve ser positiva!')\n",
    "\n",
    "soma = 0\n",
    "for i in range(0, quantidade):\n",
    "    numero = 1001\n",
    "    while (numero > 1000):\n",
    "        numero = int(input('Informe um numero: '))\n",
    "        if (numero > 1000):\n",
    "            print('O numero deve ser menor ou igual a 1000!')\n",
    "    if ('maior' not in vars()) or (numero > maior):\n",
    "        maior = numero\n",
    "\n",
    "    if ('menor' not in vars()) or (numero < menor):\n",
    "        menor = numero\n",
    "\n",
    "    soma += numero\n",
    "\n",
    "print('Menor numero:', menor)\n",
    "print('Maior numero:', maior)\n",
    "print('Soma dos numeros:', soma)"
   ]
  },
  {
   "cell_type": "markdown",
   "metadata": {},
   "source": [
    "# 20"
   ]
  },
  {
   "cell_type": "code",
   "execution_count": null,
   "metadata": {},
   "outputs": [],
   "source": [
    "quantidade = 0\n",
    "while (quantidade <= 0):\n",
    "    quantidade = int(input('Voce quer a fatorial de quantos numeros: '))\n",
    "    if (quantidade <= 0):\n",
    "        print('Quantidade deve ser positiva!')\n",
    "\n",
    "for i in range(0, quantidade):\n",
    "    termo = 0\n",
    "    while (termo <= 0) or (termo > 16):\n",
    "        termo = int(input('Voce quer o fatorial de qual termo: '))\n",
    "        if (termo <= 0):\n",
    "            print('O termo deve ser positivo!')\n",
    "        if (termo > 16):\n",
    "            print('O termo deve ser menor que 16')\n",
    "\n",
    "    fatorial = 1\n",
    "    for i in range(1, termo + 1):\n",
    "        fatorial *= i\n",
    "\n",
    "    print(fatorial)"
   ]
  },
  {
   "cell_type": "markdown",
   "metadata": {},
   "source": [
    "# 21"
   ]
  },
  {
   "cell_type": "code",
   "execution_count": null,
   "metadata": {},
   "outputs": [],
   "source": [
    "numero = 0\n",
    "while (numero <= 0):\n",
    "    numero = int(input('Voce quer ver se qual numero eh primo: '))\n",
    "    if (numero <= 0):\n",
    "        print('O numero deve ser positivo!')\n",
    "\n",
    "primo = True\n",
    "for i in range(2, numero / 2 + 1):\n",
    "    if (numero % i == 0):\n",
    "        primo = False\n",
    "\n",
    "if (primo):\n",
    "    print('O numero eh primo')\n",
    "else:\n",
    "    print('O numero nao eh primo')"
   ]
  },
  {
   "cell_type": "markdown",
   "metadata": {},
   "source": [
    "# 22"
   ]
  },
  {
   "cell_type": "code",
   "execution_count": null,
   "metadata": {},
   "outputs": [],
   "source": [
    "numero = 0 #corrigir\n",
    "while (numero <= 0):\n",
    "    numero = int(input('Voce quer ver se qual numero eh primo: '))\n",
    "    if (numero <= 0):\n",
    "        print('O numero deve ser positivo!')\n",
    "\n",
    "primo = True\n",
    "for i in range(2, numero / 2 + 1):\n",
    "    if (numero % i == 0):\n",
    "        primo = False\n",
    "        break\n",
    "\n",
    "if (primo):\n",
    "    print('O numero eh primo')\n",
    "else:\n",
    "    print('O numero nao eh primo')\n",
    "    print('Ele eh divisivel por',)\n",
    "    for i in range(1, numero + 1):\n",
    "        if (numero % i == 0):\n",
    "            print(i,)"
   ]
  },
  {
   "cell_type": "markdown",
   "metadata": {},
   "source": [
    "# 23"
   ]
  },
  {
   "cell_type": "code",
   "execution_count": null,
   "metadata": {},
   "outputs": [],
   "source": [
    "quantidade = 0\n",
    "while (quantidade <= 0):\n",
    "    quantidade = int(\n",
    "        input('Voce quer saber os primeiros quantos numeros: '))\n",
    "    if (quantidade <= 0):\n",
    "        print('A quandidade deve ser positiva!')\n",
    "\n",
    "quantidadeDivisoes = 0\n",
    "for numero in range(1, quantidade + 1):\n",
    "    primo = True\n",
    "    for i in range(2, numero / 2 + 1):\n",
    "        quantidadeDivisoes += 1\n",
    "        if (numero % i == 0):\n",
    "            primo = False\n",
    "            break\n",
    "\n",
    "    if (primo):\n",
    "        print numero,\n",
    "\n",
    "print('\\nQuantidade de divisoes:', quantidadeDivisoes)"
   ]
  },
  {
   "cell_type": "markdown",
   "metadata": {},
   "source": [
    "# 24"
   ]
  },
  {
   "cell_type": "code",
   "execution_count": null,
   "metadata": {},
   "outputs": [],
   "source": [
    "quantidade = 0\n",
    "while (quantidade <= 0):\n",
    "    quantidade = int(input('Voce quer saber a media de quantas notas: '))\n",
    "    if (quantidade <= 0):\n",
    "        print('A quandidade deve ser positiva!')\n",
    "\n",
    "soma = 0.0\n",
    "for i in range(0, quantidade):\n",
    "    nota = -1\n",
    "    while (nota < 0) or (nota > 10):\n",
    "        nota = float(input('Informe a nota: '))\n",
    "        if (nota < 0) or (nota > 10):\n",
    "            print('A nota deve estar entre 0 e 10')\n",
    "    soma += nota\n",
    "\n",
    "print('A media das notas eh', (soma / float(quantidade)))"
   ]
  },
  {
   "cell_type": "markdown",
   "metadata": {},
   "source": [
    "# 25"
   ]
  },
  {
   "cell_type": "code",
   "execution_count": null,
   "metadata": {},
   "outputs": [],
   "source": [
    "quantidade = 0\n",
    "while (quantidade <= 0):\n",
    "    quantidade = int(input('Informe a quantidade de pessoas: '))\n",
    "    if (quantidade <= 0):\n",
    "        print('A quandidade deve ser positiva!')\n",
    "\n",
    "soma = 0\n",
    "for i in range(0, quantidade):\n",
    "    idade = -1\n",
    "    while (idade < 0):\n",
    "        idade = int(input('Informe a idade da pessoa: '))\n",
    "        if (idade < 0):\n",
    "            print('A idade nao pode ser negativa')\n",
    "    soma += idade\n",
    "\n",
    "media = soma / float(quantidade)\n",
    "\n",
    "if (media <= 25):\n",
    "    print('A turma eh jovem')\n",
    "elif (media <= 60):\n",
    "    print('A turma eh adulta')\n",
    "else:\n",
    "    print('A turma eh idosa')"
   ]
  },
  {
   "cell_type": "markdown",
   "metadata": {},
   "source": [
    "# 26"
   ]
  },
  {
   "cell_type": "code",
   "execution_count": null,
   "metadata": {},
   "outputs": [],
   "source": [
    "quantidade = 0\n",
    "while (quantidade <= 0):\n",
    "    quantidade = int(input('Informe a quantidade de eleitores: '))\n",
    "    if (quantidade <= 0):\n",
    "        print('A quandidade deve ser positiva!')\n",
    "\n",
    "votosCandidato1 = 0\n",
    "votosCandidato2 = 0\n",
    "votosCandidato3 = 0\n",
    "for i in range(0, quantidade):\n",
    "    voto = 0\n",
    "    while (voto < 1) or (voto > 3):\n",
    "        voto = int(input('Voce quer votar no candidato 1, 2 ou 3: '))\n",
    "        if (voto < 1) or (voto > 3):\n",
    "            print('Candidato invalido! Vote novamente')\n",
    "    if (voto == 1):\n",
    "        votosCandidato1 += 1\n",
    "    elif (voto == 2):\n",
    "        votosCandidato2 += 1\n",
    "    else:\n",
    "        votosCandidato3 += 1\n",
    "\n",
    "print('Resultado:')\n",
    "print('Candidato 1:', votosCandidato1)\n",
    "print('Candidato 2:', votosCandidato2)\n",
    "print('Candidato 3:', votosCandidato3)"
   ]
  },
  {
   "cell_type": "markdown",
   "metadata": {},
   "source": [
    "# 27"
   ]
  },
  {
   "cell_type": "code",
   "execution_count": null,
   "metadata": {},
   "outputs": [],
   "source": [
    "quantidade = 0\n",
    "while (quantidade <= 0):\n",
    "    quantidade = int(input('Informe a quantidade de turmas: '))\n",
    "    if (quantidade <= 0):\n",
    "        print('A quandidade deve ser positiva!')\n",
    "\n",
    "soma = 0\n",
    "for i in range(0, quantidade):\n",
    "    alunos = -1\n",
    "    while (alunos < 0) or (alunos > 40):\n",
    "        alunos = int(input('Informe a quantidade de alunos da turma: '))\n",
    "        if (alunos < 0) or (alunos > 40):\n",
    "            print('A turma deve ter ate 40 alunos')\n",
    "    soma += alunos\n",
    "\n",
    "media = soma / float(quantidade)\n",
    "\n",
    "print('Media de alunos por turma',media)"
   ]
  },
  {
   "cell_type": "markdown",
   "metadata": {},
   "source": [
    "# 28"
   ]
  },
  {
   "cell_type": "code",
   "execution_count": null,
   "metadata": {},
   "outputs": [],
   "source": [
    "quantidade = 0\n",
    "while (quantidade <= 0):\n",
    "    quantidade = int(input('Informe a quantidade de CDs: '))\n",
    "    if (quantidade <= 0):\n",
    "        print('A quandidade deve ser positiva!')\n",
    "\n",
    "soma = 0\n",
    "for i in range(0, quantidade):\n",
    "    valor = -1\n",
    "    while (valor < 0):\n",
    "        valor = float(input('Informe o valor pago pelo CD: '))\n",
    "        if (valor < 0):\n",
    "            print('O valor deve ser maior ou igual a 0')\n",
    "    soma += valor\n",
    "\n",
    "media = soma / float(quantidade)\n",
    "\n",
    "print('Quantidade de CDs:', quantidade)\n",
    "print('Media do valor dos CDs:', media)"
   ]
  },
  {
   "cell_type": "markdown",
   "metadata": {},
   "source": [
    "# 29"
   ]
  },
  {
   "cell_type": "code",
   "execution_count": null,
   "metadata": {},
   "outputs": [],
   "source": [
    "print('Loja Quase Dois - Tabela de precos')\n",
    "for i in range(1, 51):\n",
    "    print('%d - R$ %.2f' % (i, i * 1.99))"
   ]
  },
  {
   "cell_type": "markdown",
   "metadata": {},
   "source": [
    "# 30"
   ]
  },
  {
   "cell_type": "code",
   "execution_count": null,
   "metadata": {},
   "outputs": [],
   "source": [
    "precoPao = float(input('Preco do pao: '))\n",
    "\n",
    "print('Panificadora Pao de Ontem - Tabela de precos')\n",
    "for i in range(1, 51):\n",
    "    print('%d - R$ %.2f' % (i, i * precoPao))"
   ]
  },
  {
   "cell_type": "markdown",
   "metadata": {},
   "source": [
    "# 31"
   ]
  },
  {
   "cell_type": "code",
   "execution_count": null,
   "metadata": {},
   "outputs": [],
   "source": [
    "soma = 0.0\n",
    "quantidade = 1\n",
    "precoMercadoria = 1\n",
    "while (precoMercadoria != 0):\n",
    "    precoMercadoria = float(raw_input('Produto %d: R$ ' % (quantidade)))\n",
    "    soma += precoMercadoria\n",
    "\n",
    "print('Total: R$ %.2f' % soma)\n",
    "pagamento = float(input('Dinheiro: R$ '))\n",
    "\n",
    "print('Troco: R$ %.2f' % (pagamento - soma))"
   ]
  },
  {
   "cell_type": "markdown",
   "metadata": {},
   "source": [
    "# 32"
   ]
  },
  {
   "cell_type": "code",
   "execution_count": null,
   "metadata": {},
   "outputs": [],
   "source": [
    "a = int(input('Insira um numero inteiro: '))\n",
    "i = 1\n",
    "res = 1\n",
    "while i <= a:\n",
    "    res = res * i\n",
    "    i = i + 1\n",
    "\n",
    "print(res)"
   ]
  },
  {
   "cell_type": "markdown",
   "metadata": {},
   "source": [
    "# 33"
   ]
  },
  {
   "cell_type": "code",
   "execution_count": null,
   "metadata": {},
   "outputs": [],
   "source": [
    "quantidade = 0\n",
    "while (quantidade <= 0):\n",
    "    quantidade = int(input('Informe a quantidade de temperaturas: '))\n",
    "    if (quantidade <= 0):\n",
    "        print 'A quantidade deve ser positiva!'\n",
    "\n",
    "soma = 0.0\n",
    "for i in range(0, quantidade):\n",
    "    temperatura = float(input('Informe a temperatura: '))\n",
    "    if ('maior' not in vars()) or (temperatura > maior):\n",
    "        maior = temperatura\n",
    "    if ('menor' not in vars()) or (temperatura < menor):\n",
    "        menor = temperatura\n",
    "    soma += temperatura\n",
    "\n",
    "media = soma / float(quantidade)\n",
    "\n",
    "print('Media da temperatura: ', media)\n",
    "print('Maior temperatura: ', maior)\n",
    "print('Menor temperatura: ', menor)"
   ]
  },
  {
   "cell_type": "markdown",
   "metadata": {},
   "source": [
    "# 36"
   ]
  },
  {
   "cell_type": "code",
   "execution_count": null,
   "metadata": {},
   "outputs": [],
   "source": [
    "a = int(input('Montar a tabuada de:  '))\n",
    "b = int(input('Comecar em : '))\n",
    "c = int(input('Terminar em : '))\n",
    "print(\"Tabuada do {} comecando no {} ate o {}\".format(a, b, c))\n",
    "\n",
    "while b <= c:\n",
    "    print(\"{} X {} = {}\".format(a, b, a*b))\n",
    "    b = b + 1"
   ]
  },
  {
   "cell_type": "markdown",
   "metadata": {},
   "source": [
    "# 37"
   ]
  },
  {
   "cell_type": "code",
   "execution_count": 2,
   "metadata": {},
   "outputs": [
    {
     "name": "stdout",
     "output_type": "stream",
     "text": [
      "Informe o codigo do cliente: 200\n",
      "Informe a altura do cliente: 200\n",
      "Informe o peso do cliente:200\n",
      "Informe o codigo do cliente: 100\n",
      "Informe a altura do cliente: 100\n",
      "Informe o peso do cliente:100\n",
      "Informe o codigo do cliente: 0\n",
      "O cliente mais alto eh o de codigo 200 com 200.000000\n",
      "O cliente mais baixo eh o de codigo 10 com 10.000000\n",
      "O cliente mais magro eh o de codigo 10 com 10.000000\n",
      "O cliente mais gordo eh o de codigo 200 com 200.000000\n",
      "Media da altura dos clientes: 150.00\n",
      "Media dos pesos dos clientes: 150.00\n"
     ]
    }
   ],
   "source": [
    "codigo = -1\n",
    "totalClientes = 0\n",
    "somaAlturas = 0.0\n",
    "somaPesos = 0.0\n",
    "while (codigo != 0):\n",
    "    codigo = int(input('Informe o codigo do cliente: '))\n",
    "    if (codigo != 0):\n",
    "        altura = float(input('Informe a altura do cliente: '))\n",
    "        peso = float(input('Informe o peso do cliente:'))\n",
    "        totalClientes += 1\n",
    "        somaAlturas += altura\n",
    "        somaPesos += peso\n",
    "        if ('maisAlto' not in vars()) or (altura > maisAlto):\n",
    "            maisAlto = altura\n",
    "            codigoMaisAlto = codigo\n",
    "        if ('maisBaixo' not in vars()) or (altura < maisBaixo):\n",
    "            maisBaixo = altura\n",
    "            codigoMaisBaixo = codigo\n",
    "        if ('maisGordo' not in vars()) or (peso > maisGordo):\n",
    "            maisGordo = peso\n",
    "            codigoMaisGordo = codigo\n",
    "        if ('maisMagro' not in vars()) or (peso < maisMagro):\n",
    "            maisMagro = peso\n",
    "            codigoMaisMagro = codigo\n",
    "\n",
    "print('O cliente mais alto eh o de codigo %i com %f' % (codigoMaisAlto, maisAlto))\n",
    "print('O cliente mais baixo eh o de codigo %i com %f' % (codigoMaisBaixo, maisBaixo))\n",
    "print('O cliente mais magro eh o de codigo %i com %f' % (codigoMaisMagro, maisMagro))\n",
    "print('O cliente mais gordo eh o de codigo %i com %f' % (codigoMaisGordo, maisGordo))\n",
    "\n",
    "print('Media da altura dos clientes: %.2f' % (somaAlturas / float(totalClientes)))\n",
    "print('Media dos pesos dos clientes: %.2f' % (somaPesos / float(totalClientes)))"
   ]
  },
  {
   "cell_type": "markdown",
   "metadata": {},
   "source": [
    "# 38"
   ]
  },
  {
   "cell_type": "code",
   "execution_count": null,
   "metadata": {},
   "outputs": [],
   "source": [
    "salario = 1000.0\n",
    "percentual = 1.5\n",
    "ano = 1996\n",
    "\n",
    "while (ano <= 2014):\n",
    "    print('Ano (%i) Percentual (%.2f) Salario (%.2f)' % (ano, percentual, salario))\n",
    "    salario += (salario * (percentual / 100.0))\n",
    "    percentual *= 2\n",
    "    ano += 1\n",
    "\n",
    "print('Salario atual do funcionario: %.2f' % (salario))"
   ]
  },
  {
   "cell_type": "markdown",
   "metadata": {},
   "source": [
    "# 39"
   ]
  },
  {
   "cell_type": "code",
   "execution_count": null,
   "metadata": {},
   "outputs": [],
   "source": [
    "for i in range(0, 10):\n",
    "    codigo = int(input('Informe o numero do aluno: '))\n",
    "    altura = int(input('Informe a altura do aluno: '))\n",
    "    if ('maisAlto' not in vars()) or (altura > maisAlto):\n",
    "        maisAlto = altura\n",
    "        codigoMaisAlto = codigo\n",
    "    if ('maisBaixo' not in vars()) or (altura < maisBaixo):\n",
    "        maisBaixo = altura\n",
    "        codigoMaisBaixo = codigo\n",
    "\n",
    "print('O aluno mais alto eh o de codigo %i com %f' %\\\n",
    "    (codigoMaisAlto, maisAlto))\n",
    "print('O aluno mais baixo eh o de codigo %i com %f' %\\\n",
    "    (codigoMaisBaixo, maisBaixo))"
   ]
  },
  {
   "cell_type": "markdown",
   "metadata": {},
   "source": [
    "# 40"
   ]
  },
  {
   "cell_type": "code",
   "execution_count": null,
   "metadata": {},
   "outputs": [],
   "source": [
    "somaVeiculos = 0\n",
    "somaAcidentes = 0\n",
    "somaAcidentesMenos2Mil = 0\n",
    "totalCidadesMenos2Mil = 0\n",
    "\n",
    "for i in range(0, 5):\n",
    "    codigo = int(input('Informe o codigo da cidade: '))\n",
    "    veiculos = int(input('Informe o numero de veiculos de passeio: '))\n",
    "    acidentes = int(input('Informe a quantidade de acidentes em 1999: '))\n",
    "\n",
    "    indiceAcidentes = acidentes / float(veiculos)\n",
    "    somaVeiculos += veiculos\n",
    "\n",
    "    if ('maisAcidentes' not in vars()) or (indiceAcidentes > maisAcidentes):\n",
    "        maisAcidentes = indiceAcidentes\n",
    "        codigoMaisAcidentes = codigo\n",
    "    if ('menosAcidentes' not in vars()) or (indiceAcidentes < menosAcidentes):\n",
    "        menosAcidentes = indiceAcidentes\n",
    "        codigoMenosAcidentes = codigo\n",
    "\n",
    "    if (veiculos < 2000):\n",
    "        somaAcidentesMenos2Mil += acidentes\n",
    "        totalCidadesMenos2Mil += 1\n",
    "\n",
    "print('O cidade com maior indice de acidentes eh %i com %.2f' %\\\n",
    "    (codigoMaisAcidentes, maisAcidentes))\n",
    "print('O cidade com menor indice de acidentes eh %i com %.2f' %\\\n",
    "    (codigoMenosAcidentes, menosAcidentes))\n",
    "print('A media de veiculos nas cidades eh %.2f' % (somaVeiculos / 5.0)\n",
    "print('A media de acidentes de transito nas cidades com menos '\\\n",
    "    'de 2k veiculos eh %.2f' %\\\n",
    "    (somaAcidentesMenos2Mil / float(totalCidadesMenos2Mil)))"
   ]
  },
  {
   "cell_type": "markdown",
   "metadata": {},
   "source": [
    "# 41"
   ]
  },
  {
   "cell_type": "code",
   "execution_count": null,
   "metadata": {},
   "outputs": [],
   "source": [
    "divida = float(input('Informe o valor da divida: '))\n",
    "\n",
    "print(\\\n",
    "    'Valor da divida\\tValor dos Juros\\t'\\\n",
    "    'Quantidade de Parcelas\\tValor da Parcela')\n",
    "juros = 0\n",
    "for i in [1, 3, 6, 9, 12]:\n",
    "    valorJuros = (divida * (juros / 100.0))\n",
    "    valorDivida = divida + valorJuros\n",
    "    valorParcela = valorDivida / float(i)\n",
    "    print('R$ %.2f\\tR$ %.2f\\t%i\\tR$ %.2f' %\\\n",
    "        (valorDivida, valorJuros, i, valorParcela))\n",
    "    if (i == 1):\n",
    "        juros = 10\n",
    "    else:\n",
    "        juros += 5"
   ]
  },
  {
   "cell_type": "markdown",
   "metadata": {},
   "source": [
    "# 42"
   ]
  },
  {
   "cell_type": "code",
   "execution_count": null,
   "metadata": {},
   "outputs": [],
   "source": [
    "i = 1\n",
    "cont1 = 0\n",
    "cont2 = 0\n",
    "cont3 = 0\n",
    "cont4 = -1\n",
    "while i > 0 and i < 100:\n",
    "    i = int(input('Digite um numero :'))\n",
    "    if i >= 0 and i <= 25:\n",
    "        cont1 = cont1 + 1\n",
    "    elif i > 25 and i <= 50:\n",
    "        cont2 = cont2 + 1\n",
    "    elif i > 50 and i <= 75:\n",
    "        cont3 = cont3 + 1\n",
    "    else:\n",
    "        cont4 = cont4 + 1\n",
    "\n",
    "print(\"\"\"Temos\\n \n",
    "{} no intervalo 1\\n\n",
    "{} no intervalo 2\\n\n",
    "{} no intervalo 3\\n\n",
    "{} no intervalo 4\\n\"\"\".format(cont1,cont2,cont3,cont4))"
   ]
  },
  {
   "cell_type": "markdown",
   "metadata": {},
   "source": [
    "# 43"
   ]
  },
  {
   "cell_type": "code",
   "execution_count": null,
   "metadata": {},
   "outputs": [],
   "source": [
    "print('Especificacao   Codigo  Preco')\n",
    "print('Cachorro Quente 100     R$ 1,20')\n",
    "print('Bauru Simples   101     R$ 1,30')\n",
    "print('Bauru com Ovo   102     R$ 1,50')\n",
    "print('Hamburger       103     R$ 1,20')\n",
    "print('Cheeseburger    104     R$ 1,30')\n",
    "print('Refrigerante    105     R$ 1,00')\n",
    "\n",
    "codigo = 100\n",
    "valorTotal = 0\n",
    "while (codigo >= 100 and codigo <= 105):\n",
    "    codigo = int(\n",
    "        input(\n",
    "            'Informe o codigo do produto ou um codigo invalido para encerrar: '\n",
    "        ))\n",
    "    if (codigo >= 100 and codigo <= 105):\n",
    "        quantidade = int(input('Informe a quantidade: '))\n",
    "        if (codigo == 100):\n",
    "            valorItem = 1.20 * quantidade\n",
    "        elif (codigo == 101):\n",
    "            valorItem = 1.30 * quantidade\n",
    "        elif (codigo == 102):\n",
    "            valorItem = 1.50 * quantidade\n",
    "        elif (codigo == 103):\n",
    "            valorItem = 1.20 * quantidade\n",
    "        elif (codigo == 104):\n",
    "            valorItem = 1.30 * quantidade\n",
    "        elif (codigo == 105):\n",
    "            valorItem = 1.0 * quantidade\n",
    "        print('Valor do item: %.2f' % valorItem)\n",
    "        valorTotal += valorItem\n",
    "\n",
    "print('Valor Total: %.2f' % (valorTotal))"
   ]
  },
  {
   "cell_type": "markdown",
   "metadata": {},
   "source": [
    "# 44"
   ]
  },
  {
   "cell_type": "code",
   "execution_count": null,
   "metadata": {},
   "outputs": [],
   "source": [
    "print('URNA ELETRONICA')\n",
    "print('1 - Joao')\n",
    "print('2 - Jose')\n",
    "print('3 - Jaco')\n",
    "print('4 - Jobe')\n",
    "print('5 - Voto Nulo')\n",
    "print('6 - Voto em Branco')\n",
    "\n",
    "opcao1 = opcao2 = opcao3 = opcao4 = opcao5 = opcao6 = 0\n",
    "totalVotos = 0\n",
    "codigo = 1\n",
    "while (codigo >= 1 and codigo <= 6):\n",
    "    codigo = int(input('Informe a opcao ou zero para encerrar: '))\n",
    "    if (codigo >= 1 and codigo <= 6):\n",
    "        if (codigo == 1):\n",
    "            opcao1 += 1\n",
    "        elif (codigo == 2):\n",
    "            opcao2 += 1\n",
    "        elif (codigo == 3):\n",
    "            opcao3 += 1\n",
    "        elif (codigo == 4):\n",
    "            opcao4 += 1\n",
    "        elif (codigo == 5):\n",
    "            opcao5 += 1\n",
    "        elif (codigo == 6):\n",
    "            opcao6 += 1\n",
    "        totalVotos += 1\n",
    "\n",
    "print('RESULTADO:')\n",
    "print('1 - Joao - %d votos' % (opcao1))\n",
    "print('2 - Jose - %d votos' % (opcao2))\n",
    "print('3 - Jaco - %d votos' % (opcao3))\n",
    "print('4 - Jobe - %d votos' % (opcao4))\n",
    "print('5 - %d votos nulos' % (opcao5))\n",
    "print('6 - %d votos em branco' % (opcao6))\n",
    "print('Percentual de votos nulos: %.2f%%' % (opcao5 / float(totalVotos) * 100))\n",
    "print('Percentual de votos em branco: %.2f%%' %\\\n",
    "    (opcao6 / float(totalVotos) * 100))"
   ]
  },
  {
   "cell_type": "markdown",
   "metadata": {},
   "source": [
    "# 45"
   ]
  },
  {
   "cell_type": "code",
   "execution_count": null,
   "metadata": {},
   "outputs": [],
   "source": [
    "continua = 'S'\n",
    "totalAlunos = 0\n",
    "somaAcertos = 0\n",
    "\n",
    "while (continua.upper() == 'S'):\n",
    "    acertos = 0\n",
    "    print('Informe a resposta de cada questao:')\n",
    "    resposta = input('Questao 1: ').upper()\n",
    "    if (resposta == 'A'):\n",
    "        acertos += 1\n",
    "    resposta = input('Questao 2: ').upper()\n",
    "    if (resposta == 'B'):\n",
    "        acertos += 1\n",
    "    resposta = input('Questao 3: ').upper()\n",
    "    if (resposta == 'C'):\n",
    "        acertos += 1\n",
    "    resposta = input('Questao 4: ').upper()\n",
    "    if (resposta == 'D'):\n",
    "        acertos += 1\n",
    "    resposta = input('Questao 5: ').upper()\n",
    "    if (resposta == 'E'):\n",
    "        acertos += 1\n",
    "    resposta = input('Questao 6: ').upper()\n",
    "    if (resposta == 'E'):\n",
    "        acertos += 1\n",
    "    resposta = input('Questao 7: ').upper()\n",
    "    if (resposta == 'D'):\n",
    "        acertos += 1\n",
    "    resposta = input('Questao 8: ').upper()\n",
    "    if (resposta == 'C'):\n",
    "        acertos += 1\n",
    "    resposta = input('Questao 9: ').upper()\n",
    "    if (resposta == 'B'):\n",
    "        acertos += 1\n",
    "    resposta = input('Questao 10: ').upper()\n",
    "    if (resposta == 'A'):\n",
    "        acertos += 1\n",
    "\n",
    "    somaAcertos += acertos\n",
    "    print('Total de Acertos: %d' % acertos)\n",
    "\n",
    "    if ('maiorAcerto' not in vars()) or (acertos > maiorAcerto):\n",
    "        maiorAcerto = acertos\n",
    "    if ('menorAcerto' not in vars()) or (acertos < menorAcerto):\n",
    "        menorAcerto = acertos\n",
    "\n",
    "    totalAlunos += 1\n",
    "\n",
    "    continua = input('Deseja continuar (S/N): ').upper()\n",
    "\n",
    "print('Maior acerto: %d' % maiorAcerto)\n",
    "print('Menor acerto: %d' % menorAcerto)\n",
    "print('Total de alunos que utilizaram o sistema: %d' % totalAlunos)\n",
    "print('Media de acertos: %.2f' % (somaAcertos / float(totalAlunos)))"
   ]
  },
  {
   "cell_type": "markdown",
   "metadata": {},
   "source": [
    "# 46"
   ]
  },
  {
   "cell_type": "code",
   "execution_count": null,
   "metadata": {},
   "outputs": [],
   "source": [
    "nomeAtleta = ' '\n",
    "\n",
    "while (nomeAtleta != ''):\n",
    "    nomeAtleta = input('Atleta: ')\n",
    "\n",
    "    if (nomeAtleta != ''):\n",
    "        primeiroSalto = float(input('Primeiro Salto: '))\n",
    "        segundoSalto = float(input('Segundo Salto: '))\n",
    "        terceiroSalto = float(input('Terceiro Salto: '))\n",
    "        quartoSalto = float(input('Quarto Salto: '))\n",
    "        quintoSalto = float(input('Quinto Salto: '))\n",
    "\n",
    "        somaSaltos = primeiroSalto + segundoSalto + \\\n",
    "            terceiroSalto + quartoSalto + quintoSalto\n",
    "        if (primeiroSalto >= segundoSalto) and \\\n",
    "           (primeiroSalto >= terceiroSalto) and \\\n",
    "           (primeiroSalto >= quartoSalto) and \\\n",
    "           (primeiroSalto >= quintoSalto):\n",
    "            melhorSalto = primeiroSalto\n",
    "        elif (segundoSalto >= terceiroSalto) and \\\n",
    "             (terceiroSalto >= quartoSalto) and \\\n",
    "             (quartoSalto >= quintoSalto):\n",
    "            melhorSalto = segundoSalto\n",
    "        elif (terceiroSalto >= quartoSalto) and \\\n",
    "             (terceiroSalto >= quintoSalto):\n",
    "            melhorSalto = terceiroSalto\n",
    "        elif (quartoSalto >= quintoSalto):\n",
    "            melhorSalto = quartoSalto\n",
    "        else:\n",
    "            melhorSalto = quintoSalto\n",
    "        somaSaltos -= melhorSalto\n",
    "\n",
    "        if (primeiroSalto <= segundoSalto) and \\\n",
    "           (primeiroSalto <= terceiroSalto) and \\\n",
    "           (primeiroSalto <= quartoSalto) and \\\n",
    "           (primeiroSalto <= quintoSalto):\n",
    "            piorSalto = primeiroSalto\n",
    "        elif (segundoSalto <= terceiroSalto) and \\\n",
    "             (terceiroSalto <= quartoSalto) and \\\n",
    "             (quartoSalto <= quintoSalto):\n",
    "            piorSalto = segundoSalto\n",
    "        elif (terceiroSalto <= quartoSalto) and (terceiroSalto <= quintoSalto):\n",
    "            piorSalto = terceiroSalto\n",
    "        elif (quartoSalto <= quintoSalto):\n",
    "            piorSalto = quartoSalto\n",
    "        else:\n",
    "            piorSalto = quintoSalto\n",
    "        somaSaltos -= piorSalto\n",
    "\n",
    "        print('Melhor Salto: %.2f m' % (melhorSalto))\n",
    "        print('Pior Salto: %.2f m' % (piorSalto))\n",
    "        print('Media dos demais saltos: %.2f m' % (somaSaltos / 3.0))\n",
    "\n",
    "        print('Resultado Final: ')\n",
    "        print('%s: %.2f m' % (nomeAtleta, (somaSaltos / 3.0)))"
   ]
  },
  {
   "cell_type": "markdown",
   "metadata": {},
   "source": [
    "# 60"
   ]
  },
  {
   "cell_type": "code",
   "execution_count": null,
   "metadata": {},
   "outputs": [],
   "source": [
    "nomeAtleta = ' '\n",
    "somaNotas = 0\n",
    "\n",
    "atleta = input('Atleta: ')\n",
    "\n",
    "for i in range(0, 7):\n",
    "\n",
    "    nota = float(input('Nota: '))\n",
    "    somaNotas += nota\n",
    "\n",
    "    if ('maiorNota' not in vars()) or (nota > maiorNota):\n",
    "        maiorNota = nota\n",
    "\n",
    "    if ('menorNota' not in vars()) or (nota < menorNota):\n",
    "        menorNota = nota\n",
    "\n",
    "somaNotas -= maiorNota\n",
    "somaNotas -= menorNota\n",
    "\n",
    "print('\\nResultado final:')\n",
    "print('Atleta: %s' % nomeAtleta)\n",
    "print('Melhor nota: %.2f' % maiorNota)\n",
    "print('Pior nota: %.2f' % menorNota)\n",
    "print('Media: %.2f' % (somaNotas / 5.0))"
   ]
  },
  {
   "cell_type": "code",
   "execution_count": null,
   "metadata": {},
   "outputs": [],
   "source": []
  },
  {
   "cell_type": "code",
   "execution_count": null,
   "metadata": {},
   "outputs": [],
   "source": [
    "termos = int(input('Informe a quantidade de termos que deseja: '))\n",
    "\n",
    "s = 0.0\n",
    "denominador = 1\n",
    "for i in range(1, termos + 1):\n",
    "    s += i / denominador\n",
    "    denominador += 2\n",
    "\n",
    "print('Resultado: %.2f' % s)"
   ]
  }
 ],
 "metadata": {
  "kernelspec": {
   "display_name": "Python 3",
   "language": "python",
   "name": "python3"
  },
  "language_info": {
   "codemirror_mode": {
    "name": "ipython",
    "version": 3
   },
   "file_extension": ".py",
   "mimetype": "text/x-python",
   "name": "python",
   "nbconvert_exporter": "python",
   "pygments_lexer": "ipython3",
   "version": "3.7.4"
  }
 },
 "nbformat": 4,
 "nbformat_minor": 2
}
