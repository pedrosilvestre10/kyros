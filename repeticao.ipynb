{
 "cells": [
  {
   "cell_type": "markdown",
   "metadata": {},
   "source": [
    "32.\tFaça um programa que calcule o fatorial de um número inteiro fornecido pelo usuário. Ex.: 5!=5.4.3.2.1=120. A saída deve ser conforme o exemplo abaixo:\n",
    "a.\tFatorial de: 5\n",
    "b.\t5! =  5 . 4 . 3 . 2 . 1 = 120"
   ]
  },
  {
   "cell_type": "code",
   "execution_count": null,
   "metadata": {},
   "outputs": [],
   "source": [
    "a = int(input('Insira um numero inteiro: '))\n",
    "i = 1\n",
    "res = 1\n",
    "while i <= a:\n",
    "    res = res * i\n",
    "    i = i + 1\n",
    "\n",
    "print(res)"
   ]
  },
  {
   "cell_type": "markdown",
   "metadata": {},
   "source": [
    "36.\tDesenvolva um programa que faça a tabuada de um número qualquer inteiro que será digitado pelo usuário, mas a tabuada não deve necessariamente iniciar em 1 e terminar em 10, o valor inicial e final devem ser informados também pelo usuário, conforme exemplo abaixo:"
   ]
  },
  {
   "cell_type": "code",
   "execution_count": null,
   "metadata": {},
   "outputs": [],
   "source": [
    "a = int(input('Montar a tabuada de:  '))\n",
    "b = int(input('Comecar em : '))\n",
    "c = int(input('Terminar em : '))\n",
    "print(\"Tabuada do {} comecando no {} ate o {}\".format(a, b, c))\n",
    "\n",
    "while b <= c:\n",
    "    print(\"{} X {} = {}\".format(a, b, a*b))\n",
    "    b = b + 1"
   ]
  },
  {
   "cell_type": "markdown",
   "metadata": {},
   "source": [
    "42.\tFaça um programa que leia uma quantidade indeterminada de números positivos e conte quantos deles estão nos seguintes intervalos: [0-25], [26-50], [51-75] e [76-100]. A entrada de dados deverá terminar quando for lido um número negativo."
   ]
  },
  {
   "cell_type": "code",
   "execution_count": null,
   "metadata": {},
   "outputs": [],
   "source": [
    "i = 1\n",
    "cont1 = 0\n",
    "cont2 = 0\n",
    "cont3 = 0\n",
    "cont4 = -1\n",
    "while i > 0 and i < 100:\n",
    "    i = int(input('Digite um numero :'))\n",
    "    if i >= 0 and i <= 25:\n",
    "        cont1 = cont1 + 1\n",
    "    elif i > 25 and i <= 50:\n",
    "        cont2 = cont2 + 1\n",
    "    elif i > 50 and i <= 75:\n",
    "        cont3 = cont3 + 1\n",
    "    else:\n",
    "        cont4 = cont4 + 1\n",
    "\n",
    "print(\"\"\"Temos\\n \n",
    "{} no intervalo 1\\n\n",
    "{} no intervalo 2\\n\n",
    "{} no intervalo 3\\n\n",
    "{} no intervalo 4\\n\"\"\".format(cont1,cont2,cont3,cont4))"
   ]
  },
  {
   "cell_type": "markdown",
   "metadata": {},
   "source": [
    "7.\tFaça um programa que leia 5 números e informe o maior número."
   ]
  },
  {
   "cell_type": "code",
   "execution_count": null,
   "metadata": {},
   "outputs": [],
   "source": [
    "maior = 0\n",
    "i = 1\n",
    "\n",
    "for i in range(5):\n",
    "    num = int(input('Digite um numero :'))\n",
    "    if num > maior:\n",
    "        maior = num\n",
    "    else:\n",
    "        continue\n",
    "        \n",
    "print(\"O maior numero eh\",maior)"
   ]
  },
  {
   "cell_type": "markdown",
   "metadata": {},
   "source": [
    "24.\tFaça um programa que calcule o mostre a média aritmética de N notas."
   ]
  },
  {
   "cell_type": "code",
   "execution_count": 1,
   "metadata": {},
   "outputs": [
    {
     "name": "stdout",
     "output_type": "stream",
     "text": [
      "Digite a quantidade de notas:2\n",
      "Digite a nota:10\n",
      "Digite a nota:10\n",
      "A media eh  10.0\n"
     ]
    }
   ],
   "source": [
    "num = int(input('Digite a quantidade de notas:'))\n",
    "i = 0\n",
    "total = 0\n",
    "while i < num:\n",
    "    nota = float(input('Digite a nota:'))\n",
    "    total = nota + total\n",
    "    i = i + 1\n",
    "print(\"A media eh \",total/num)"
   ]
  },
  {
   "cell_type": "markdown",
   "metadata": {},
   "source": [
    "60.\tEm uma competição de ginástica, cada atleta recebe votos de sete jurados. A melhor e a pior nota são eliminadas. A sua nota fica sendo a média dos votos restantes. Você deve fazer um programa que receba o nome do ginasta e as notas dos sete jurados alcançadas pelo atleta em sua apresentação e depois informe a sua média, conforme a descrição acima informada (retirar o melhor e o pior salto e depois calcular a média com as notas restantes). As notas não são informados ordenadas. Um exemplo de saída do programa deve ser conforme o exemplo abaixo:"
   ]
  },
  {
   "cell_type": "code",
   "execution_count": 3,
   "metadata": {},
   "outputs": [
    {
     "ename": "SyntaxError",
     "evalue": "invalid syntax (<ipython-input-3-1472ff8fcdf1>, line 8)",
     "output_type": "error",
     "traceback": [
      "\u001b[1;36m  File \u001b[1;32m\"<ipython-input-3-1472ff8fcdf1>\"\u001b[1;36m, line \u001b[1;32m8\u001b[0m\n\u001b[1;33m    total = num + total\u001b[0m\n\u001b[1;37m        ^\u001b[0m\n\u001b[1;31mSyntaxError\u001b[0m\u001b[1;31m:\u001b[0m invalid syntax\n"
     ]
    }
   ],
   "source": [
    "maior = 0\n",
    "menor = 10\n",
    "i = 1\n",
    "total = 0\n",
    "nome = input(\"Digite o nome do atleta\")\n",
    "for i in range(7):\n",
    "    num = float(input('Digite a nota {} :'.format(i))\n",
    "    total = num + total\n",
    "    if num > maior:\n",
    "        maior = num\n",
    "    elif num < menor:\n",
    "        menor = num\n",
    "    else:\n",
    "        continue\n",
    "\n",
    "final = (total - maior - menor)/5\n",
    "print(\"Atleta: \\n\",nome)        \n",
    "print(\"A maior nota eh \\n\",maior)\n",
    "print(\"A menor nota eh \\n\",menor)\n",
    "print(\"Nota final:\", final)"
   ]
  },
  {
   "cell_type": "code",
   "execution_count": null,
   "metadata": {},
   "outputs": [],
   "source": []
  }
 ],
 "metadata": {
  "kernelspec": {
   "display_name": "Python 3",
   "language": "python",
   "name": "python3"
  },
  "language_info": {
   "codemirror_mode": {
    "name": "ipython",
    "version": 3
   },
   "file_extension": ".py",
   "mimetype": "text/x-python",
   "name": "python",
   "nbconvert_exporter": "python",
   "pygments_lexer": "ipython3",
   "version": "3.7.4"
  }
 },
 "nbformat": 4,
 "nbformat_minor": 2
}
